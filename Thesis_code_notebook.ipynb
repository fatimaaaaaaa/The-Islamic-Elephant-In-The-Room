{
  "nbformat": 4,
  "nbformat_minor": 0,
  "metadata": {
    "colab": {
      "provenance": [],
      "authorship_tag": "ABX9TyPytr3FFFeecE7ZPm9QPIyI",
      "include_colab_link": true
    },
    "kernelspec": {
      "name": "python3",
      "display_name": "Python 3"
    },
    "language_info": {
      "name": "python"
    }
  },
  "cells": [
    {
      "cell_type": "markdown",
      "metadata": {
        "id": "view-in-github",
        "colab_type": "text"
      },
      "source": [
        "<a href=\"https://colab.research.google.com/github/fatimaaaaaaa/The-Islamic-Elephant-In-The-Room/blob/main/Thesis_code_notebook.ipynb\" target=\"_parent\"><img src=\"https://colab.research.google.com/assets/colab-badge.svg\" alt=\"Open In Colab\"/></a>"
      ]
    },
    {
      "cell_type": "markdown",
      "metadata": {
        "id": "qzM2Q240dUuo"
      },
      "source": [
        "### imports"
      ]
    },
    {
      "cell_type": "code",
      "execution_count": null,
      "metadata": {
        "id": "gQxbQ2zaJlFL"
      },
      "outputs": [],
      "source": [
        "import lxml\n",
        "import re\n",
        "import os\n",
        "import pandas as pd\n",
        "import polars as pl\n",
        "from tqdm import tqdm\n",
        "import json\n",
        "import numpy as np\n",
        "import spacy\n",
        "import os.path\n",
        "from os import path"
      ]
    },
    {
      "cell_type": "code",
      "execution_count": null,
      "metadata": {
        "id": "xFgHp2I2GEVf"
      },
      "outputs": [],
      "source": [
        "def get_base_url(year):\n",
        "  base_url = f'/content/drive/MyDrive/Thesis/Data/{year}'\n",
        "  return base_url"
      ]
    },
    {
      "cell_type": "markdown",
      "metadata": {
        "id": "RWlwSfySmxrq"
      },
      "source": [
        "### Mount google drive"
      ]
    },
    {
      "cell_type": "code",
      "execution_count": null,
      "metadata": {
        "colab": {
          "base_uri": "https://localhost:8080/"
        },
        "id": "0WTbSjRSK-cU",
        "outputId": "bc957c90-db75-4070-825e-364238e98572"
      },
      "outputs": [
        {
          "output_type": "stream",
          "name": "stdout",
          "text": [
            "Mounted at /content/drive\n"
          ]
        }
      ],
      "source": [
        "from google.colab import drive\n",
        "drive.mount('/content/drive', force_remount=True)"
      ]
    },
    {
      "cell_type": "markdown",
      "metadata": {
        "id": "r8X2ng_PlskO"
      },
      "source": [
        "### Read/save data"
      ]
    },
    {
      "cell_type": "code",
      "execution_count": null,
      "metadata": {
        "id": "9u45fUqUl2PX"
      },
      "outputs": [],
      "source": [
        "def read_data(year, n): # Reading the cleaned, separated data files\n",
        "  df = pl.read_csv(f'/content/drive/MyDrive/Thesis/Data/{year}/{year}-{n}.csv', truncate_ragged_lines=True)\n",
        "  return df"
      ]
    },
    {
      "cell_type": "code",
      "execution_count": null,
      "metadata": {
        "id": "6Qi_A58cssCr"
      },
      "outputs": [],
      "source": [
        "# Save file\n",
        "def save_to_csv(df, filename,polars):\n",
        "  if(polars):\n",
        "    df.write_csv(f'{filename}.csv')\n",
        "  else:\n",
        "    df.to_csv(f'{filename}.csv', encoding='utf-8-sig')"
      ]
    },
    {
      "cell_type": "code",
      "execution_count": null,
      "metadata": {
        "id": "6zPKjJc6cXa3"
      },
      "outputs": [],
      "source": [
        "# read data\n",
        "# base_url = get_base_url(2019)"
      ]
    },
    {
      "cell_type": "markdown",
      "metadata": {
        "id": "7jTliva64Q6Z"
      },
      "source": [
        "## Data handling"
      ]
    },
    {
      "cell_type": "markdown",
      "metadata": {
        "id": "aNHwLMGG4TK9"
      },
      "source": [
        "### Downloading data"
      ]
    },
    {
      "cell_type": "code",
      "execution_count": null,
      "metadata": {
        "id": "AafmZLE24M4g"
      },
      "outputs": [],
      "source": [
        "# Download and unzip data\n",
        "# !wget https://www.nb.no/sbfil/tekst/nak_2019.tar\n",
        "# !tar -xvf nak_2019.tar\n",
        "\n",
        "# step into unzipped folder\n",
        "# %cd 2019\n",
        " # unzip files\n",
        "# !for f in *-2019-nob.tar.gz; do tar -xvf \"$f\"; done\n",
        "\n",
        "# # Delete all except unzipped data\n",
        "# !for f in *.tar.gz; do rm \"$f\"; done\n",
        "\n",
        "# # Traverse out of folder again\n",
        "# %cd .."
      ]
    },
    {
      "cell_type": "code",
      "execution_count": null,
      "metadata": {
        "colab": {
          "base_uri": "https://localhost:8080/"
        },
        "id": "IENZJO-HndBp",
        "outputId": "40bdc179-a79a-4318-d23f-cd659d3043d6"
      },
      "outputs": [
        {
          "data": {
            "application/vnd.google.colaboratory.intrinsic+json": {
              "type": "string"
            },
            "text/plain": [
              "'/content'"
            ]
          },
          "execution_count": 7,
          "metadata": {},
          "output_type": "execute_result"
        }
      ],
      "source": [
        "%pwd"
      ]
    },
    {
      "cell_type": "markdown",
      "metadata": {
        "id": "qehoqJyH5tj6"
      },
      "source": [
        "### Splitting data into several files"
      ]
    },
    {
      "cell_type": "code",
      "execution_count": null,
      "metadata": {
        "colab": {
          "base_uri": "https://localhost:8080/"
        },
        "id": "IS-wr0uB5zqE",
        "outputId": "e5ef680b-c02b-4e67-b630-ab4492ff9d17"
      },
      "outputs": [
        {
          "name": "stdout",
          "output_type": "stream",
          "text": [
            "Collecting datefinder\n",
            "  Downloading datefinder-0.7.3-py2.py3-none-any.whl (10 kB)\n",
            "Requirement already satisfied: regex>=2017.02.08 in /usr/local/lib/python3.10/dist-packages (from datefinder) (2023.12.25)\n",
            "Requirement already satisfied: python-dateutil>=2.4.2 in /usr/local/lib/python3.10/dist-packages (from datefinder) (2.8.2)\n",
            "Requirement already satisfied: pytz in /usr/local/lib/python3.10/dist-packages (from datefinder) (2023.4)\n",
            "Requirement already satisfied: six>=1.5 in /usr/local/lib/python3.10/dist-packages (from python-dateutil>=2.4.2->datefinder) (1.16.0)\n",
            "Installing collected packages: datefinder\n",
            "Successfully installed datefinder-0.7.3\n"
          ]
        }
      ],
      "source": [
        "!pip install datefinder"
      ]
    },
    {
      "cell_type": "code",
      "execution_count": null,
      "metadata": {
        "id": "UgrjUuza54mu"
      },
      "outputs": [],
      "source": [
        "from bs4 import BeautifulSoup\n",
        "import datefinder\n",
        "\n",
        "newspapers = ['ap','vg','aa','bt','da','db','dn','fv','nl','sa']\n",
        "\n",
        "\n",
        "def split_into_smaller_files(year): # n indicates how many files to read\n",
        "  texts = []\n",
        "  news_sites = []\n",
        "  dates= []\n",
        "  file_counter = 0 # keeps track of number of files saved\n",
        "  counter = 1\n",
        "\n",
        "\n",
        "  for newspaper in newspapers:\n",
        "    print('newspaper:', newspaper)\n",
        "    path = f'{year}/{newspaper}-{year}-nob'\n",
        "    # traverse through the folder\n",
        "    for paths, dirs, files in os.walk(path):\n",
        "          for f in tqdm(files, total=len(files)):\n",
        "\n",
        "              # If counter is 2000, save file to csv and reset arrays\n",
        "              if ((counter % 2000 == 0) or (counter == (len(files)-1))):\n",
        "                file_counter += 1\n",
        "                df = pl.DataFrame({ \"newssite\": news_sites, \"date\":dates, \"article\":texts})\n",
        "                save_to_csv(df, f\"/content/drive/MyDrive/Thesis/Data/{year}/{year}-{file_counter}\", True)\n",
        "\n",
        "                print(f\"File {file_counter} saved, total counter: {counter}\")\n",
        "                texts = []\n",
        "                news_sites = []\n",
        "                dates= []\n",
        "\n",
        "\n",
        "              counter += 1\n",
        "              file_path = f'{path}/{f}'\n",
        "              # print('\\nfile',file_path)\n",
        "              content = []\n",
        "\n",
        "              try:\n",
        "                with open(file_path, \"r\") as fb:\n",
        "                  # Read each line in the file, readlines() returns a list of lines\n",
        "                    content = fb.readlines()\n",
        "\n",
        "                # Combine the lines in the list into a string\n",
        "                content = \"\".join(content)\n",
        "                article = BeautifulSoup(content, \"lxml\")\n",
        "\n",
        "                article_body = \"\"\n",
        "                if (article.document):\n",
        "                      article_texts = article.find_all(\"div\",{\"type\":\"text\"})\n",
        "                      if (article_texts == []): continue\n",
        "                      else:\n",
        "                        # All found text html elements into article_body array\n",
        "                        for text in article_texts:\n",
        "                          article_body = \"\".join(text.text)\n",
        "\n",
        "                        # Add article and newssite to arrays\n",
        "                        texts.append(article_body)\n",
        "                        news_sites.append(newspaper)\n",
        "\n",
        "                        # find date attribute and normalize date pattern\n",
        "                        restructured_date = ''\n",
        "\n",
        "                        if article.find('attribute',{'name':'date'}):\n",
        "                          date_attr = article.find('attribute',{'name':'date'})\n",
        "                          found_date =  datefinder.find_dates(str(date_attr))\n",
        "                          for i in found_date:\n",
        "                            restructured_date = i.strftime('%d.%m.%Y')\n",
        "                        # add date to array\n",
        "                        dates.append(restructured_date)\n",
        "\n",
        "              except Exception as e:\n",
        "                print('exception!', e, e.args)\n",
        "                continue\n"
      ]
    },
    {
      "cell_type": "code",
      "execution_count": null,
      "metadata": {
        "id": "ZzN7jHDQ-Dmj"
      },
      "outputs": [],
      "source": [
        "# split_into_smaller_files(2019)"
      ]
    },
    {
      "cell_type": "markdown",
      "metadata": {
        "id": "Ed1xJ5yLfTJE"
      },
      "source": [
        "### Pre-Processing"
      ]
    },
    {
      "cell_type": "markdown",
      "metadata": {
        "id": "yBE-BiNbfxNU"
      },
      "source": [
        "#### Pre-processing helper methods"
      ]
    },
    {
      "cell_type": "code",
      "execution_count": null,
      "metadata": {
        "id": "l7Zy1zu5fWUm"
      },
      "outputs": [],
      "source": [
        "# HELPER METHODS\n",
        "def get_stopwords():\n",
        "  stopwords_no =  pl.read_csv('/content/drive/MyDrive/Thesis/Data/stopwords.txt')\n",
        "  # print(stopwords_no)\n",
        "  nor_sw = []\n",
        "  for row in stopwords_no.rows():\n",
        "    nor_sw.append(row[0])\n",
        "  return nor_sw\n"
      ]
    },
    {
      "cell_type": "code",
      "execution_count": null,
      "metadata": {
        "id": "ReFi9yL_flul"
      },
      "outputs": [],
      "source": [
        "# remove punctuation, short words and stopwords\n",
        "def remove_stop_short_words(df, column):\n",
        "  # print('Removing short and stopwords')\n",
        "  nor_sw = get_stopwords()\n",
        "  clean_sents = []\n",
        "\n",
        "  for sentence in df[column]:\n",
        "    try:\n",
        "      if(sentence != None):\n",
        "        # split sentence\n",
        "        split_sent = sentence.split()\n",
        "        # Remove short words and stopwords\n",
        "        clean_sent = ''\n",
        "        for word in split_sent:\n",
        "          if str.lower(word) in nor_sw: # if stopword, skip\n",
        "            continue\n",
        "          if len(word) < 3: # if short word, skip\n",
        "            continue\n",
        "          clean_sent = clean_sent + ' ' + word # else, add to clean_sent\n",
        "        if (clean_sent != ''): # if clean_sent is not empty, assign it to sentence\n",
        "          sentence = clean_sent\n",
        "        # clean_sents.append(sentence) # add sentence to clean_sents array\n",
        "\n",
        "    except Exception as e:\n",
        "      print(f'Couldn not parse {sentence}')\n",
        "      print(f'Reason: {e.args}')\n",
        "\n",
        "    clean_sents.append(sentence) # add sentence to clean_sents array\n",
        "\n",
        "  return clean_sents"
      ]
    },
    {
      "cell_type": "code",
      "execution_count": null,
      "metadata": {
        "id": "53DqYesOgLho"
      },
      "outputs": [],
      "source": [
        "# remove nans\n",
        "def init_cleaning(df):\n",
        "  df = df.drop_nulls()\n",
        "\n",
        "  return df"
      ]
    },
    {
      "cell_type": "code",
      "execution_count": null,
      "metadata": {
        "id": "XiSyXF9OfpbW"
      },
      "outputs": [],
      "source": [
        "# Remove duplicates\n",
        "def remove_dupl(df,subset):\n",
        "  df = df.unique(subset=subset)\n",
        "\n",
        "  return df"
      ]
    },
    {
      "cell_type": "code",
      "execution_count": null,
      "metadata": {
        "id": "WR5zOWleo-Fo"
      },
      "outputs": [],
      "source": [
        "# Remove numbers\n",
        "def remove_numbers_and_punct(df, column):\n",
        "  # print('Removing numbers and punctuation')\n",
        "  regex = r'[\\,\\:\\;\\%\\(\\)\\+\\\"\\-]'\n",
        "  clean_sents = []\n",
        "\n",
        "  for sentence in df[column]:\n",
        "    if(sentence != None):\n",
        "      try:\n",
        "        text = re.sub(regex,'',str(sentence)) # remove punctuations\n",
        "        sentence = text\n",
        "      except Exception as e:\n",
        "        print(f'Couldn not parse {sentence}. {e.args}')\n",
        "        continue\n",
        "\n",
        "      try:\n",
        "        if (re.search(r'\\d', sentence)):\n",
        "          sentence =  re.sub(r'\\d','',str(sentence)) # remove numbers\n",
        "      except Exception as e:\n",
        "        print(f'Couldn not parse {sentence}. {e.args}')\n",
        "        continue\n",
        "\n",
        "    clean_sents.append(sentence)\n",
        "  return clean_sents"
      ]
    },
    {
      "cell_type": "code",
      "execution_count": null,
      "metadata": {
        "id": "iUn5yYx5dEMq"
      },
      "outputs": [],
      "source": [
        "def lowercase(df, column):\n",
        "  lowercase_sents = []\n",
        "\n",
        "  for sentence in df[column]:\n",
        "    if(sentence != None):\n",
        "      try:\n",
        "        text = str.lower(sentence)\n",
        "        sentence = text\n",
        "      except Exception as e:\n",
        "        print(f'Could not parse {sentence}. {e.args}')\n",
        "\n",
        "    lowercase_sents.append(sentence)\n",
        "  return lowercase_sents"
      ]
    },
    {
      "cell_type": "code",
      "execution_count": null,
      "metadata": {
        "id": "bKwAI-Q3o8hn"
      },
      "outputs": [],
      "source": [
        "def combine_data_files(year, end):\n",
        "  base_url = get_base_url(year)\n",
        "\n",
        "  df = pl.DataFrame()\n",
        "\n",
        "  for i in np.array(range(1,end)):\n",
        "    if(i % 20 == 0):\n",
        "      print(i)\n",
        "    read_df = pl.read_csv(f'{base_url}/spacy/{year}-{i}-spacy.csv')\n",
        "    df = pl.concat([df, read_df])\n",
        "\n",
        "  return df"
      ]
    },
    {
      "cell_type": "code",
      "execution_count": null,
      "metadata": {
        "id": "xU3_JVMeQXKC"
      },
      "outputs": [],
      "source": [
        "def get_lemmas_from_spacy_files(df,column, arr):\n",
        "  # text should appear as a dict\n",
        "  dates = []\n",
        "  newssites = []\n",
        "  articles = []\n",
        "\n",
        "  for row in df.rows(named=True):\n",
        "    syntax = row[column]\n",
        "    json_obj = json.loads(syntax)\n",
        "    list_of_sentences = json_obj['article']['sentence']\n",
        "\n",
        "    if arr:\n",
        "      article = []\n",
        "    else:\n",
        "      article = ''\n",
        "\n",
        "    for sentence in list_of_sentences:\n",
        "      metadata = sentence['data']\n",
        "      token_count = 0\n",
        "\n",
        "      for token in metadata:\n",
        "        token_lemma = str.lower(token['lemma'])\n",
        "        if arr:\n",
        "          article.append(token_lemma)\n",
        "        else:\n",
        "          if token_count > 0:\n",
        "            article += ', ' + token_lemma\n",
        "          else:\n",
        "            article += token_lemma\n",
        "\n",
        "        token_count += 1\n",
        "\n",
        "    # if sents != None and len(sents) > 0:\n",
        "    articles.append(article)\n",
        "    dates.append(row['date'])\n",
        "    newssites.append(row['newssite'])\n",
        "\n",
        "\n",
        "  return pl.DataFrame({\"newssite\": newssites, \"date\": dates, \"article\": articles})\n",
        "  # return pl.DataFrame({'article':articles})"
      ]
    },
    {
      "cell_type": "code",
      "execution_count": null,
      "metadata": {
        "id": "RpclTbPNaCA5"
      },
      "outputs": [],
      "source": [
        "# look through lemmas for a regex or stirng match\n",
        "def match_for_articles(df, terms, arr):\n",
        "  dates = []\n",
        "  newssites = []\n",
        "  articles = []\n",
        "  rel_terms = []\n",
        "  i = 0\n",
        "\n",
        "  print('Total rows to traverse:', len(df))\n",
        "  for row in df.rows(named=True):\n",
        "    if(i % 100000 == 0):\n",
        "      print('Rows traversed:', i)\n",
        "\n",
        "    if arr:\n",
        "      article = row['article']\n",
        "    else:\n",
        "      try:\n",
        "        article = row['article'].split()\n",
        "      except Exception as e:\n",
        "        # print('Exception!', e)\n",
        "        continue\n",
        "\n",
        "    for token in article:\n",
        "        token = str.lower(token)\n",
        "        token_in_terms_bool = False\n",
        "        rel_term = ''\n",
        "\n",
        "        for term in terms:\n",
        "          # term_regex = r'\\w*(' + term + r')\\w*' # Regex\n",
        "          # if re.match(term_regex, token) == None:\n",
        "          if(str.lower(term) != token): # String Match\n",
        "            continue\n",
        "          else:\n",
        "            token_in_terms_bool = True\n",
        "            rel_term = term\n",
        "            break\n",
        "\n",
        "        # break out of loop if lemma is in terms\n",
        "        if(token_in_terms_bool):\n",
        "          articles.append(row['article'])\n",
        "          dates.append(row['date'])\n",
        "          newssites.append(row['newssite'])\n",
        "          rel_terms.append(term)\n",
        "          break\n",
        "    i += 1\n",
        "\n",
        "  # return pl.DataFrame({'article': articles})\n",
        "  return pl.DataFrame({\"newssite\": newssites, \"date\": dates, \"article\": articles, \"relevant_term\": rel_terms})\n"
      ]
    },
    {
      "cell_type": "markdown",
      "metadata": {
        "id": "J4cvkTsulQds"
      },
      "source": [
        "#### spacy"
      ]
    },
    {
      "cell_type": "code",
      "execution_count": null,
      "metadata": {
        "colab": {
          "base_uri": "https://localhost:8080/"
        },
        "collapsed": true,
        "id": "-zgIl_pGlSLI",
        "outputId": "02b30d5b-4897-4b44-af43-d77cc8f30c91"
      },
      "outputs": [
        {
          "output_type": "stream",
          "name": "stdout",
          "text": [
            "Collecting nb-core-news-lg==3.7.0\n",
            "  Downloading https://github.com/explosion/spacy-models/releases/download/nb_core_news_lg-3.7.0/nb_core_news_lg-3.7.0-py3-none-any.whl (569.4 MB)\n",
            "\u001b[2K     \u001b[90m━━━━━━━━━━━━━━━━━━━━━━━━━━━━━━━━━━━━━━━━\u001b[0m \u001b[32m569.4/569.4 MB\u001b[0m \u001b[31m3.1 MB/s\u001b[0m eta \u001b[36m0:00:00\u001b[0m\n",
            "\u001b[?25hRequirement already satisfied: spacy<3.8.0,>=3.7.0 in /usr/local/lib/python3.10/dist-packages (from nb-core-news-lg==3.7.0) (3.7.6)\n",
            "Requirement already satisfied: spacy-legacy<3.1.0,>=3.0.11 in /usr/local/lib/python3.10/dist-packages (from spacy<3.8.0,>=3.7.0->nb-core-news-lg==3.7.0) (3.0.12)\n",
            "Requirement already satisfied: spacy-loggers<2.0.0,>=1.0.0 in /usr/local/lib/python3.10/dist-packages (from spacy<3.8.0,>=3.7.0->nb-core-news-lg==3.7.0) (1.0.5)\n",
            "Requirement already satisfied: murmurhash<1.1.0,>=0.28.0 in /usr/local/lib/python3.10/dist-packages (from spacy<3.8.0,>=3.7.0->nb-core-news-lg==3.7.0) (1.0.10)\n",
            "Requirement already satisfied: cymem<2.1.0,>=2.0.2 in /usr/local/lib/python3.10/dist-packages (from spacy<3.8.0,>=3.7.0->nb-core-news-lg==3.7.0) (2.0.8)\n",
            "Requirement already satisfied: preshed<3.1.0,>=3.0.2 in /usr/local/lib/python3.10/dist-packages (from spacy<3.8.0,>=3.7.0->nb-core-news-lg==3.7.0) (3.0.9)\n",
            "Requirement already satisfied: thinc<8.3.0,>=8.2.2 in /usr/local/lib/python3.10/dist-packages (from spacy<3.8.0,>=3.7.0->nb-core-news-lg==3.7.0) (8.2.5)\n",
            "Requirement already satisfied: wasabi<1.2.0,>=0.9.1 in /usr/local/lib/python3.10/dist-packages (from spacy<3.8.0,>=3.7.0->nb-core-news-lg==3.7.0) (1.1.3)\n",
            "Requirement already satisfied: srsly<3.0.0,>=2.4.3 in /usr/local/lib/python3.10/dist-packages (from spacy<3.8.0,>=3.7.0->nb-core-news-lg==3.7.0) (2.4.8)\n",
            "Requirement already satisfied: catalogue<2.1.0,>=2.0.6 in /usr/local/lib/python3.10/dist-packages (from spacy<3.8.0,>=3.7.0->nb-core-news-lg==3.7.0) (2.0.10)\n",
            "Requirement already satisfied: weasel<0.5.0,>=0.1.0 in /usr/local/lib/python3.10/dist-packages (from spacy<3.8.0,>=3.7.0->nb-core-news-lg==3.7.0) (0.4.1)\n",
            "Requirement already satisfied: typer<1.0.0,>=0.3.0 in /usr/local/lib/python3.10/dist-packages (from spacy<3.8.0,>=3.7.0->nb-core-news-lg==3.7.0) (0.12.4)\n",
            "Requirement already satisfied: tqdm<5.0.0,>=4.38.0 in /usr/local/lib/python3.10/dist-packages (from spacy<3.8.0,>=3.7.0->nb-core-news-lg==3.7.0) (4.66.5)\n",
            "Requirement already satisfied: requests<3.0.0,>=2.13.0 in /usr/local/lib/python3.10/dist-packages (from spacy<3.8.0,>=3.7.0->nb-core-news-lg==3.7.0) (2.32.3)\n",
            "Requirement already satisfied: pydantic!=1.8,!=1.8.1,<3.0.0,>=1.7.4 in /usr/local/lib/python3.10/dist-packages (from spacy<3.8.0,>=3.7.0->nb-core-news-lg==3.7.0) (2.8.2)\n",
            "Requirement already satisfied: jinja2 in /usr/local/lib/python3.10/dist-packages (from spacy<3.8.0,>=3.7.0->nb-core-news-lg==3.7.0) (3.1.4)\n",
            "Requirement already satisfied: setuptools in /usr/local/lib/python3.10/dist-packages (from spacy<3.8.0,>=3.7.0->nb-core-news-lg==3.7.0) (71.0.4)\n",
            "Requirement already satisfied: packaging>=20.0 in /usr/local/lib/python3.10/dist-packages (from spacy<3.8.0,>=3.7.0->nb-core-news-lg==3.7.0) (24.1)\n",
            "Requirement already satisfied: langcodes<4.0.0,>=3.2.0 in /usr/local/lib/python3.10/dist-packages (from spacy<3.8.0,>=3.7.0->nb-core-news-lg==3.7.0) (3.4.0)\n",
            "Requirement already satisfied: numpy>=1.19.0 in /usr/local/lib/python3.10/dist-packages (from spacy<3.8.0,>=3.7.0->nb-core-news-lg==3.7.0) (1.26.4)\n",
            "Requirement already satisfied: language-data>=1.2 in /usr/local/lib/python3.10/dist-packages (from langcodes<4.0.0,>=3.2.0->spacy<3.8.0,>=3.7.0->nb-core-news-lg==3.7.0) (1.2.0)\n",
            "Requirement already satisfied: annotated-types>=0.4.0 in /usr/local/lib/python3.10/dist-packages (from pydantic!=1.8,!=1.8.1,<3.0.0,>=1.7.4->spacy<3.8.0,>=3.7.0->nb-core-news-lg==3.7.0) (0.7.0)\n",
            "Requirement already satisfied: pydantic-core==2.20.1 in /usr/local/lib/python3.10/dist-packages (from pydantic!=1.8,!=1.8.1,<3.0.0,>=1.7.4->spacy<3.8.0,>=3.7.0->nb-core-news-lg==3.7.0) (2.20.1)\n",
            "Requirement already satisfied: typing-extensions>=4.6.1 in /usr/local/lib/python3.10/dist-packages (from pydantic!=1.8,!=1.8.1,<3.0.0,>=1.7.4->spacy<3.8.0,>=3.7.0->nb-core-news-lg==3.7.0) (4.12.2)\n",
            "Requirement already satisfied: charset-normalizer<4,>=2 in /usr/local/lib/python3.10/dist-packages (from requests<3.0.0,>=2.13.0->spacy<3.8.0,>=3.7.0->nb-core-news-lg==3.7.0) (3.3.2)\n",
            "Requirement already satisfied: idna<4,>=2.5 in /usr/local/lib/python3.10/dist-packages (from requests<3.0.0,>=2.13.0->spacy<3.8.0,>=3.7.0->nb-core-news-lg==3.7.0) (3.7)\n",
            "Requirement already satisfied: urllib3<3,>=1.21.1 in /usr/local/lib/python3.10/dist-packages (from requests<3.0.0,>=2.13.0->spacy<3.8.0,>=3.7.0->nb-core-news-lg==3.7.0) (2.0.7)\n",
            "Requirement already satisfied: certifi>=2017.4.17 in /usr/local/lib/python3.10/dist-packages (from requests<3.0.0,>=2.13.0->spacy<3.8.0,>=3.7.0->nb-core-news-lg==3.7.0) (2024.7.4)\n",
            "Requirement already satisfied: blis<0.8.0,>=0.7.8 in /usr/local/lib/python3.10/dist-packages (from thinc<8.3.0,>=8.2.2->spacy<3.8.0,>=3.7.0->nb-core-news-lg==3.7.0) (0.7.11)\n",
            "Requirement already satisfied: confection<1.0.0,>=0.0.1 in /usr/local/lib/python3.10/dist-packages (from thinc<8.3.0,>=8.2.2->spacy<3.8.0,>=3.7.0->nb-core-news-lg==3.7.0) (0.1.5)\n",
            "Requirement already satisfied: click>=8.0.0 in /usr/local/lib/python3.10/dist-packages (from typer<1.0.0,>=0.3.0->spacy<3.8.0,>=3.7.0->nb-core-news-lg==3.7.0) (8.1.7)\n",
            "Requirement already satisfied: shellingham>=1.3.0 in /usr/local/lib/python3.10/dist-packages (from typer<1.0.0,>=0.3.0->spacy<3.8.0,>=3.7.0->nb-core-news-lg==3.7.0) (1.5.4)\n",
            "Requirement already satisfied: rich>=10.11.0 in /usr/local/lib/python3.10/dist-packages (from typer<1.0.0,>=0.3.0->spacy<3.8.0,>=3.7.0->nb-core-news-lg==3.7.0) (13.7.1)\n",
            "Requirement already satisfied: cloudpathlib<1.0.0,>=0.7.0 in /usr/local/lib/python3.10/dist-packages (from weasel<0.5.0,>=0.1.0->spacy<3.8.0,>=3.7.0->nb-core-news-lg==3.7.0) (0.18.1)\n",
            "Requirement already satisfied: smart-open<8.0.0,>=5.2.1 in /usr/local/lib/python3.10/dist-packages (from weasel<0.5.0,>=0.1.0->spacy<3.8.0,>=3.7.0->nb-core-news-lg==3.7.0) (7.0.4)\n",
            "Requirement already satisfied: MarkupSafe>=2.0 in /usr/local/lib/python3.10/dist-packages (from jinja2->spacy<3.8.0,>=3.7.0->nb-core-news-lg==3.7.0) (2.1.5)\n",
            "Requirement already satisfied: marisa-trie>=0.7.7 in /usr/local/lib/python3.10/dist-packages (from language-data>=1.2->langcodes<4.0.0,>=3.2.0->spacy<3.8.0,>=3.7.0->nb-core-news-lg==3.7.0) (1.2.0)\n",
            "Requirement already satisfied: markdown-it-py>=2.2.0 in /usr/local/lib/python3.10/dist-packages (from rich>=10.11.0->typer<1.0.0,>=0.3.0->spacy<3.8.0,>=3.7.0->nb-core-news-lg==3.7.0) (3.0.0)\n",
            "Requirement already satisfied: pygments<3.0.0,>=2.13.0 in /usr/local/lib/python3.10/dist-packages (from rich>=10.11.0->typer<1.0.0,>=0.3.0->spacy<3.8.0,>=3.7.0->nb-core-news-lg==3.7.0) (2.16.1)\n",
            "Requirement already satisfied: wrapt in /usr/local/lib/python3.10/dist-packages (from smart-open<8.0.0,>=5.2.1->weasel<0.5.0,>=0.1.0->spacy<3.8.0,>=3.7.0->nb-core-news-lg==3.7.0) (1.16.0)\n",
            "Requirement already satisfied: mdurl~=0.1 in /usr/local/lib/python3.10/dist-packages (from markdown-it-py>=2.2.0->rich>=10.11.0->typer<1.0.0,>=0.3.0->spacy<3.8.0,>=3.7.0->nb-core-news-lg==3.7.0) (0.1.2)\n",
            "Installing collected packages: nb-core-news-lg\n",
            "Successfully installed nb-core-news-lg-3.7.0\n",
            "\u001b[38;5;2m✔ Download and installation successful\u001b[0m\n",
            "You can now load the package via spacy.load('nb_core_news_lg')\n",
            "\u001b[38;5;3m⚠ Restart to reload dependencies\u001b[0m\n",
            "If you are in a Jupyter or Colab notebook, you may need to restart Python in\n",
            "order to load all the package's dependencies. You can do this by selecting the\n",
            "'Restart kernel' or 'Restart runtime' option.\n"
          ]
        }
      ],
      "source": [
        "!python -m spacy download nb_core_news_lg"
      ]
    },
    {
      "cell_type": "code",
      "execution_count": null,
      "metadata": {
        "colab": {
          "base_uri": "https://localhost:8080/"
        },
        "id": "Xzu0cKq56JEQ",
        "outputId": "7da38f02-292f-4d2b-874b-ba1f20934d09"
      },
      "outputs": [
        {
          "output_type": "execute_result",
          "data": {
            "text/plain": [
              "'\\narticle: {\\n sentence: {\\n  text: \"the whole sentence\",\\n  data: {\\n        text: \"the\",\\n        pos: \"\",\\n        lemma: \"\",\\n      },\\n      {\\n        text: \"whole\",\\n        pos: \"\",\\n        lemma: \"\",\\n      },\\n      {\\n      text:  \"sentence\",\\n        pos: \"\",\\n        lemma: \"\",\\n      },\\n  },\\n  sentence: {\\n    text: \"anotehr sentence\",\\n    data: {\\n        text: \"another\",\\n        pos: \"\",\\n        lemma: \"\",\\n      },\\n      {\\n        text: \"sentence\",\\n        pos: \"\",\\n        lemma: \"\",\\n      },\\n    }\\n  }\\n}\\n'"
            ],
            "application/vnd.google.colaboratory.intrinsic+json": {
              "type": "string"
            }
          },
          "metadata": {},
          "execution_count": 24
        }
      ],
      "source": [
        "# Structure for saving spacy data in json format\n",
        "\n",
        "'''\n",
        "article: {\n",
        " sentence: {\n",
        "  text: \"the whole sentence\",\n",
        "  data: {\n",
        "        text: \"the\",\n",
        "        pos: \"\",\n",
        "        lemma: \"\",\n",
        "      },\n",
        "      {\n",
        "        text: \"whole\",\n",
        "        pos: \"\",\n",
        "        lemma: \"\",\n",
        "      },\n",
        "      {\n",
        "      text:  \"sentence\",\n",
        "        pos: \"\",\n",
        "        lemma: \"\",\n",
        "      },\n",
        "  },\n",
        "  sentence: {\n",
        "    text: \"anotehr sentence\",\n",
        "    data: {\n",
        "        text: \"another\",\n",
        "        pos: \"\",\n",
        "        lemma: \"\",\n",
        "      },\n",
        "      {\n",
        "        text: \"sentence\",\n",
        "        pos: \"\",\n",
        "        lemma: \"\",\n",
        "      },\n",
        "    }\n",
        "  }\n",
        "}\n",
        "'''"
      ]
    },
    {
      "cell_type": "code",
      "execution_count": null,
      "metadata": {
        "id": "J1c0FON90nRM"
      },
      "outputs": [],
      "source": [
        "# Spacy handling\n",
        "import spacy\n",
        "import pandas as pd\n",
        "import re\n",
        "\n",
        "def get_spacy_data(df, column):\n",
        "  print('Tokenizing and getting metadata of tokens')\n",
        "\n",
        "  token_df = pd.DataFrame()\n",
        "  dates = []\n",
        "  newssites = []\n",
        "  articles = []\n",
        "\n",
        "  nlp = spacy.load(\"nb_core_news_lg\")\n",
        "  counter = 0\n",
        "\n",
        "  # for row in tqdm(df.rows(named=True)):\n",
        "  for row in df.rows(named=True):\n",
        "      if (counter > 0) and (counter % 1000 == 0):\n",
        "        print(\"Processed 1000 rows!\")\n",
        "\n",
        "\n",
        "      dates.append(row['date'])\n",
        "      newssites.append(row['newssite'])\n",
        "      article_dict = {}\n",
        "\n",
        "      sents = re.split(r'[\\!\\?\\.]', row[column])\n",
        "\n",
        "      sentence_arr = []\n",
        "      for sent in sents: # for each sentence in the article\n",
        "\n",
        "        if(len(sent) <= 3):\n",
        "          continue\n",
        "\n",
        "        doc = nlp(sent)\n",
        "        token_arr = []\n",
        "        try:\n",
        "          for token in doc:\n",
        "            if(token == None or token.text == None or len(token.text)<=1): continue\n",
        "            # create a dictionary\n",
        "            token_dict = {\n",
        "              \"token\": str(token.text),\n",
        "              \"lemma\": str(token.lemma_),\n",
        "              \"head\": str(token.head),\n",
        "              \"head_lemma\": str(token.head.lemma_),\n",
        "              \"pos\": str(token.pos_),\n",
        "              \"dep\": str(token.dep_),\n",
        "              \"morph\": str(token.morph)}\n",
        "\n",
        "            token_arr.append(token_dict) # save {token dict} to [token array]\n",
        "          sentence_arr.append({\"text\":sent,\"data\":token_arr}) # save {dict with token array} in a [sentence array]\n",
        "\n",
        "        except Exception as e:\n",
        "          print(f'Something failed at index {counter}. Reason: {e}. \\nMoving on..')\n",
        "          continue\n",
        "\n",
        "      article_dict = {\"article\": {\"sentence\":sentence_arr}}\n",
        "      articles.append(json.dumps(article_dict)) # save {dict with sentence array} in an [article array]\n",
        "      counter += 1\n",
        "  try:\n",
        "    token_df['newssite'] = newssites\n",
        "    token_df['date'] = dates\n",
        "    token_df['syntax'] = articles\n",
        "  except Exception as e:\n",
        "     print(f'Something failed at index {counter}. Reason: {e}. \\nMoving on..')\n",
        "  return token_df"
      ]
    },
    {
      "cell_type": "code",
      "execution_count": null,
      "metadata": {
        "id": "55Mtl4TapMQf"
      },
      "outputs": [],
      "source": [
        "# df = pl.read_csv('/content/drive/MyDrive/Thesis/Data/Eval_Pipeline_folder/2019/2019-3.csv')\n",
        "# df.head()"
      ]
    },
    {
      "cell_type": "code",
      "execution_count": null,
      "metadata": {
        "id": "GlwqulOEpbvb"
      },
      "outputs": [],
      "source": [
        "# token_df = get_spacy_data(df, 'article')"
      ]
    },
    {
      "cell_type": "markdown",
      "metadata": {
        "id": "s_dimJpKlIYv"
      },
      "source": [
        "#### Pre-processing method"
      ]
    },
    {
      "cell_type": "code",
      "execution_count": null,
      "metadata": {
        "id": "X-UkX4V8g1VW"
      },
      "outputs": [],
      "source": [
        "# PRE PROCESSING\n",
        "\n",
        "def pre_processing(df,column, new_column):\n",
        "  print('Preprocessing..')\n",
        "  # Remove NaNs\n",
        "  df = init_cleaning(df)\n",
        "\n",
        "  # Remove duplicates\n",
        "  df = remove_dupl(df,column)\n",
        "\n",
        "  # Copy article text column before cleaning the texts\n",
        "  df = df.with_columns((\n",
        "         pl.col(column).alias(new_column)\n",
        "  ))\n",
        "\n",
        "  df = df.with_columns([\n",
        "      pl.Series(values=remove_numbers_and_punct(df,new_column)).alias(new_column)\n",
        "  ])\n",
        "\n",
        "  # Remove the punctuation, short words and stopwords\n",
        "  df = df.with_columns([\n",
        "      pl.Series(values=remove_stop_short_words(df,new_column)).alias(new_column)\n",
        "  ])\n",
        "\n",
        "  # spacy here, using pre-processed data\n",
        "  token_df = get_spacy_data(df, new_column)\n",
        "\n",
        "  return df, token_df"
      ]
    },
    {
      "cell_type": "markdown",
      "metadata": {
        "id": "BxRR88XZgzm1"
      },
      "source": [
        "#### Pre-processing (TIME TO MAKE THIS A BIG METHOD)\n",
        "\n",
        "* read data\n",
        "* pre-process data\n",
        "* then, save the pre-processed AND the microportraits df? yes"
      ]
    },
    {
      "cell_type": "code",
      "execution_count": null,
      "metadata": {
        "id": "oF7Yw2e-nzkS"
      },
      "outputs": [],
      "source": [
        "def process_and_save(years, preprocess, spacy, start, base_url):\n",
        "  print(f'Save preprocessed data? {preprocess}')\n",
        "  print(f'Save spacy data? {spacy}\\n')\n",
        "\n",
        "  for year in years:\n",
        "    file_path = f'{base_url}/{year}'\n",
        "\n",
        "    # traverse through the folder\n",
        "    n = len([f for f in os.listdir(file_path) if os.path.isfile(os.path.join(file_path, f))])+1\n",
        "    print('No. of files to create:',n-1)\n",
        "\n",
        "    for i in np.array(range(start, n)):\n",
        "      file_name = f'{year}-{i}.csv'\n",
        "      print(f'File: {file_name}')\n",
        "\n",
        "      # Read csv file\n",
        "      # df = read_data(year, i)\n",
        "      df = pl.read_csv(f'{file_path}/{file_name}', truncate_ragged_lines=True)\n",
        "\n",
        "      # Pre-process data and save to dataframes (tokens_df = spacy)\n",
        "      processed_df, tokens_df = pre_processing(df, \"article\", \"preprocessed_article\")\n",
        "\n",
        "      if (preprocess == True):\n",
        "        # Make new directory if one does not already exist\n",
        "        if path.exists(f'{file_path}/pre_processed') == False:\n",
        "          os.mkdir(f'{file_path}/pre_processed')\n",
        "\n",
        "        # Save to drive\n",
        "        try:\n",
        "          save_to_csv(processed_df, f\"{file_path}/pre_processed/{year}-{i}-preprocessed\", True)\n",
        "        except Exception as e:\n",
        "          print(f\"Could not save file {year}-{i}-preprocessed.csv! Reason: {e.args}\")\n",
        "\n",
        "      if (spacy == True):\n",
        "        # Make new directory if one does not already exist\n",
        "        if path.exists(f'{file_path}/spacy') == False:\n",
        "          os.mkdir(f'{file_path}/spacy')\n",
        "        # save dataframes to drive in csvs\n",
        "        try:\n",
        "          save_to_csv(tokens_df,f\"{file_path}/spacy/{year}-{i}-spacy\",False)\n",
        "        except Exception as e:\n",
        "          print(f\"Could not save file {year}-{i}-spacy.csv! Reason: {e.args}\")\n",
        "\n",
        "      print(\"Done!\\n\")"
      ]
    },
    {
      "cell_type": "code",
      "execution_count": null,
      "metadata": {
        "collapsed": true,
        "id": "iwylId29m5sv"
      },
      "outputs": [],
      "source": [
        "# Read data\n",
        "base_url = '/content/drive/MyDrive/Thesis/Data'\n",
        "# process_and_save([2019, 2018, 2017], True, True, 1, base_url)\n",
        "# process_and_save([2017], True, True, 1, base_url)"
      ]
    },
    {
      "cell_type": "markdown",
      "metadata": {
        "id": "-URlLa6r9K5V"
      },
      "source": [
        "## Defining query terms"
      ]
    },
    {
      "cell_type": "code",
      "execution_count": null,
      "metadata": {
        "id": "GK3nzXjK9Nb_"
      },
      "outputs": [],
      "source": [
        "# Target terms for microportraits\n",
        "\n",
        "target_terms = ['islam','islamsk','muslimsk','muslim','hijab','koran','moské','moske','nikab','niqab','burka']\n",
        "target_terms_nationalities = ['pakistaner','pakistansk','somalier','somalisk','marokkansk','marokkaner','iraner','iransk','irakisk','iraker','tyrker','tyrkisk','afghaner','afghansk']\n",
        "target_terms_norsk = ['norskpakistaner','norskpakistansk','norsksomalier','norsksomalisk','norskmarokkansk','norskmarokkaner','norskiraner','norskiransk','norskirakisk','norskiraker','norsktyrker','norsktyrkisk','norskafghaner','norskafghansk']"
      ]
    },
    {
      "cell_type": "code",
      "execution_count": null,
      "metadata": {
        "id": "FxAwL92cC9vf"
      },
      "outputs": [],
      "source": [
        "all_target_terms = ['islam','islamsk','muslimsk','muslim','hijab','koran','moské','moske','nikab','niqab','burka', 'pakistaner','pakistansk','somalier','somalisk','marokkansk',\n",
        "                    'marokkaner','iraner','iransk','irakisk','iraker','tyrker','tyrkisk','afghaner','afghansk', 'norskpakistaner','norskpakistansk','norsksomalier','norsksomalisk',\n",
        "                    'norskmarokkansk','norskmarokkaner','norskiraner','norskiransk','norskirakisk','norskiraker','norsktyrker','norsktyrkisk','norskafghaner','norskafghansk']"
      ]
    },
    {
      "cell_type": "code",
      "execution_count": null,
      "metadata": {
        "id": "OGS15WCH9Pp_"
      },
      "outputs": [],
      "source": [
        "# Counter terms\n",
        "\n",
        "counter_terms = ['kristen','liberal','norsk','nordmann', 'ateist','sekulær','kristne','vestlig']"
      ]
    },
    {
      "cell_type": "markdown",
      "source": [
        "# Extracting Descriptions"
      ],
      "metadata": {
        "id": "wfGW7Rl_fCJ8"
      }
    },
    {
      "cell_type": "markdown",
      "metadata": {
        "id": "2tMRP4Dl8DA-"
      },
      "source": [
        "### Extracting properties and labels"
      ]
    },
    {
      "cell_type": "markdown",
      "metadata": {
        "id": "FryoZ5-V8dBV"
      },
      "source": [
        "##### Getting Properties\n",
        "* if token is has dep: amod (modifiers and attributes.. whats that)\n",
        "    * Descriptions of what modifiers are in UD is found here: https://universaldependencies.org/docs/u/dep/index.html (01.03.24)\n",
        "* AND token.head is a query term\n",
        "* THEN ***token = property*** of the query term\n",
        "* lemma of token is saved as ***decription*** of the query term"
      ]
    },
    {
      "cell_type": "code",
      "execution_count": null,
      "metadata": {
        "id": "f4D6xQtpAi74"
      },
      "outputs": [],
      "source": [
        "def get_properties(df, term):\n",
        "  this_token = []\n",
        "  this_token_lemma = []\n",
        "  this_term = []\n",
        "  this_newspaper = []\n",
        "  this_date = []\n",
        "  this_token_pos = []\n",
        "\n",
        "  dependencies = ['neg','advcl','acl','appos']\n",
        "\n",
        "  for row in df.rows(named=True):\n",
        "\n",
        "    syntax = row['syntax']\n",
        "    json_obj = json.loads(syntax)\n",
        "    list_of_sentences = json_obj['article']['sentence']\n",
        "\n",
        "    for sentence in list_of_sentences:\n",
        "      metadata = sentence['data']\n",
        "      text = sentence['text']\n",
        "      sentence_printed = 0\n",
        "\n",
        "      for token in metadata:\n",
        "        dep = token['dep']\n",
        "        head = str.lower(token['head_lemma'])\n",
        "        token_lemma = str.lower(token['lemma'])\n",
        "        pos = token['pos']\n",
        "\n",
        "        pattern = r'[\\w]+mod'\n",
        "\n",
        "        if(re.match(pattern, dep) != None or dep in dependencies):\n",
        "          if(head == term):\n",
        "            # if(sentence_printed == 0):\n",
        "              # print(text)\n",
        "              # sentence_printed = 1\n",
        "\n",
        "            # print(f'Term: \"{head}\" has property \"{token_lemma}\". Property POS is: {pos}')\n",
        "\n",
        "            # print('dep', token['dep'])\n",
        "            # print('head is in target terms AND token is amod')\n",
        "            this_token.append(token['token'])\n",
        "            this_token_lemma.append(token_lemma)\n",
        "            this_term.append(head)\n",
        "            this_token_pos.append(pos)\n",
        "            this_newspaper.append(row['newssite'])\n",
        "            this_date.append(row['date'])\n",
        "\n",
        "  df = pl.DataFrame({ \"property_(token)\": this_token, \"description\": this_token_lemma, \"query_term_(head)\": this_term, \"pos\": this_token_pos, \"date\":this_date, \"newspaper\":this_newspaper})\n",
        "\n",
        "  return df\n"
      ]
    },
    {
      "cell_type": "code",
      "execution_count": null,
      "metadata": {
        "id": "nN5gSCQcCVhr"
      },
      "outputs": [],
      "source": [
        "# for i in np.array(range(1,5)):\n",
        "#   df = pl.read_csv(f'{base_url}/spacy/2019-{i}-spacy.csv')\n",
        "#   x = get_properties(df)\n",
        "#   if(x.is_empty()):\n",
        "#     continue\n",
        "#   print(x)"
      ]
    },
    {
      "cell_type": "markdown",
      "metadata": {
        "id": "6dT621H_-MHn"
      },
      "source": [
        "##### Getting Labels\n",
        "* if query term is modifier or attribute of token\n",
        "* then extract head of token as ***label*** of term"
      ]
    },
    {
      "cell_type": "code",
      "execution_count": null,
      "metadata": {
        "id": "TEpkm4VB_Hv-"
      },
      "outputs": [],
      "source": [
        "def get_labels(df,term):\n",
        "  this_token = []\n",
        "  this_token_lemma = []\n",
        "  this_head = []\n",
        "  this_head_lemma = []\n",
        "  this_head_pos = []\n",
        "  this_newspaper = []\n",
        "  this_date = []\n",
        "\n",
        "  dependencies = ['neg','advcl','acl','appos']\n",
        "\n",
        "  for row in df.rows(named=True):\n",
        "\n",
        "    syntax = row['syntax']\n",
        "    json_obj = json.loads(syntax)\n",
        "    list_of_sentences = json_obj['article']['sentence']\n",
        "\n",
        "    for sentence in list_of_sentences:\n",
        "      metadata = sentence['data']\n",
        "      text = sentence['text']\n",
        "      sentence_printed = 0\n",
        "\n",
        "      for token in metadata:\n",
        "        token_lemma = str.lower(token['lemma'])\n",
        "\n",
        "        if token_lemma != term:\n",
        "          continue\n",
        "\n",
        "        dep = token['dep']\n",
        "        head = str.lower(token['head'])\n",
        "        head_lemma = str.lower(token['head_lemma'])\n",
        "        head_pos = nlp(token['head'])[0].pos_\n",
        "        pattern = r'[\\w]+mod'\n",
        "        pos = token['pos']\n",
        "\n",
        "        if(re.match(pattern, dep) != None or dep in dependencies):\n",
        "            # if(sentence_printed == 0):\n",
        "              # print(text)\n",
        "              # sentence_printed = 1\n",
        "\n",
        "            # print(f'head {head} has relation {dep} to term {token_lemma}. Head has pos: {head_pos}\\n')\n",
        "\n",
        "            this_token.append(token['token'])\n",
        "            this_token_lemma.append(token_lemma)\n",
        "            this_head.append(head)\n",
        "            this_head_pos.append(head_pos)\n",
        "            this_head_lemma.append(head_lemma)\n",
        "            this_newspaper.append(row['newssite'])\n",
        "            this_date.append(row['date'])\n",
        "\n",
        "  df = pl.DataFrame({ \"query_term\": this_token, \"token_lemma\": this_token_lemma, \"label_(head)\": this_head, \"description\": this_head_lemma, \"pos\":this_head_pos, \"date\":this_date, \"newspaper\":this_newspaper})\n",
        "\n",
        "  return df"
      ]
    },
    {
      "cell_type": "code",
      "execution_count": null,
      "metadata": {
        "id": "lSjFc9jFMmze"
      },
      "outputs": [],
      "source": [
        "# for i in np.array(range(1, 5)):\n",
        "#   df = pl.read_csv(f'{base_url}/spacy/2019-{i}-spacy.csv')\n",
        "#   x = get_labels(df)\n",
        "#   if(x.is_empty()):\n",
        "#     continue\n",
        "#   print(x)"
      ]
    },
    {
      "cell_type": "markdown",
      "metadata": {
        "id": "gU_S16oyrgeL"
      },
      "source": [
        "##### Getting roles\n",
        "\n",
        "* three roles: agent, patient and recipient\n"
      ]
    },
    {
      "cell_type": "code",
      "execution_count": null,
      "metadata": {
        "id": "_cjfKHdMrt8w"
      },
      "outputs": [],
      "source": [
        "\n",
        "def get_roles(df, term):\n",
        "  this_token = []\n",
        "  this_token_lemma = []\n",
        "  this_term = []\n",
        "  this_newspaper = []\n",
        "  this_date = []\n",
        "  this_head_pos = []\n",
        "  this_role = []\n",
        "\n",
        "  for row in df.rows(named=True):\n",
        "\n",
        "    # read from dictionary format to json format\n",
        "    syntax = row['syntax']\n",
        "    json_obj = json.loads(syntax)\n",
        "    list_of_sentences = json_obj['article']['sentence']\n",
        "\n",
        "    for sentence in list_of_sentences:\n",
        "      metadata = sentence['data']\n",
        "      text = sentence['text']\n",
        "      sentence_printed = 0\n",
        "\n",
        "      for token in metadata:\n",
        "        token_lemma = str.lower(token['lemma'])\n",
        "\n",
        "        # IF REGEX, UNCOMMENT\n",
        "        # term_regex = r'(' + term + r')\\S*'\n",
        "        # if re.match(term_regex,token_lemma) == None:\n",
        "        #   continue\n",
        "\n",
        "        if token_lemma != term:\n",
        "          continue\n",
        "\n",
        "        dep = token['dep']\n",
        "        head = str.lower(token['head_lemma'])\n",
        "        # token_ = str.lower(token['lemma'])\n",
        "        pos = token['pos']\n",
        "\n",
        "        head_nlp = nlp(head)[0]\n",
        "        head_pos = head_nlp.pos_\n",
        "        head_tense = head_nlp.morph\n",
        "\n",
        "        roles_deps  = ['nsubj','obl', 'obj','nsubjpass', 'iobj']\n",
        "        patients_deps = ['obj','nsubjpass']\n",
        "        recipients_dep = 'iobj'\n",
        "\n",
        "        # if(dep in roles_deps and head_pos == \"VERB\" and token_lemma == term):\n",
        "        if(dep in roles_deps):\n",
        "            if(sentence_printed == 0):\n",
        "              # print(text)\n",
        "              sentence_printed = 1\n",
        "\n",
        "            role = \"agent\"\n",
        "            if dep in patients_deps:\n",
        "              role = \"patient\"\n",
        "            elif dep == recipients_dep:\n",
        "              role = \"recipient\"\n",
        "\n",
        "            # print(f'Term {token_lemma} has relation \"{dep}\" to head \"{head}\". Head POS: {head_pos}')\n",
        "            # print(f'Term {token_lemma} has role \"{role}\" in event \"{head}\", head tense: \"{head_tense}\". \\n')\n",
        "\n",
        "            this_token.append(token['token'])\n",
        "            this_token_lemma.append(token_lemma)\n",
        "            this_term.append(head)\n",
        "            this_newspaper.append(row['newssite'])\n",
        "            this_date.append(row['date'])\n",
        "            this_role.append(role)\n",
        "            this_head_pos.append(head_pos)\n",
        "\n",
        "  df = pl.DataFrame({ \"role\": this_role, \"this_token\": this_token, \"query_term\": this_token_lemma, \"description\": this_term, \"pos\":this_head_pos ,\"date\":this_date, \"newspaper\":this_newspaper})\n",
        "\n",
        "  return df"
      ]
    },
    {
      "cell_type": "markdown",
      "metadata": {
        "id": "zPDgcx6a31TH"
      },
      "source": [
        "#### Get descriptions"
      ]
    },
    {
      "cell_type": "code",
      "execution_count": null,
      "metadata": {
        "id": "lrR_I78Z4E5h"
      },
      "outputs": [],
      "source": [
        "def get_descriptions(term, year, term_list, base_url):\n",
        "  # base_url = get_base_url(year)\n",
        "\n",
        "  found_properties = False\n",
        "  found_labels = False\n",
        "  found_roles = False\n",
        "\n",
        "  df_all_props = pl.DataFrame()\n",
        "  df_all_labels = pl.DataFrame()\n",
        "  df_all_roles = pl.DataFrame()\n",
        "\n",
        "  prop_count = 0\n",
        "  label_count = 0\n",
        "  role_count = 0\n",
        "\n",
        "  prop_file_count = 1\n",
        "  label_file_count = 1\n",
        "  role_file_count = 1\n",
        "\n",
        "  file_path = f'{base_url}/spacy'\n",
        "\n",
        "  n = len([f for f in os.listdir(file_path) if os.path.isfile(os.path.join(file_path, f))])+1\n",
        "\n",
        "  print(f'Getting descriptions for term \"{term}\"')\n",
        "  print(f'files to traverse:', n)\n",
        "\n",
        "  for i in np.array(range(1,n)):\n",
        "    file_name = f'{file_path}/{year}-{i}-spacy.csv'\n",
        "    print('PATH:', file_name)\n",
        "\n",
        "    if(i % 50 == 0):\n",
        "      print('Traversed 50 files! At file nr:',i)\n",
        "\n",
        "    df = pl.read_csv(file_name)\n",
        "\n",
        "    df_props = get_properties(df,term)\n",
        "    df_labels = get_labels(df,term)\n",
        "    df_roles = get_roles(df,term)\n",
        "\n",
        "    # Properties\n",
        "    if(not df_props.is_empty() and len(df_props) > 0):\n",
        "      df_all_props = pl.concat([df_all_props, df_props])\n",
        "      prop_count += 1\n",
        "\n",
        "    # Labels\n",
        "    if(not df_labels.is_empty() and len(df_labels) > 0):\n",
        "      df_all_labels = pl.concat([df_all_labels, df_labels])\n",
        "      label_count += 1\n",
        "\n",
        "    # Roles\n",
        "    if(not df_roles.is_empty() and len(df_roles) > 0):\n",
        "      df_all_roles = pl.concat([df_all_roles, df_roles])\n",
        "      role_count += 1\n",
        "\n",
        "    if(i == n-1):\n",
        "      print(f'Saving descriptions for term \"{term}\"')\n",
        "\n",
        "      # SAVE PROPERTIES\n",
        "      # check if paths exist\n",
        "      path_to_save_file = f'{base_url}/microportraits/{term_list}/properties'\n",
        "\n",
        "      if path.exists(path_to_save_file) == False:\n",
        "        os.makedirs(path_to_save_file)\n",
        "\n",
        "      save_to_csv(df_all_props, f'{path_to_save_file}/{term}_{prop_file_count}', True)\n",
        "\n",
        "      # SAVE LABELS\n",
        "      # check if paths exist\n",
        "      path_to_save_file = f'{base_url}/microportraits/{term_list}/labels'\n",
        "\n",
        "      if path.exists(path_to_save_file) == False:\n",
        "        os.makedirs(path_to_save_file)\n",
        "\n",
        "      save_to_csv(df_all_labels, f'{path_to_save_file}/{term}_{label_file_count}', True)\n",
        "\n",
        "      # SAVE ROLES\n",
        "      # check if paths exist\n",
        "      path_to_save_file = f'{base_url}/microportraits/{term_list}/roles'\n",
        "\n",
        "      if path.exists(path_to_save_file) == False:\n",
        "        os.makedirs(path_to_save_file)\n",
        "\n",
        "      save_to_csv(df_all_roles, f'{path_to_save_file}/{term}_{role_file_count}', True)\n",
        "\n",
        "  print(\"\\nProperties\")\n",
        "  print(df_all_props)\n",
        "  print(prop_count)\n",
        "\n",
        "  print(\"\\nLabels\")\n",
        "  print(df_all_labels)\n",
        "  print(label_count)\n",
        "\n",
        "  print(\"\\nRoles\")\n",
        "  print(df_all_roles)\n",
        "  print(role_count)\n",
        "\n",
        "  print('\\n')"
      ]
    },
    {
      "cell_type": "markdown",
      "metadata": {
        "id": "kbEFRKkMMlRE"
      },
      "source": [
        "#### Call Get Descriptions"
      ]
    },
    {
      "cell_type": "code",
      "execution_count": null,
      "metadata": {
        "id": "4agB_KScKEZ4"
      },
      "outputs": [],
      "source": [
        "years = [2019, 2018, 2017]"
      ]
    },
    {
      "cell_type": "code",
      "execution_count": null,
      "metadata": {
        "id": "oy-Tn662Lvtj",
        "collapsed": true
      },
      "outputs": [],
      "source": [
        "for year in years:\n",
        "  print('Year:', year)\n",
        "  for term in target_terms:\n",
        "   get_descriptions(term, year, \"target_term\")\n",
        "\n",
        "  base_url = get_base_url(year)\n",
        "  for term in target_terms_nationalities:\n",
        "    get_descriptions(term, year, \"target_terms_nationalities\", base_url)\n",
        "\n",
        "  for term in target_terms_norsk:\n",
        "    get_descriptions(term, year, \"target_terms_nationalities\", base_url)"
      ]
    },
    {
      "cell_type": "code",
      "execution_count": null,
      "metadata": {
        "id": "mIEibLaZLxu7",
        "collapsed": true
      },
      "outputs": [],
      "source": [
        "for year in years:\n",
        "  print('Year:', year)\n",
        "  base_url = get_base_url(year)\n",
        "  for term in counter_terms:\n",
        "   get_descriptions(term, year, \"counter_terms\", base_url)"
      ]
    },
    {
      "cell_type": "markdown",
      "metadata": {
        "id": "Kww-7PYUIsoR"
      },
      "source": [
        "## Combining CSVs"
      ]
    },
    {
      "cell_type": "markdown",
      "metadata": {
        "id": "o9KHkqVCIwfF"
      },
      "source": [
        "#### Combining microportraits by year, separating by term"
      ]
    },
    {
      "cell_type": "code",
      "source": [
        "def combining_microportraits(term_type, term_list):\n",
        "  years = ['2019','2018','2017']\n",
        "  desc_types = ['properties','labels','roles']\n",
        "\n",
        "  print(f'for list {term_type}')\n",
        "\n",
        "  for desc_type in desc_types:\n",
        "    print(f'Combining {desc_type}..')\n",
        "\n",
        "    for term in term_list:\n",
        "      combined_df = pl.DataFrame()\n",
        "\n",
        "      for year in years:\n",
        "\n",
        "        base_url = '/content/drive/MyDrive/Thesis/Data/Over the years/microportraits'\n",
        "        reading_path = f'{base_url}/{term_type}/{desc_type}/{term}.csv'\n",
        "\n",
        "        try:\n",
        "          df = pl.read_csv(reading_path)\n",
        "        except Exception as e:\n",
        "          print(f'Exception! for {term} in year {year}', e)\n",
        "          continue\n",
        "\n",
        "        df = df.select([pl.col('^*query_term*$'), pl.col('description')])\n",
        "        value_c = df['description'].value_counts(sort=True)[:n]\n",
        "        print(value_c)\n",
        "\n",
        "        combined_df = pl.concat([combined_df, df])\n",
        "\n",
        "      writing_path = f'{base_url}/{term_type}/{desc_type}'\n",
        "\n",
        "      if path.exists(writing_path) == False:\n",
        "          os.makedirs(writing_path)\n",
        "\n",
        "\n",
        "      # print(combined_df.value_counts())\n",
        "\n",
        "      # save_to_csv(combined_df,f'{writing_path}/top_10_{desc_type}', True)"
      ],
      "metadata": {
        "id": "RCs0rwEBoRk2"
      },
      "execution_count": null,
      "outputs": []
    },
    {
      "cell_type": "code",
      "source": [
        "combining_microportraits('counter_terms', counter_terms)\n",
        "combining_microportraits('target_term', target_terms)\n",
        "combining_microportraits('target_terms_nationalities', target_terms_nationalities)\n",
        "combining_microportraits('target_terms_norsk', target_terms_norsk)"
      ],
      "metadata": {
        "id": "0GNvpIVvh6fw"
      },
      "execution_count": null,
      "outputs": []
    },
    {
      "cell_type": "markdown",
      "metadata": {
        "id": "uD27272b7Wah"
      },
      "source": [
        "## Defining Frequency counts methods"
      ]
    },
    {
      "cell_type": "code",
      "execution_count": null,
      "metadata": {
        "id": "G5fubbQ94yrD"
      },
      "outputs": [],
      "source": [
        "# Make a mega csv for each term for each description\n",
        "# Find the top 10 of each description type\n",
        "\n",
        "def get_top_10_descriptions(description_type, term, term_type, year, n):\n",
        "  base_url = get_base_url(year)\n",
        "  file_path = f'{base_url}/microportraits/{term_type}/{description_type}/{term}_1.csv'\n",
        "  roles = ['agent','patient','recipient']\n",
        "\n",
        "  df = pl.DataFrame()\n",
        "  top_10 = pl.DataFrame()\n",
        "\n",
        "  column = ''\n",
        "  role = ''\n",
        "\n",
        "  print(f'Term \"{term}\"')\n",
        "\n",
        "  try:\n",
        "    df = pl.read_csv(file_path)\n",
        "  except Exception as e:\n",
        "    print('Exception!', e)\n",
        "    return\n",
        "\n",
        "  print(f'Length: {len(df)}')\n",
        "  path_to_save_file = f'{base_url}/microportraits/top_{n}s/freq_counts/{term_type}/{description_type}'\n",
        "  if path.exists(path_to_save_file) == False:\n",
        "        os.makedirs(path_to_save_file)\n",
        "\n",
        "  # Roles\n",
        "\n",
        "  column = 'description'\n",
        "\n",
        "  if(description_type == 'roles'):\n",
        "    for role in roles:\n",
        "      df2 = df.filter(pl.col('role') == role)\n",
        "\n",
        "      top_10 = df2[column].value_counts(sort=True)[:n]\n",
        "      # top_10 = top_10.rename({'event_(this_token_head)':'event'})\n",
        "\n",
        "      save_to_csv(top_10, f'{path_to_save_file}/{role}_{term}', True)\n",
        "\n",
        "  # Properties and labels\n",
        "  else:\n",
        "    top_10 = df[column].value_counts(sort=True)[:n]\n",
        "\n",
        "    save_to_csv(top_10, f'{path_to_save_file}/{term}', True)\n"
      ]
    },
    {
      "cell_type": "code",
      "execution_count": null,
      "metadata": {
        "id": "Yon3Lv0LePbc"
      },
      "outputs": [],
      "source": [
        "# Get top 10/100 roles for all roles\n",
        "\n",
        "def get_top_10_for_all_roles(year, term_type, term_list, n):\n",
        "\n",
        "  base_url = get_base_url(year)\n",
        "  path = f'{base_url}/microportraits/top_{n}s/freq_counts/{term_type}/roles'\n",
        "  data = {\"description\": [], \"count\": [], \"role\": []}\n",
        "\n",
        "  for term in term_list:\n",
        "    all_roles = []\n",
        "\n",
        "    # Patient\n",
        "    try:\n",
        "      df_p = pl.read_csv(f'{path}/patient_{term}.csv')\n",
        "      df_p = df_p.with_columns(pl.lit('patient').alias('role'))\n",
        "\n",
        "      all_events = df_p.get_columns()[0]\n",
        "      all_count = df_p.get_columns()[1].cast(pl.Int64)\n",
        "      all_roles = df_p.get_columns()[2]\n",
        "    except Exception as e:\n",
        "      print('Exception!', e)\n",
        "      continue\n",
        "\n",
        "    # Agents\n",
        "    try:\n",
        "      df_a = pl.read_csv(f'{path}/agent_{term}.csv')\n",
        "      df_a = df_a.with_columns(pl.lit('agent').alias('role'))\n",
        "\n",
        "      all_events.append(df_a.get_columns()[0])\n",
        "      all_count.append(df_a.get_columns()[1].cast(pl.Int64))\n",
        "      all_roles.append(df_a.get_columns()[2])\n",
        "    except Exception as e:\n",
        "      print('Exception!', e)\n",
        "      continue\n",
        "\n",
        "    # Recipient\n",
        "    try:\n",
        "      df_r = pl.read_csv(f'{path}/recipient_{term}.csv')\n",
        "      df_r = df_r.with_columns(pl.lit('recipient').alias('role'))\n",
        "\n",
        "      all_events.append(df_r.get_columns()[0])\n",
        "      all_count.append(df_r.get_columns()[1].cast(pl.Int64))\n",
        "      all_roles.append(df_r.get_columns()[2])\n",
        "    except Exception as e:\n",
        "      print('Exception!', e)\n",
        "      continue\n",
        "\n",
        "    df_all_roles = pl.DataFrame({\n",
        "        \"event\" : all_events,\n",
        "        \"count\":all_count,\n",
        "        \"role\":all_roles\n",
        "    })\n",
        "\n",
        "    top_10 = df_all_roles.sort(pl.col('count'), descending=True)[:n]\n",
        "    print(f'Number of microportraits for all roles: {len(df_all_roles)}')\n",
        "\n",
        "    # print(df_all_roles)\n",
        "    save_to_csv(top_10, f\"{path}/all_roles_{term}\", True)"
      ]
    },
    {
      "cell_type": "markdown",
      "metadata": {
        "id": "5ul_LT5M308M"
      },
      "source": [
        "# Get articles to manually extract microportraits"
      ]
    },
    {
      "cell_type": "code",
      "execution_count": null,
      "metadata": {
        "colab": {
          "base_uri": "https://localhost:8080/",
          "height": 187
        },
        "id": "tzPpHRyb-DYr",
        "outputId": "e5890dbd-cbcc-401a-c8ca-34462b84a0bd"
      },
      "outputs": [
        {
          "data": {
            "text/html": [
              "<div style=\"max-width:800px; border: 1px solid var(--colab-border-color);\"><style>\n",
              "      pre.function-repr-contents {\n",
              "        overflow-x: auto;\n",
              "        padding: 8px 12px;\n",
              "        max-height: 500px;\n",
              "      }\n",
              "\n",
              "      pre.function-repr-contents.function-repr-contents-collapsed {\n",
              "        cursor: pointer;\n",
              "        max-height: 100px;\n",
              "      }\n",
              "    </style>\n",
              "    <pre style=\"white-space: initial; background:\n",
              "         var(--colab-secondary-surface-color); padding: 8px 12px;\n",
              "         border-bottom: 1px solid var(--colab-border-color);\"><b>polars.config.Config</b><br/>def __call__(func)</pre><pre class=\"function-repr-contents function-repr-contents-collapsed\" style=\"\"><a class=\"filepath\" style=\"display:none\" href=\"#\">/usr/local/lib/python3.10/dist-packages/polars/config.py</a>Configure polars; offers options for table formatting and more.\n",
              "\n",
              "Notes\n",
              "-----\n",
              "Can also be used as a context manager OR a function decorator in order to\n",
              "temporarily scope the lifetime of specific options. For example:\n",
              "\n",
              "&gt;&gt;&gt; with pl.Config() as cfg:\n",
              "...     # set verbose for more detailed output within the scope\n",
              "...     cfg.set_verbose(True)  # doctest: +IGNORE_RESULT\n",
              "...\n",
              "&gt;&gt;&gt; # scope exit - no longer in verbose mode\n",
              "\n",
              "This can also be written more compactly as:\n",
              "\n",
              "&gt;&gt;&gt; with pl.Config(verbose=True):\n",
              "...     pass\n",
              "...\n",
              "\n",
              "(The compact format is available for all `Config` methods that take a single value).\n",
              "\n",
              "Alternatively, you can use as a decorator in order to scope the duration of the\n",
              "selected options to a specific function:\n",
              "\n",
              "&gt;&gt;&gt; @pl.Config(verbose=True)\n",
              "... def test():\n",
              "...     pass\n",
              "...</pre>\n",
              "      <script>\n",
              "      if (google.colab.kernel.accessAllowed && google.colab.files && google.colab.files.view) {\n",
              "        for (const element of document.querySelectorAll('.filepath')) {\n",
              "          element.style.display = 'block'\n",
              "          element.onclick = (event) => {\n",
              "            event.preventDefault();\n",
              "            event.stopPropagation();\n",
              "            google.colab.files.view(element.textContent, 85);\n",
              "          };\n",
              "        }\n",
              "      }\n",
              "      for (const element of document.querySelectorAll('.function-repr-contents')) {\n",
              "        element.onclick = (event) => {\n",
              "          event.preventDefault();\n",
              "          event.stopPropagation();\n",
              "          element.classList.toggle('function-repr-contents-collapsed');\n",
              "        };\n",
              "      }\n",
              "      </script>\n",
              "      </div>"
            ],
            "text/plain": [
              "polars.config.Config"
            ]
          },
          "execution_count": 84,
          "metadata": {},
          "output_type": "execute_result"
        }
      ],
      "source": [
        "pl.Config.set_fmt_str_lengths(100)"
      ]
    },
    {
      "cell_type": "code",
      "execution_count": null,
      "metadata": {
        "id": "Gs7y8bGKzYrp"
      },
      "outputs": [],
      "source": [
        "# Extract 10 articles per term category\n",
        "# 10 * 5 categories = 50 articles\n",
        "\n",
        "# Get sample from each term category\n",
        "\n",
        "def get_articles():\n",
        "  # Get all pre-processed articles\n",
        "  articles = []\n",
        "  dates = []\n",
        "  newssites = []\n",
        "\n",
        "  years = [2019,2018,2017]\n",
        "\n",
        "  for year in years:\n",
        "    print(year)\n",
        "\n",
        "    file_path = get_base_url(year)\n",
        "    n = len([f for f in os.listdir(file_path) if os.path.isfile(os.path.join(file_path, f))])+1\n",
        "\n",
        "    print('articles to traverse:', n-1)\n",
        "\n",
        "    for i in range(1,n):\n",
        "      df = pl.read_csv(file_path + f'/{year}-{i}.csv', truncate_ragged_lines=True)\n",
        "\n",
        "      for row in df.rows(named=True):\n",
        "        # print(row['article'])\n",
        "        articles.append(row['article'])\n",
        "        newssites.append(row['newssite'])\n",
        "        dates.append(row['date'])\n",
        "\n",
        "\n",
        "    print('----')\n",
        "\n",
        "  articles_df = pl.DataFrame({'article': articles, 'newssite': newssites, 'date': dates})\n",
        "\n",
        "  print('Collected all articles from all years! Number of articles: ', len(articles_df))\n",
        "  return articles_df"
      ]
    },
    {
      "cell_type": "code",
      "execution_count": null,
      "metadata": {
        "colab": {
          "base_uri": "https://localhost:8080/"
        },
        "id": "LtQoNNPA6oLi",
        "outputId": "0d8980d5-7d7b-489d-ddc2-e69ee8f84411"
      },
      "outputs": [
        {
          "name": "stdout",
          "output_type": "stream",
          "text": [
            "2019\n",
            "articles to traverse: 89\n",
            "----\n",
            "2018\n",
            "articles to traverse: 104\n",
            "----\n",
            "2017\n",
            "articles to traverse: 119\n",
            "----\n",
            "Collected all articles from all years! Number of articles:  490012\n"
          ]
        }
      ],
      "source": [
        "df = get_articles() # combined list of articles from all years"
      ]
    },
    {
      "cell_type": "code",
      "execution_count": null,
      "metadata": {
        "id": "d3eISE-zKZHR"
      },
      "outputs": [],
      "source": [
        "base_url = get_base_url('Over the years/Eval_set')"
      ]
    },
    {
      "cell_type": "markdown",
      "metadata": {
        "id": "Dg9by5rKJcHN"
      },
      "source": [
        "##### Target terms"
      ]
    },
    {
      "cell_type": "code",
      "execution_count": null,
      "metadata": {
        "colab": {
          "base_uri": "https://localhost:8080/"
        },
        "id": "xkAVty3_JekW",
        "outputId": "c0782b7a-0074-4ed4-b0bb-71f4345a2d57"
      },
      "outputs": [
        {
          "name": "stdout",
          "output_type": "stream",
          "text": [
            "Total rows to traverse: 490012\n",
            "Rows traversed: 0\n",
            "Rows traversed: 100000\n",
            "Rows traversed: 200000\n",
            "Rows traversed: 300000\n",
            "Rows traversed: 400000\n"
          ]
        }
      ],
      "source": [
        "target_match_df = match_for_articles(df, target_terms, False)"
      ]
    },
    {
      "cell_type": "code",
      "execution_count": null,
      "metadata": {
        "colab": {
          "base_uri": "https://localhost:8080/"
        },
        "id": "Euc9WtgIL60O",
        "outputId": "c3ec72fd-37b3-45c0-d506-6d0c9bfd0114"
      },
      "outputs": [
        {
          "name": "stdout",
          "output_type": "stream",
          "text": [
            "shape: (11, 2)\n",
            "┌───────────────┬───────┐\n",
            "│ relevant_term ┆ count │\n",
            "│ ---           ┆ ---   │\n",
            "│ str           ┆ u32   │\n",
            "╞═══════════════╪═══════╡\n",
            "│ islam         ┆ 618   │\n",
            "│ islamsk       ┆ 504   │\n",
            "│ muslimsk      ┆ 444   │\n",
            "│ hijab         ┆ 254   │\n",
            "│ …             ┆ …     │\n",
            "│ burka         ┆ 49    │\n",
            "│ moske         ┆ 38    │\n",
            "│ niqab         ┆ 16    │\n",
            "│ koran         ┆ 5     │\n",
            "└───────────────┴───────┘\n"
          ]
        }
      ],
      "source": [
        "print(target_match_df['relevant_term'].value_counts(sort=True))"
      ]
    },
    {
      "cell_type": "code",
      "execution_count": null,
      "metadata": {
        "colab": {
          "base_uri": "https://localhost:8080/"
        },
        "id": "b6y99Pl-8elM",
        "outputId": "19450459-8071-4f8b-c855-a92db208bc46"
      },
      "outputs": [
        {
          "name": "stdout",
          "output_type": "stream",
          "text": [
            "shape: (10,)\n",
            "Series: 'relevant_term' [str]\n",
            "[\n",
            "\t\"muslimsk\"\n",
            "\t\"islam\"\n",
            "\t\"moské\"\n",
            "\t\"islamsk\"\n",
            "\t\"hijab\"\n",
            "\t\"islam\"\n",
            "\t\"islam\"\n",
            "\t\"muslim\"\n",
            "\t\"muslim\"\n",
            "\t\"hijab\"\n",
            "]\n"
          ]
        }
      ],
      "source": [
        "target_sample_df = target_match_df.sample(n=10, shuffle=True)\n",
        "print(target_sample_df['relevant_term'].head(10))"
      ]
    },
    {
      "cell_type": "code",
      "execution_count": null,
      "metadata": {
        "id": "dycf0nZpOy3E"
      },
      "outputs": [],
      "source": [
        "# save\n",
        "save_to_csv(target_sample_df, f'{base_url}/target_term', True)"
      ]
    },
    {
      "cell_type": "markdown",
      "metadata": {
        "id": "NBL8FZH5J5yz"
      },
      "source": [
        "##### Counter terms"
      ]
    },
    {
      "cell_type": "code",
      "execution_count": null,
      "metadata": {
        "colab": {
          "base_uri": "https://localhost:8080/"
        },
        "id": "tWqAN0zmJ9RG",
        "outputId": "4ce4e341-5292-489e-c808-4d9203654259"
      },
      "outputs": [
        {
          "name": "stdout",
          "output_type": "stream",
          "text": [
            "Total rows to traverse: 490012\n",
            "Rows traversed: 0\n",
            "Rows traversed: 100000\n",
            "Rows traversed: 200000\n",
            "Rows traversed: 300000\n",
            "Rows traversed: 400000\n"
          ]
        }
      ],
      "source": [
        "counter_match_df = match_for_articles(df, counter_terms, False)"
      ]
    },
    {
      "cell_type": "code",
      "execution_count": null,
      "metadata": {
        "colab": {
          "base_uri": "https://localhost:8080/"
        },
        "id": "FhjB4pmjL5xH",
        "outputId": "e513ad58-2e3c-42f5-983d-46755dd3b0fe"
      },
      "outputs": [
        {
          "name": "stdout",
          "output_type": "stream",
          "text": [
            "shape: (8, 2)\n",
            "┌───────────────┬───────┐\n",
            "│ relevant_term ┆ count │\n",
            "│ ---           ┆ ---   │\n",
            "│ str           ┆ u32   │\n",
            "╞═══════════════╪═══════╡\n",
            "│ norsk         ┆ 37423 │\n",
            "│ nordmann      ┆ 1480  │\n",
            "│ kristne       ┆ 1121  │\n",
            "│ vestlig       ┆ 493   │\n",
            "│ kristen       ┆ 462   │\n",
            "│ liberal       ┆ 456   │\n",
            "│ sekulær       ┆ 51    │\n",
            "│ ateist        ┆ 24    │\n",
            "└───────────────┴───────┘\n"
          ]
        }
      ],
      "source": [
        "print(counter_match_df['relevant_term'].value_counts(sort=True))"
      ]
    },
    {
      "cell_type": "code",
      "execution_count": null,
      "metadata": {
        "colab": {
          "base_uri": "https://localhost:8080/"
        },
        "id": "4nM2c62DE1WN",
        "outputId": "28967c26-939b-4ba4-b27d-ee6b18cd27f3"
      },
      "outputs": [
        {
          "name": "stdout",
          "output_type": "stream",
          "text": [
            "shape: (10,)\n",
            "Series: 'relevant_term' [str]\n",
            "[\n",
            "\t\"sekulær\"\n",
            "\t\"nordmann\"\n",
            "\t\"kristen\"\n",
            "\t\"nordmann\"\n",
            "\t\"vestlig\"\n",
            "\t\"vestlig\"\n",
            "\t\"kristen\"\n",
            "\t\"liberal\"\n",
            "\t\"kristne\"\n",
            "\t\"nordmann\"\n",
            "]\n"
          ]
        }
      ],
      "source": [
        "# counter terms\n",
        "# counter_sample_df = counter_match_df.sample(n=10, shuffle=True)\n",
        "without_norsk_df = counter_match_df.filter(pl.col('relevant_term') != 'norsk')\n",
        "without_norsk_df = without_norsk_df.sample(n=10, shuffle=True)\n",
        "print(without_norsk_df['relevant_term'].head(10))"
      ]
    },
    {
      "cell_type": "code",
      "execution_count": null,
      "metadata": {
        "id": "quFGMQKbToji"
      },
      "outputs": [],
      "source": [
        "save_to_csv(without_norsk_df, f'{base_url}/counter_terms', True)"
      ]
    },
    {
      "cell_type": "markdown",
      "metadata": {
        "id": "vTB8MnCxJ_fd"
      },
      "source": [
        "##### Target terms nationalities"
      ]
    },
    {
      "cell_type": "code",
      "execution_count": null,
      "metadata": {
        "colab": {
          "base_uri": "https://localhost:8080/"
        },
        "id": "WzJ93_S1KCgU",
        "outputId": "8c2f26ba-52ab-4730-b650-b28f7cfbc2fe"
      },
      "outputs": [
        {
          "name": "stdout",
          "output_type": "stream",
          "text": [
            "Total rows to traverse: 490012\n",
            "Rows traversed: 0\n",
            "Rows traversed: 100000\n",
            "Rows traversed: 200000\n",
            "Rows traversed: 300000\n",
            "Rows traversed: 400000\n"
          ]
        }
      ],
      "source": [
        "nat_match_df = match_for_articles(df, target_terms_nationalities, False)"
      ]
    },
    {
      "cell_type": "code",
      "execution_count": null,
      "metadata": {
        "colab": {
          "base_uri": "https://localhost:8080/"
        },
        "id": "nPDCDTKZL4mK",
        "outputId": "6f064ddc-05d1-44df-bf0f-491ed7d4aa2b"
      },
      "outputs": [
        {
          "name": "stdout",
          "output_type": "stream",
          "text": [
            "shape: (14, 2)\n",
            "┌───────────────┬───────┐\n",
            "│ relevant_term ┆ count │\n",
            "│ ---           ┆ ---   │\n",
            "│ str           ┆ u32   │\n",
            "╞═══════════════╪═══════╡\n",
            "│ tyrkisk       ┆ 674   │\n",
            "│ iransk        ┆ 419   │\n",
            "│ afghansk      ┆ 179   │\n",
            "│ pakistansk    ┆ 176   │\n",
            "│ …             ┆ …     │\n",
            "│ somalier      ┆ 13    │\n",
            "│ pakistaner    ┆ 9     │\n",
            "│ iraner        ┆ 9     │\n",
            "│ marokkaner    ┆ 6     │\n",
            "└───────────────┴───────┘\n"
          ]
        }
      ],
      "source": [
        "print(nat_match_df['relevant_term'].value_counts(sort=True))"
      ]
    },
    {
      "cell_type": "code",
      "execution_count": null,
      "metadata": {
        "colab": {
          "base_uri": "https://localhost:8080/"
        },
        "id": "SsyRokUwE2fl",
        "outputId": "f2cad98a-a191-406e-ca2e-215857211ba7"
      },
      "outputs": [
        {
          "name": "stdout",
          "output_type": "stream",
          "text": [
            "shape: (10,)\n",
            "Series: 'relevant_term' [str]\n",
            "[\n",
            "\t\"somalisk\"\n",
            "\t\"tyrkisk\"\n",
            "\t\"tyrkisk\"\n",
            "\t\"irakisk\"\n",
            "\t\"pakistansk\"\n",
            "\t\"afghansk\"\n",
            "\t\"afghansk\"\n",
            "\t\"pakistansk\"\n",
            "\t\"pakistaner\"\n",
            "\t\"iransk\"\n",
            "]\n"
          ]
        }
      ],
      "source": [
        "# target terms nationalities\n",
        "nat_sample_df = nat_match_df.sample(n=10, shuffle=True)\n",
        "print(nat_sample_df['relevant_term'].head(10))"
      ]
    },
    {
      "cell_type": "code",
      "execution_count": null,
      "metadata": {
        "id": "GMrtybo6TfGT"
      },
      "outputs": [],
      "source": [
        "save_to_csv(nat_sample_df, f'{base_url}/target_terms_nationalities', True)"
      ]
    },
    {
      "cell_type": "markdown",
      "metadata": {
        "id": "rPOUC9RIKIni"
      },
      "source": [
        "##### Target terms norsk"
      ]
    },
    {
      "cell_type": "code",
      "execution_count": null,
      "metadata": {
        "colab": {
          "base_uri": "https://localhost:8080/"
        },
        "id": "dBY-SzmxKLRe",
        "outputId": "be6d8b79-5901-4cda-fbb6-527548466161"
      },
      "outputs": [
        {
          "name": "stdout",
          "output_type": "stream",
          "text": [
            "Total rows to traverse: 490012\n",
            "Rows traversed: 0\n",
            "Rows traversed: 100000\n",
            "Rows traversed: 200000\n",
            "Rows traversed: 300000\n",
            "Rows traversed: 400000\n"
          ]
        }
      ],
      "source": [
        "nor_match_df = match_for_articles(df, target_terms_norsk, False)"
      ]
    },
    {
      "cell_type": "code",
      "execution_count": null,
      "metadata": {
        "colab": {
          "base_uri": "https://localhost:8080/"
        },
        "id": "AcCBn92cKwYc",
        "outputId": "c80b1f5e-37cb-44d6-f3b9-78d2df39bd70"
      },
      "outputs": [
        {
          "name": "stdout",
          "output_type": "stream",
          "text": [
            "shape: (7, 2)\n",
            "┌─────────────────┬───────┐\n",
            "│ relevant_term   ┆ count │\n",
            "│ ---             ┆ ---   │\n",
            "│ str             ┆ u32   │\n",
            "╞═════════════════╪═══════╡\n",
            "│ norskpakistaner ┆ 23    │\n",
            "│ norsksomalier   ┆ 9     │\n",
            "│ norskiraner     ┆ 7     │\n",
            "│ norsksomalisk   ┆ 6     │\n",
            "│ norskpakistansk ┆ 6     │\n",
            "│ norskiraker     ┆ 5     │\n",
            "│ norskmarokkaner ┆ 2     │\n",
            "└─────────────────┴───────┘\n"
          ]
        }
      ],
      "source": [
        "print(nor_match_df['relevant_term'].value_counts(sort=True))"
      ]
    },
    {
      "cell_type": "code",
      "execution_count": null,
      "metadata": {
        "colab": {
          "base_uri": "https://localhost:8080/"
        },
        "id": "JcL4omYqE3R-",
        "outputId": "03cc035b-16d1-4e4c-ded4-0e0a5f47a84e"
      },
      "outputs": [
        {
          "name": "stdout",
          "output_type": "stream",
          "text": [
            "shape: (10,)\n",
            "Series: 'relevant_term' [str]\n",
            "[\n",
            "\t\"norskiraker\"\n",
            "\t\"norsksomalier\"\n",
            "\t\"norskiraker\"\n",
            "\t\"norskiraner\"\n",
            "\t\"norskpakistaner\"\n",
            "\t\"norskiraker\"\n",
            "\t\"norskpakistaner\"\n",
            "\t\"norsksomalier\"\n",
            "\t\"norskiraner\"\n",
            "\t\"norskpakistaner\"\n",
            "]\n"
          ]
        }
      ],
      "source": [
        "# target terms norsk\n",
        "nor_sample_df = nor_match_df.sample(n=10, shuffle=True)\n",
        "print(nor_sample_df['relevant_term'].head(10))"
      ]
    },
    {
      "cell_type": "code",
      "execution_count": null,
      "metadata": {
        "id": "NpWbUsCARtde"
      },
      "outputs": [],
      "source": [
        "save_to_csv(nor_sample_df, f'{base_url}/target_terms_norsk', True)"
      ]
    },
    {
      "cell_type": "markdown",
      "source": [
        "# Topic Modelling\n",
        "\n",
        "source: https://towardsdatascience.com/6-tips-to-optimize-an-nlp-topic-model-for-interpretability-20742f3047e2, https://nicharuc.github.io/topic_modeling/"
      ],
      "metadata": {
        "id": "-i5qI_HpjDUs"
      }
    },
    {
      "cell_type": "markdown",
      "source": [
        "##### code"
      ],
      "metadata": {
        "id": "AaMmI09lmyaU"
      }
    },
    {
      "cell_type": "code",
      "source": [
        "topic_terms = target_terms + target_terms_nationalities + target_terms_norsk + counter_terms"
      ],
      "metadata": {
        "id": "z9FA_wSYaIM3"
      },
      "execution_count": null,
      "outputs": []
    },
    {
      "cell_type": "code",
      "execution_count": null,
      "metadata": {
        "colab": {
          "base_uri": "https://localhost:8080/"
        },
        "collapsed": true,
        "id": "hFBrbxpaEIcu",
        "outputId": "bd5e937c-e4db-4e87-fdee-784d59d48892"
      },
      "outputs": [
        {
          "output_type": "stream",
          "name": "stderr",
          "text": [
            "/usr/local/lib/python3.10/dist-packages/ipykernel/ipkernel.py:283: DeprecationWarning: `should_run_async` will not call `transform_cell` automatically in the future. Please pass the result to `transformed_cell` argument and any exception that happen during thetransform in `preprocessing_exc_tuple` in IPython 7.17 and above.\n",
            "  and should_run_async(code)\n"
          ]
        },
        {
          "output_type": "stream",
          "name": "stdout",
          "text": [
            "Year: 2019\n",
            "No. of files to traverse: 5\n",
            "\n",
            "\n",
            "Year: 2018\n",
            "No. of files to traverse: 5\n",
            "\n",
            "\n",
            "Year: 2017\n",
            "No. of files to traverse: 5\n",
            "\n",
            "\n"
          ]
        }
      ],
      "source": [
        "# Do this per year, per term category\n",
        "\n",
        "toknes_df = pl.DataFrame()\n",
        "\n",
        "for year in [2019, 2018, 2017]:\n",
        "  print('Year:', year)\n",
        "\n",
        "  # base_url = get_base_url(year)\n",
        "  # file_path = f'{base_url}/spacy'\n",
        "  file_path = f'/content/drive/MyDrive/Thesis/Data/Eval_Pipeline_folder/{year}/spacy'\n",
        "\n",
        "  n = len([f for f in os.listdir(file_path) if os.path.isfile(os.path.join(file_path, f))])+1\n",
        "  # n = 6 # Files_for_manual_inspection\n",
        "  print('No. of files to traverse:',n-1)\n",
        "\n",
        "  for i in np.array(range(1,n)):\n",
        "    if i % 20 == 0:\n",
        "      print(f'path: {file_path}/{year}-{i}-spacy.csv')\n",
        "\n",
        "    tokens_list = pl.read_csv(f'{file_path}/{year}-{i}-spacy.csv')\n",
        "    tokens = only_relevant_articles(tokens_list,\"syntax\", ( target_terms_norsk ))\n",
        "    # tokens = prepare_articles_for_lda(tokens2, 'syntax')\n",
        "\n",
        "    if(len(tokens)) > 0:\n",
        "      toknes_df = pl.concat([toknes_df, tokens])\n",
        "\n",
        "  print('\\n')"
      ]
    },
    {
      "cell_type": "code",
      "execution_count": null,
      "metadata": {
        "colab": {
          "base_uri": "https://localhost:8080/"
        },
        "id": "CwDk8HIrEgi_",
        "outputId": "b56a4722-b7a1-42e2-99f9-609640aa30c0",
        "collapsed": true
      },
      "outputs": [
        {
          "output_type": "stream",
          "name": "stdout",
          "text": [
            "18\n"
          ]
        },
        {
          "output_type": "stream",
          "name": "stderr",
          "text": [
            "/usr/local/lib/python3.10/dist-packages/ipykernel/ipkernel.py:283: DeprecationWarning: `should_run_async` will not call `transform_cell` automatically in the future. Please pass the result to `transformed_cell` argument and any exception that happen during thetransform in `preprocessing_exc_tuple` in IPython 7.17 and above.\n",
            "  and should_run_async(code)\n"
          ]
        }
      ],
      "source": [
        "# print(len(tokens_list))\n",
        "print(len(toknes_df)) # only relevant articles\n",
        "# print(toknes_df.head)"
      ]
    },
    {
      "cell_type": "markdown",
      "source": [
        "###### /////////////// bigrams start ///////////////"
      ],
      "metadata": {
        "id": "QUGSJusVozXz"
      }
    },
    {
      "cell_type": "code",
      "source": [
        "import nltk\n",
        "\n",
        "# Example for detecting bigrams\n",
        "bigram_measures = nltk.collocations.BigramAssocMeasures()\n",
        "finder =nltk.collocations.BigramCollocationFinder\\\n",
        ".from_documents([comment.split() for comment in toknes_df['article']])\n",
        "\n",
        "# Filter only those that occur at least 50 times\n",
        "finder.apply_freq_filter(50)\n",
        "bigram_scores = finder.score_ngrams(bigram_measures.pmi)"
      ],
      "metadata": {
        "colab": {
          "base_uri": "https://localhost:8080/"
        },
        "id": "I3I5Gau9oinY",
        "outputId": "c3ff15bd-317f-4198-c5d7-0c49d5523f39"
      },
      "execution_count": null,
      "outputs": [
        {
          "output_type": "stream",
          "name": "stderr",
          "text": [
            "/usr/local/lib/python3.10/dist-packages/ipykernel/ipkernel.py:283: DeprecationWarning: `should_run_async` will not call `transform_cell` automatically in the future. Please pass the result to `transformed_cell` argument and any exception that happen during thetransform in `preprocessing_exc_tuple` in IPython 7.17 and above.\n",
            "  and should_run_async(code)\n"
          ]
        }
      ]
    },
    {
      "cell_type": "code",
      "source": [
        "finder.nbest(bigram_measures.pmi, 50)"
      ],
      "metadata": {
        "colab": {
          "base_uri": "https://localhost:8080/"
        },
        "id": "iF3RkH1Qvhsu",
        "outputId": "d167c7ed-ec82-4026-b326-05cef702fb5e"
      },
      "execution_count": null,
      "outputs": [
        {
          "output_type": "stream",
          "name": "stderr",
          "text": [
            "/usr/local/lib/python3.10/dist-packages/ipykernel/ipkernel.py:283: DeprecationWarning: `should_run_async` will not call `transform_cell` automatically in the future. Please pass the result to `transformed_cell` argument and any exception that happen during thetransform in `preprocessing_exc_tuple` in IPython 7.17 and above.\n",
            "  and should_run_async(code)\n"
          ]
        },
        {
          "output_type": "execute_result",
          "data": {
            "text/plain": [
              "[]"
            ]
          },
          "metadata": {},
          "execution_count": 286
        }
      ]
    },
    {
      "cell_type": "code",
      "source": [
        "bigram_pmi = pd.DataFrame(bigram_scores)\n",
        "bigram_pmi.head()\n",
        "bigram_pmi.columns = ['bigram', 'pmi']\n",
        "bigram_pmi.sort_values(by='pmi', axis = 0, ascending = False, inplace = True)"
      ],
      "metadata": {
        "colab": {
          "base_uri": "https://localhost:8080/",
          "height": 428
        },
        "id": "MUnEtrh-o657",
        "outputId": "778a00bd-e442-4eb1-d8f6-01202aa1c3d4",
        "collapsed": true
      },
      "execution_count": null,
      "outputs": [
        {
          "output_type": "stream",
          "name": "stderr",
          "text": [
            "/usr/local/lib/python3.10/dist-packages/ipykernel/ipkernel.py:283: DeprecationWarning: `should_run_async` will not call `transform_cell` automatically in the future. Please pass the result to `transformed_cell` argument and any exception that happen during thetransform in `preprocessing_exc_tuple` in IPython 7.17 and above.\n",
            "  and should_run_async(code)\n"
          ]
        },
        {
          "output_type": "error",
          "ename": "ValueError",
          "evalue": "Length mismatch: Expected axis has 0 elements, new values have 2 elements",
          "traceback": [
            "\u001b[0;31m---------------------------------------------------------------------------\u001b[0m",
            "\u001b[0;31mValueError\u001b[0m                                Traceback (most recent call last)",
            "\u001b[0;32m<ipython-input-287-32d8ab7d6f68>\u001b[0m in \u001b[0;36m<cell line: 3>\u001b[0;34m()\u001b[0m\n\u001b[1;32m      1\u001b[0m \u001b[0mbigram_pmi\u001b[0m \u001b[0;34m=\u001b[0m \u001b[0mpd\u001b[0m\u001b[0;34m.\u001b[0m\u001b[0mDataFrame\u001b[0m\u001b[0;34m(\u001b[0m\u001b[0mbigram_scores\u001b[0m\u001b[0;34m)\u001b[0m\u001b[0;34m\u001b[0m\u001b[0;34m\u001b[0m\u001b[0m\n\u001b[1;32m      2\u001b[0m \u001b[0mbigram_pmi\u001b[0m\u001b[0;34m.\u001b[0m\u001b[0mhead\u001b[0m\u001b[0;34m(\u001b[0m\u001b[0;34m)\u001b[0m\u001b[0;34m\u001b[0m\u001b[0;34m\u001b[0m\u001b[0m\n\u001b[0;32m----> 3\u001b[0;31m \u001b[0mbigram_pmi\u001b[0m\u001b[0;34m.\u001b[0m\u001b[0mcolumns\u001b[0m \u001b[0;34m=\u001b[0m \u001b[0;34m[\u001b[0m\u001b[0;34m'bigram'\u001b[0m\u001b[0;34m,\u001b[0m \u001b[0;34m'pmi'\u001b[0m\u001b[0;34m]\u001b[0m\u001b[0;34m\u001b[0m\u001b[0;34m\u001b[0m\u001b[0m\n\u001b[0m\u001b[1;32m      4\u001b[0m \u001b[0mbigram_pmi\u001b[0m\u001b[0;34m.\u001b[0m\u001b[0msort_values\u001b[0m\u001b[0;34m(\u001b[0m\u001b[0mby\u001b[0m\u001b[0;34m=\u001b[0m\u001b[0;34m'pmi'\u001b[0m\u001b[0;34m,\u001b[0m \u001b[0maxis\u001b[0m \u001b[0;34m=\u001b[0m \u001b[0;36m0\u001b[0m\u001b[0;34m,\u001b[0m \u001b[0mascending\u001b[0m \u001b[0;34m=\u001b[0m \u001b[0;32mFalse\u001b[0m\u001b[0;34m,\u001b[0m \u001b[0minplace\u001b[0m \u001b[0;34m=\u001b[0m \u001b[0;32mTrue\u001b[0m\u001b[0;34m)\u001b[0m\u001b[0;34m\u001b[0m\u001b[0;34m\u001b[0m\u001b[0m\n",
            "\u001b[0;32m/usr/local/lib/python3.10/dist-packages/pandas/core/generic.py\u001b[0m in \u001b[0;36m__setattr__\u001b[0;34m(self, name, value)\u001b[0m\n\u001b[1;32m   6216\u001b[0m         \u001b[0;32mtry\u001b[0m\u001b[0;34m:\u001b[0m\u001b[0;34m\u001b[0m\u001b[0;34m\u001b[0m\u001b[0m\n\u001b[1;32m   6217\u001b[0m             \u001b[0mobject\u001b[0m\u001b[0;34m.\u001b[0m\u001b[0m__getattribute__\u001b[0m\u001b[0;34m(\u001b[0m\u001b[0mself\u001b[0m\u001b[0;34m,\u001b[0m \u001b[0mname\u001b[0m\u001b[0;34m)\u001b[0m\u001b[0;34m\u001b[0m\u001b[0;34m\u001b[0m\u001b[0m\n\u001b[0;32m-> 6218\u001b[0;31m             \u001b[0;32mreturn\u001b[0m \u001b[0mobject\u001b[0m\u001b[0;34m.\u001b[0m\u001b[0m__setattr__\u001b[0m\u001b[0;34m(\u001b[0m\u001b[0mself\u001b[0m\u001b[0;34m,\u001b[0m \u001b[0mname\u001b[0m\u001b[0;34m,\u001b[0m \u001b[0mvalue\u001b[0m\u001b[0;34m)\u001b[0m\u001b[0;34m\u001b[0m\u001b[0;34m\u001b[0m\u001b[0m\n\u001b[0m\u001b[1;32m   6219\u001b[0m         \u001b[0;32mexcept\u001b[0m \u001b[0mAttributeError\u001b[0m\u001b[0;34m:\u001b[0m\u001b[0;34m\u001b[0m\u001b[0;34m\u001b[0m\u001b[0m\n\u001b[1;32m   6220\u001b[0m             \u001b[0;32mpass\u001b[0m\u001b[0;34m\u001b[0m\u001b[0;34m\u001b[0m\u001b[0m\n",
            "\u001b[0;32mproperties.pyx\u001b[0m in \u001b[0;36mpandas._libs.properties.AxisProperty.__set__\u001b[0;34m()\u001b[0m\n",
            "\u001b[0;32m/usr/local/lib/python3.10/dist-packages/pandas/core/generic.py\u001b[0m in \u001b[0;36m_set_axis\u001b[0;34m(self, axis, labels)\u001b[0m\n\u001b[1;32m    765\u001b[0m         \"\"\"\n\u001b[1;32m    766\u001b[0m         \u001b[0mlabels\u001b[0m \u001b[0;34m=\u001b[0m \u001b[0mensure_index\u001b[0m\u001b[0;34m(\u001b[0m\u001b[0mlabels\u001b[0m\u001b[0;34m)\u001b[0m\u001b[0;34m\u001b[0m\u001b[0;34m\u001b[0m\u001b[0m\n\u001b[0;32m--> 767\u001b[0;31m         \u001b[0mself\u001b[0m\u001b[0;34m.\u001b[0m\u001b[0m_mgr\u001b[0m\u001b[0;34m.\u001b[0m\u001b[0mset_axis\u001b[0m\u001b[0;34m(\u001b[0m\u001b[0maxis\u001b[0m\u001b[0;34m,\u001b[0m \u001b[0mlabels\u001b[0m\u001b[0;34m)\u001b[0m\u001b[0;34m\u001b[0m\u001b[0;34m\u001b[0m\u001b[0m\n\u001b[0m\u001b[1;32m    768\u001b[0m         \u001b[0mself\u001b[0m\u001b[0;34m.\u001b[0m\u001b[0m_clear_item_cache\u001b[0m\u001b[0;34m(\u001b[0m\u001b[0;34m)\u001b[0m\u001b[0;34m\u001b[0m\u001b[0;34m\u001b[0m\u001b[0m\n\u001b[1;32m    769\u001b[0m \u001b[0;34m\u001b[0m\u001b[0m\n",
            "\u001b[0;32m/usr/local/lib/python3.10/dist-packages/pandas/core/internals/managers.py\u001b[0m in \u001b[0;36mset_axis\u001b[0;34m(self, axis, new_labels)\u001b[0m\n\u001b[1;32m    225\u001b[0m     \u001b[0;32mdef\u001b[0m \u001b[0mset_axis\u001b[0m\u001b[0;34m(\u001b[0m\u001b[0mself\u001b[0m\u001b[0;34m,\u001b[0m \u001b[0maxis\u001b[0m\u001b[0;34m:\u001b[0m \u001b[0mAxisInt\u001b[0m\u001b[0;34m,\u001b[0m \u001b[0mnew_labels\u001b[0m\u001b[0;34m:\u001b[0m \u001b[0mIndex\u001b[0m\u001b[0;34m)\u001b[0m \u001b[0;34m->\u001b[0m \u001b[0;32mNone\u001b[0m\u001b[0;34m:\u001b[0m\u001b[0;34m\u001b[0m\u001b[0;34m\u001b[0m\u001b[0m\n\u001b[1;32m    226\u001b[0m         \u001b[0;31m# Caller is responsible for ensuring we have an Index object.\u001b[0m\u001b[0;34m\u001b[0m\u001b[0;34m\u001b[0m\u001b[0m\n\u001b[0;32m--> 227\u001b[0;31m         \u001b[0mself\u001b[0m\u001b[0;34m.\u001b[0m\u001b[0m_validate_set_axis\u001b[0m\u001b[0;34m(\u001b[0m\u001b[0maxis\u001b[0m\u001b[0;34m,\u001b[0m \u001b[0mnew_labels\u001b[0m\u001b[0;34m)\u001b[0m\u001b[0;34m\u001b[0m\u001b[0;34m\u001b[0m\u001b[0m\n\u001b[0m\u001b[1;32m    228\u001b[0m         \u001b[0mself\u001b[0m\u001b[0;34m.\u001b[0m\u001b[0maxes\u001b[0m\u001b[0;34m[\u001b[0m\u001b[0maxis\u001b[0m\u001b[0;34m]\u001b[0m \u001b[0;34m=\u001b[0m \u001b[0mnew_labels\u001b[0m\u001b[0;34m\u001b[0m\u001b[0;34m\u001b[0m\u001b[0m\n\u001b[1;32m    229\u001b[0m \u001b[0;34m\u001b[0m\u001b[0m\n",
            "\u001b[0;32m/usr/local/lib/python3.10/dist-packages/pandas/core/internals/base.py\u001b[0m in \u001b[0;36m_validate_set_axis\u001b[0;34m(self, axis, new_labels)\u001b[0m\n\u001b[1;32m     83\u001b[0m \u001b[0;34m\u001b[0m\u001b[0m\n\u001b[1;32m     84\u001b[0m         \u001b[0;32melif\u001b[0m \u001b[0mnew_len\u001b[0m \u001b[0;34m!=\u001b[0m \u001b[0mold_len\u001b[0m\u001b[0;34m:\u001b[0m\u001b[0;34m\u001b[0m\u001b[0;34m\u001b[0m\u001b[0m\n\u001b[0;32m---> 85\u001b[0;31m             raise ValueError(\n\u001b[0m\u001b[1;32m     86\u001b[0m                 \u001b[0;34mf\"Length mismatch: Expected axis has {old_len} elements, new \"\u001b[0m\u001b[0;34m\u001b[0m\u001b[0;34m\u001b[0m\u001b[0m\n\u001b[1;32m     87\u001b[0m                 \u001b[0;34mf\"values have {new_len} elements\"\u001b[0m\u001b[0;34m\u001b[0m\u001b[0;34m\u001b[0m\u001b[0m\n",
            "\u001b[0;31mValueError\u001b[0m: Length mismatch: Expected axis has 0 elements, new values have 2 elements"
          ]
        }
      ]
    },
    {
      "cell_type": "code",
      "source": [
        "# print(len(bigram_pmi))\n",
        "bigram_pmi"
      ],
      "metadata": {
        "colab": {
          "base_uri": "https://localhost:8080/",
          "height": 144
        },
        "id": "_B3E4TYTx1_h",
        "outputId": "6d378073-eb0d-432c-a98f-2c7152eaa3fb"
      },
      "execution_count": null,
      "outputs": [
        {
          "output_type": "stream",
          "name": "stderr",
          "text": [
            "/usr/local/lib/python3.10/dist-packages/ipykernel/ipkernel.py:283: DeprecationWarning: `should_run_async` will not call `transform_cell` automatically in the future. Please pass the result to `transformed_cell` argument and any exception that happen during thetransform in `preprocessing_exc_tuple` in IPython 7.17 and above.\n",
            "  and should_run_async(code)\n"
          ]
        },
        {
          "output_type": "execute_result",
          "data": {
            "text/plain": [
              "Empty DataFrame\n",
              "Columns: []\n",
              "Index: []"
            ],
            "text/html": [
              "\n",
              "  <div id=\"df-6e64d6d3-0113-4fd1-bdb3-0743ae087583\" class=\"colab-df-container\">\n",
              "    <div>\n",
              "<style scoped>\n",
              "    .dataframe tbody tr th:only-of-type {\n",
              "        vertical-align: middle;\n",
              "    }\n",
              "\n",
              "    .dataframe tbody tr th {\n",
              "        vertical-align: top;\n",
              "    }\n",
              "\n",
              "    .dataframe thead th {\n",
              "        text-align: right;\n",
              "    }\n",
              "</style>\n",
              "<table border=\"1\" class=\"dataframe\">\n",
              "  <thead>\n",
              "    <tr style=\"text-align: right;\">\n",
              "      <th></th>\n",
              "    </tr>\n",
              "  </thead>\n",
              "  <tbody>\n",
              "  </tbody>\n",
              "</table>\n",
              "</div>\n",
              "    <div class=\"colab-df-buttons\">\n",
              "\n",
              "  <div class=\"colab-df-container\">\n",
              "    <button class=\"colab-df-convert\" onclick=\"convertToInteractive('df-6e64d6d3-0113-4fd1-bdb3-0743ae087583')\"\n",
              "            title=\"Convert this dataframe to an interactive table.\"\n",
              "            style=\"display:none;\">\n",
              "\n",
              "  <svg xmlns=\"http://www.w3.org/2000/svg\" height=\"24px\" viewBox=\"0 -960 960 960\">\n",
              "    <path d=\"M120-120v-720h720v720H120Zm60-500h600v-160H180v160Zm220 220h160v-160H400v160Zm0 220h160v-160H400v160ZM180-400h160v-160H180v160Zm440 0h160v-160H620v160ZM180-180h160v-160H180v160Zm440 0h160v-160H620v160Z\"/>\n",
              "  </svg>\n",
              "    </button>\n",
              "\n",
              "  <style>\n",
              "    .colab-df-container {\n",
              "      display:flex;\n",
              "      gap: 12px;\n",
              "    }\n",
              "\n",
              "    .colab-df-convert {\n",
              "      background-color: #E8F0FE;\n",
              "      border: none;\n",
              "      border-radius: 50%;\n",
              "      cursor: pointer;\n",
              "      display: none;\n",
              "      fill: #1967D2;\n",
              "      height: 32px;\n",
              "      padding: 0 0 0 0;\n",
              "      width: 32px;\n",
              "    }\n",
              "\n",
              "    .colab-df-convert:hover {\n",
              "      background-color: #E2EBFA;\n",
              "      box-shadow: 0px 1px 2px rgba(60, 64, 67, 0.3), 0px 1px 3px 1px rgba(60, 64, 67, 0.15);\n",
              "      fill: #174EA6;\n",
              "    }\n",
              "\n",
              "    .colab-df-buttons div {\n",
              "      margin-bottom: 4px;\n",
              "    }\n",
              "\n",
              "    [theme=dark] .colab-df-convert {\n",
              "      background-color: #3B4455;\n",
              "      fill: #D2E3FC;\n",
              "    }\n",
              "\n",
              "    [theme=dark] .colab-df-convert:hover {\n",
              "      background-color: #434B5C;\n",
              "      box-shadow: 0px 1px 3px 1px rgba(0, 0, 0, 0.15);\n",
              "      filter: drop-shadow(0px 1px 2px rgba(0, 0, 0, 0.3));\n",
              "      fill: #FFFFFF;\n",
              "    }\n",
              "  </style>\n",
              "\n",
              "    <script>\n",
              "      const buttonEl =\n",
              "        document.querySelector('#df-6e64d6d3-0113-4fd1-bdb3-0743ae087583 button.colab-df-convert');\n",
              "      buttonEl.style.display =\n",
              "        google.colab.kernel.accessAllowed ? 'block' : 'none';\n",
              "\n",
              "      async function convertToInteractive(key) {\n",
              "        const element = document.querySelector('#df-6e64d6d3-0113-4fd1-bdb3-0743ae087583');\n",
              "        const dataTable =\n",
              "          await google.colab.kernel.invokeFunction('convertToInteractive',\n",
              "                                                    [key], {});\n",
              "        if (!dataTable) return;\n",
              "\n",
              "        const docLinkHtml = 'Like what you see? Visit the ' +\n",
              "          '<a target=\"_blank\" href=https://colab.research.google.com/notebooks/data_table.ipynb>data table notebook</a>'\n",
              "          + ' to learn more about interactive tables.';\n",
              "        element.innerHTML = '';\n",
              "        dataTable['output_type'] = 'display_data';\n",
              "        await google.colab.output.renderOutput(dataTable, element);\n",
              "        const docLink = document.createElement('div');\n",
              "        docLink.innerHTML = docLinkHtml;\n",
              "        element.appendChild(docLink);\n",
              "      }\n",
              "    </script>\n",
              "  </div>\n",
              "\n",
              "\n",
              "  <div id=\"id_9854f3ab-c88e-47c5-a250-be6998d18f40\">\n",
              "    <style>\n",
              "      .colab-df-generate {\n",
              "        background-color: #E8F0FE;\n",
              "        border: none;\n",
              "        border-radius: 50%;\n",
              "        cursor: pointer;\n",
              "        display: none;\n",
              "        fill: #1967D2;\n",
              "        height: 32px;\n",
              "        padding: 0 0 0 0;\n",
              "        width: 32px;\n",
              "      }\n",
              "\n",
              "      .colab-df-generate:hover {\n",
              "        background-color: #E2EBFA;\n",
              "        box-shadow: 0px 1px 2px rgba(60, 64, 67, 0.3), 0px 1px 3px 1px rgba(60, 64, 67, 0.15);\n",
              "        fill: #174EA6;\n",
              "      }\n",
              "\n",
              "      [theme=dark] .colab-df-generate {\n",
              "        background-color: #3B4455;\n",
              "        fill: #D2E3FC;\n",
              "      }\n",
              "\n",
              "      [theme=dark] .colab-df-generate:hover {\n",
              "        background-color: #434B5C;\n",
              "        box-shadow: 0px 1px 3px 1px rgba(0, 0, 0, 0.15);\n",
              "        filter: drop-shadow(0px 1px 2px rgba(0, 0, 0, 0.3));\n",
              "        fill: #FFFFFF;\n",
              "      }\n",
              "    </style>\n",
              "    <button class=\"colab-df-generate\" onclick=\"generateWithVariable('bigram_pmi')\"\n",
              "            title=\"Generate code using this dataframe.\"\n",
              "            style=\"display:none;\">\n",
              "\n",
              "  <svg xmlns=\"http://www.w3.org/2000/svg\" height=\"24px\"viewBox=\"0 0 24 24\"\n",
              "       width=\"24px\">\n",
              "    <path d=\"M7,19H8.4L18.45,9,17,7.55,7,17.6ZM5,21V16.75L18.45,3.32a2,2,0,0,1,2.83,0l1.4,1.43a1.91,1.91,0,0,1,.58,1.4,1.91,1.91,0,0,1-.58,1.4L9.25,21ZM18.45,9,17,7.55Zm-12,3A5.31,5.31,0,0,0,4.9,8.1,5.31,5.31,0,0,0,1,6.5,5.31,5.31,0,0,0,4.9,4.9,5.31,5.31,0,0,0,6.5,1,5.31,5.31,0,0,0,8.1,4.9,5.31,5.31,0,0,0,12,6.5,5.46,5.46,0,0,0,6.5,12Z\"/>\n",
              "  </svg>\n",
              "    </button>\n",
              "    <script>\n",
              "      (() => {\n",
              "      const buttonEl =\n",
              "        document.querySelector('#id_9854f3ab-c88e-47c5-a250-be6998d18f40 button.colab-df-generate');\n",
              "      buttonEl.style.display =\n",
              "        google.colab.kernel.accessAllowed ? 'block' : 'none';\n",
              "\n",
              "      buttonEl.onclick = () => {\n",
              "        google.colab.notebook.generateWithVariable('bigram_pmi');\n",
              "      }\n",
              "      })();\n",
              "    </script>\n",
              "  </div>\n",
              "\n",
              "    </div>\n",
              "  </div>\n"
            ],
            "application/vnd.google.colaboratory.intrinsic+json": {
              "type": "dataframe",
              "variable_name": "bigram_pmi",
              "summary": "{\n  \"name\": \"bigram_pmi\",\n  \"rows\": 0,\n  \"fields\": []\n}"
            }
          },
          "metadata": {},
          "execution_count": 288
        }
      ]
    },
    {
      "cell_type": "code",
      "source": [
        "\n",
        "def bigram_filter(bigram):\n",
        "    tag = nltk.pos_tag(bigram)\n",
        "    if tag[0][1] not in ['JJ', 'NN'] and tag[1][1] not in ['NN']:\n",
        "        return False\n",
        "    # if bigram[0] in stop_word_list or bigram[1] in stop_word_list:\n",
        "    #     return False\n",
        "    if 'n' in bigram or 't' in bigram:\n",
        "        return False\n",
        "    if 'PRON' in bigram:\n",
        "        return False\n",
        "    return True"
      ],
      "metadata": {
        "colab": {
          "base_uri": "https://localhost:8080/"
        },
        "id": "cWisBYbapKDR",
        "outputId": "a83f637b-f958-4fc4-ede0-398a5a61c7be"
      },
      "execution_count": null,
      "outputs": [
        {
          "output_type": "stream",
          "name": "stderr",
          "text": [
            "/usr/local/lib/python3.10/dist-packages/ipykernel/ipkernel.py:283: DeprecationWarning: `should_run_async` will not call `transform_cell` automatically in the future. Please pass the result to `transformed_cell` argument and any exception that happen during thetransform in `preprocessing_exc_tuple` in IPython 7.17 and above.\n",
            "  and should_run_async(code)\n"
          ]
        }
      ]
    },
    {
      "cell_type": "code",
      "source": [
        "nltk.download('averaged_perceptron_tagger')"
      ],
      "metadata": {
        "colab": {
          "base_uri": "https://localhost:8080/"
        },
        "id": "NeWQo5y5wo1L",
        "outputId": "4522631c-d798-4068-b098-37a48b485cb3"
      },
      "execution_count": null,
      "outputs": [
        {
          "output_type": "stream",
          "name": "stderr",
          "text": [
            "/usr/local/lib/python3.10/dist-packages/ipykernel/ipkernel.py:283: DeprecationWarning: `should_run_async` will not call `transform_cell` automatically in the future. Please pass the result to `transformed_cell` argument and any exception that happen during thetransform in `preprocessing_exc_tuple` in IPython 7.17 and above.\n",
            "  and should_run_async(code)\n",
            "[nltk_data] Downloading package averaged_perceptron_tagger to\n",
            "[nltk_data]     /root/nltk_data...\n",
            "[nltk_data]   Unzipping taggers/averaged_perceptron_tagger.zip.\n"
          ]
        },
        {
          "output_type": "execute_result",
          "data": {
            "text/plain": [
              "True"
            ]
          },
          "metadata": {},
          "execution_count": 290
        }
      ]
    },
    {
      "cell_type": "code",
      "source": [
        "\n",
        "filtered_bigram = bigram_pmi[bigram_pmi.apply(lambda bigram:\\\n",
        "                                              bigram_filter(bigram['bigram'])\\\n",
        "                                              and bigram.pmi > 5, axis = 1)][:500]\n",
        "\n",
        "bigrams = [' '.join(x) for x in filtered_bigram.bigram.values if len(x[0]) > 2 or len(x[1]) > 2]"
      ],
      "metadata": {
        "id": "PyViIvugwQxL"
      },
      "execution_count": null,
      "outputs": []
    },
    {
      "cell_type": "code",
      "source": [
        "# examples of bigrams\n",
        "print(len(bigrams))\n",
        "bigrams[:20]"
      ],
      "metadata": {
        "id": "WRIVw9Zlwwd9"
      },
      "execution_count": null,
      "outputs": []
    },
    {
      "cell_type": "markdown",
      "source": [
        "###### /////////////// bigrams slutt ///////////////\n",
        "\n",
        "\n"
      ],
      "metadata": {
        "id": "43s8w6nYoxY_"
      }
    },
    {
      "cell_type": "markdown",
      "source": [
        "###### /////// trigrams start ///////////"
      ],
      "metadata": {
        "id": "IndQDXv5iXuJ"
      }
    },
    {
      "cell_type": "code",
      "source": [
        "trigram_measures = nltk.collocations.TrigramAssocMeasures()\n",
        "tfinder = nltk.collocations.TrigramCollocationFinder.from_documents([comment.split() for comment in toknes_df['article']])\n",
        "# Filter only those that occur at least 50 times\n",
        "tfinder.apply_freq_filter(50)\n",
        "trigram_scores = tfinder.score_ngrams(trigram_measures.pmi)"
      ],
      "metadata": {
        "colab": {
          "base_uri": "https://localhost:8080/"
        },
        "id": "coU3o-60iedY",
        "outputId": "0fe79afc-4f4e-4121-cb44-9d8d6b52b2b6"
      },
      "execution_count": null,
      "outputs": [
        {
          "output_type": "stream",
          "name": "stderr",
          "text": [
            "/usr/local/lib/python3.10/dist-packages/ipykernel/ipkernel.py:283: DeprecationWarning: `should_run_async` will not call `transform_cell` automatically in the future. Please pass the result to `transformed_cell` argument and any exception that happen during thetransform in `preprocessing_exc_tuple` in IPython 7.17 and above.\n",
            "  and should_run_async(code)\n"
          ]
        }
      ]
    },
    {
      "cell_type": "code",
      "source": [
        "trigram_pmi = pd.DataFrame(trigram_scores)\n",
        "trigram_pmi.columns = ['trigram', 'pmi']\n",
        "trigram_pmi.sort_values(by='pmi', axis = 0, ascending = False, inplace = True)"
      ],
      "metadata": {
        "id": "zqua1eARijEh"
      },
      "execution_count": null,
      "outputs": []
    },
    {
      "cell_type": "code",
      "source": [
        "print(len(trigram_pmi))\n",
        "trigram_pmi.head()"
      ],
      "metadata": {
        "colab": {
          "base_uri": "https://localhost:8080/",
          "height": 125
        },
        "id": "EStGdOOCnORY",
        "outputId": "ce432d95-be29-45db-c03d-9615492d0836"
      },
      "execution_count": null,
      "outputs": [
        {
          "output_type": "stream",
          "name": "stdout",
          "text": [
            "0\n"
          ]
        },
        {
          "output_type": "stream",
          "name": "stderr",
          "text": [
            "/usr/local/lib/python3.10/dist-packages/ipykernel/ipkernel.py:283: DeprecationWarning: `should_run_async` will not call `transform_cell` automatically in the future. Please pass the result to `transformed_cell` argument and any exception that happen during thetransform in `preprocessing_exc_tuple` in IPython 7.17 and above.\n",
            "  and should_run_async(code)\n"
          ]
        },
        {
          "output_type": "execute_result",
          "data": {
            "text/plain": [
              "Empty DataFrame\n",
              "Columns: []\n",
              "Index: []"
            ],
            "text/html": [
              "\n",
              "  <div id=\"df-c20d089c-635c-4a3d-ae52-70f2545e5fd5\" class=\"colab-df-container\">\n",
              "    <div>\n",
              "<style scoped>\n",
              "    .dataframe tbody tr th:only-of-type {\n",
              "        vertical-align: middle;\n",
              "    }\n",
              "\n",
              "    .dataframe tbody tr th {\n",
              "        vertical-align: top;\n",
              "    }\n",
              "\n",
              "    .dataframe thead th {\n",
              "        text-align: right;\n",
              "    }\n",
              "</style>\n",
              "<table border=\"1\" class=\"dataframe\">\n",
              "  <thead>\n",
              "    <tr style=\"text-align: right;\">\n",
              "      <th></th>\n",
              "    </tr>\n",
              "  </thead>\n",
              "  <tbody>\n",
              "  </tbody>\n",
              "</table>\n",
              "</div>\n",
              "    <div class=\"colab-df-buttons\">\n",
              "\n",
              "  <div class=\"colab-df-container\">\n",
              "    <button class=\"colab-df-convert\" onclick=\"convertToInteractive('df-c20d089c-635c-4a3d-ae52-70f2545e5fd5')\"\n",
              "            title=\"Convert this dataframe to an interactive table.\"\n",
              "            style=\"display:none;\">\n",
              "\n",
              "  <svg xmlns=\"http://www.w3.org/2000/svg\" height=\"24px\" viewBox=\"0 -960 960 960\">\n",
              "    <path d=\"M120-120v-720h720v720H120Zm60-500h600v-160H180v160Zm220 220h160v-160H400v160Zm0 220h160v-160H400v160ZM180-400h160v-160H180v160Zm440 0h160v-160H620v160ZM180-180h160v-160H180v160Zm440 0h160v-160H620v160Z\"/>\n",
              "  </svg>\n",
              "    </button>\n",
              "\n",
              "  <style>\n",
              "    .colab-df-container {\n",
              "      display:flex;\n",
              "      gap: 12px;\n",
              "    }\n",
              "\n",
              "    .colab-df-convert {\n",
              "      background-color: #E8F0FE;\n",
              "      border: none;\n",
              "      border-radius: 50%;\n",
              "      cursor: pointer;\n",
              "      display: none;\n",
              "      fill: #1967D2;\n",
              "      height: 32px;\n",
              "      padding: 0 0 0 0;\n",
              "      width: 32px;\n",
              "    }\n",
              "\n",
              "    .colab-df-convert:hover {\n",
              "      background-color: #E2EBFA;\n",
              "      box-shadow: 0px 1px 2px rgba(60, 64, 67, 0.3), 0px 1px 3px 1px rgba(60, 64, 67, 0.15);\n",
              "      fill: #174EA6;\n",
              "    }\n",
              "\n",
              "    .colab-df-buttons div {\n",
              "      margin-bottom: 4px;\n",
              "    }\n",
              "\n",
              "    [theme=dark] .colab-df-convert {\n",
              "      background-color: #3B4455;\n",
              "      fill: #D2E3FC;\n",
              "    }\n",
              "\n",
              "    [theme=dark] .colab-df-convert:hover {\n",
              "      background-color: #434B5C;\n",
              "      box-shadow: 0px 1px 3px 1px rgba(0, 0, 0, 0.15);\n",
              "      filter: drop-shadow(0px 1px 2px rgba(0, 0, 0, 0.3));\n",
              "      fill: #FFFFFF;\n",
              "    }\n",
              "  </style>\n",
              "\n",
              "    <script>\n",
              "      const buttonEl =\n",
              "        document.querySelector('#df-c20d089c-635c-4a3d-ae52-70f2545e5fd5 button.colab-df-convert');\n",
              "      buttonEl.style.display =\n",
              "        google.colab.kernel.accessAllowed ? 'block' : 'none';\n",
              "\n",
              "      async function convertToInteractive(key) {\n",
              "        const element = document.querySelector('#df-c20d089c-635c-4a3d-ae52-70f2545e5fd5');\n",
              "        const dataTable =\n",
              "          await google.colab.kernel.invokeFunction('convertToInteractive',\n",
              "                                                    [key], {});\n",
              "        if (!dataTable) return;\n",
              "\n",
              "        const docLinkHtml = 'Like what you see? Visit the ' +\n",
              "          '<a target=\"_blank\" href=https://colab.research.google.com/notebooks/data_table.ipynb>data table notebook</a>'\n",
              "          + ' to learn more about interactive tables.';\n",
              "        element.innerHTML = '';\n",
              "        dataTable['output_type'] = 'display_data';\n",
              "        await google.colab.output.renderOutput(dataTable, element);\n",
              "        const docLink = document.createElement('div');\n",
              "        docLink.innerHTML = docLinkHtml;\n",
              "        element.appendChild(docLink);\n",
              "      }\n",
              "    </script>\n",
              "  </div>\n",
              "\n",
              "\n",
              "    </div>\n",
              "  </div>\n"
            ],
            "application/vnd.google.colaboratory.intrinsic+json": {
              "type": "dataframe",
              "variable_name": "trigram_pmi",
              "summary": "{\n  \"name\": \"trigram_pmi\",\n  \"rows\": 0,\n  \"fields\": []\n}"
            }
          },
          "metadata": {},
          "execution_count": 296
        }
      ]
    },
    {
      "cell_type": "code",
      "source": [
        "# Filter for trigrams with only noun-type structures\n",
        "def trigram_filter(trigram):\n",
        "    tag = nltk.pos_tag(trigram)\n",
        "    if tag[0][1] not in ['JJ', 'NN'] and tag[1][1] not in ['JJ','NN']:\n",
        "        return False\n",
        "    # if trigram[0] in stop_word_list or trigram[-1] in stop_word_list or trigram[1] in stop_word_list:\n",
        "    #     return False\n",
        "    if 'n' in trigram or 't' in trigram:\n",
        "         return False\n",
        "    if 'PRON' in trigram:\n",
        "        return False\n",
        "    return True"
      ],
      "metadata": {
        "colab": {
          "base_uri": "https://localhost:8080/"
        },
        "id": "sGPLCFg8ikur",
        "outputId": "09ee23ba-7c9d-4425-f606-87d09b19f50f"
      },
      "execution_count": null,
      "outputs": [
        {
          "output_type": "stream",
          "name": "stderr",
          "text": [
            "/usr/local/lib/python3.10/dist-packages/ipykernel/ipkernel.py:283: DeprecationWarning: `should_run_async` will not call `transform_cell` automatically in the future. Please pass the result to `transformed_cell` argument and any exception that happen during thetransform in `preprocessing_exc_tuple` in IPython 7.17 and above.\n",
            "  and should_run_async(code)\n"
          ]
        }
      ]
    },
    {
      "cell_type": "code",
      "source": [
        "filtered_trigram = trigram_pmi[trigram_pmi.apply(lambda trigram: \\\n",
        "                                                 trigram_filter(trigram['trigram'])\\\n",
        "                                                 and trigram.pmi > 5, axis = 1)][:500] # lmao its only 9 trigrams"
      ],
      "metadata": {
        "colab": {
          "base_uri": "https://localhost:8080/"
        },
        "id": "EDrSCa34ipmZ",
        "outputId": "bc812fc8-1edf-4693-efa6-d5828ee4e4be"
      },
      "execution_count": null,
      "outputs": [
        {
          "output_type": "stream",
          "name": "stderr",
          "text": [
            "/usr/local/lib/python3.10/dist-packages/ipykernel/ipkernel.py:283: DeprecationWarning: `should_run_async` will not call `transform_cell` automatically in the future. Please pass the result to `transformed_cell` argument and any exception that happen during thetransform in `preprocessing_exc_tuple` in IPython 7.17 and above.\n",
            "  and should_run_async(code)\n"
          ]
        }
      ]
    },
    {
      "cell_type": "code",
      "source": [
        "filtered_trigram.head()"
      ],
      "metadata": {
        "colab": {
          "base_uri": "https://localhost:8080/",
          "height": 108
        },
        "id": "fJbiNzCvxgjW",
        "outputId": "fb38bc9a-f56e-4da2-9ca7-05af9921caab"
      },
      "execution_count": null,
      "outputs": [
        {
          "output_type": "stream",
          "name": "stderr",
          "text": [
            "/usr/local/lib/python3.10/dist-packages/ipykernel/ipkernel.py:283: DeprecationWarning: `should_run_async` will not call `transform_cell` automatically in the future. Please pass the result to `transformed_cell` argument and any exception that happen during thetransform in `preprocessing_exc_tuple` in IPython 7.17 and above.\n",
            "  and should_run_async(code)\n"
          ]
        },
        {
          "output_type": "execute_result",
          "data": {
            "text/plain": [
              "Empty DataFrame\n",
              "Columns: []\n",
              "Index: []"
            ],
            "text/html": [
              "\n",
              "  <div id=\"df-819467ab-1644-4014-858c-1af4e6636a37\" class=\"colab-df-container\">\n",
              "    <div>\n",
              "<style scoped>\n",
              "    .dataframe tbody tr th:only-of-type {\n",
              "        vertical-align: middle;\n",
              "    }\n",
              "\n",
              "    .dataframe tbody tr th {\n",
              "        vertical-align: top;\n",
              "    }\n",
              "\n",
              "    .dataframe thead th {\n",
              "        text-align: right;\n",
              "    }\n",
              "</style>\n",
              "<table border=\"1\" class=\"dataframe\">\n",
              "  <thead>\n",
              "    <tr style=\"text-align: right;\">\n",
              "      <th></th>\n",
              "    </tr>\n",
              "  </thead>\n",
              "  <tbody>\n",
              "  </tbody>\n",
              "</table>\n",
              "</div>\n",
              "    <div class=\"colab-df-buttons\">\n",
              "\n",
              "  <div class=\"colab-df-container\">\n",
              "    <button class=\"colab-df-convert\" onclick=\"convertToInteractive('df-819467ab-1644-4014-858c-1af4e6636a37')\"\n",
              "            title=\"Convert this dataframe to an interactive table.\"\n",
              "            style=\"display:none;\">\n",
              "\n",
              "  <svg xmlns=\"http://www.w3.org/2000/svg\" height=\"24px\" viewBox=\"0 -960 960 960\">\n",
              "    <path d=\"M120-120v-720h720v720H120Zm60-500h600v-160H180v160Zm220 220h160v-160H400v160Zm0 220h160v-160H400v160ZM180-400h160v-160H180v160Zm440 0h160v-160H620v160ZM180-180h160v-160H180v160Zm440 0h160v-160H620v160Z\"/>\n",
              "  </svg>\n",
              "    </button>\n",
              "\n",
              "  <style>\n",
              "    .colab-df-container {\n",
              "      display:flex;\n",
              "      gap: 12px;\n",
              "    }\n",
              "\n",
              "    .colab-df-convert {\n",
              "      background-color: #E8F0FE;\n",
              "      border: none;\n",
              "      border-radius: 50%;\n",
              "      cursor: pointer;\n",
              "      display: none;\n",
              "      fill: #1967D2;\n",
              "      height: 32px;\n",
              "      padding: 0 0 0 0;\n",
              "      width: 32px;\n",
              "    }\n",
              "\n",
              "    .colab-df-convert:hover {\n",
              "      background-color: #E2EBFA;\n",
              "      box-shadow: 0px 1px 2px rgba(60, 64, 67, 0.3), 0px 1px 3px 1px rgba(60, 64, 67, 0.15);\n",
              "      fill: #174EA6;\n",
              "    }\n",
              "\n",
              "    .colab-df-buttons div {\n",
              "      margin-bottom: 4px;\n",
              "    }\n",
              "\n",
              "    [theme=dark] .colab-df-convert {\n",
              "      background-color: #3B4455;\n",
              "      fill: #D2E3FC;\n",
              "    }\n",
              "\n",
              "    [theme=dark] .colab-df-convert:hover {\n",
              "      background-color: #434B5C;\n",
              "      box-shadow: 0px 1px 3px 1px rgba(0, 0, 0, 0.15);\n",
              "      filter: drop-shadow(0px 1px 2px rgba(0, 0, 0, 0.3));\n",
              "      fill: #FFFFFF;\n",
              "    }\n",
              "  </style>\n",
              "\n",
              "    <script>\n",
              "      const buttonEl =\n",
              "        document.querySelector('#df-819467ab-1644-4014-858c-1af4e6636a37 button.colab-df-convert');\n",
              "      buttonEl.style.display =\n",
              "        google.colab.kernel.accessAllowed ? 'block' : 'none';\n",
              "\n",
              "      async function convertToInteractive(key) {\n",
              "        const element = document.querySelector('#df-819467ab-1644-4014-858c-1af4e6636a37');\n",
              "        const dataTable =\n",
              "          await google.colab.kernel.invokeFunction('convertToInteractive',\n",
              "                                                    [key], {});\n",
              "        if (!dataTable) return;\n",
              "\n",
              "        const docLinkHtml = 'Like what you see? Visit the ' +\n",
              "          '<a target=\"_blank\" href=https://colab.research.google.com/notebooks/data_table.ipynb>data table notebook</a>'\n",
              "          + ' to learn more about interactive tables.';\n",
              "        element.innerHTML = '';\n",
              "        dataTable['output_type'] = 'display_data';\n",
              "        await google.colab.output.renderOutput(dataTable, element);\n",
              "        const docLink = document.createElement('div');\n",
              "        docLink.innerHTML = docLinkHtml;\n",
              "        element.appendChild(docLink);\n",
              "      }\n",
              "    </script>\n",
              "  </div>\n",
              "\n",
              "\n",
              "    </div>\n",
              "  </div>\n"
            ],
            "application/vnd.google.colaboratory.intrinsic+json": {
              "type": "dataframe",
              "variable_name": "filtered_trigram",
              "summary": "{\n  \"name\": \"filtered_trigram\",\n  \"rows\": 0,\n  \"fields\": []\n}"
            }
          },
          "metadata": {},
          "execution_count": 304
        }
      ]
    },
    {
      "cell_type": "code",
      "source": [
        "trigrams = [' '.join(x) for x in filtered_trigram.trigram.values if len(x[0]) > 2 or len(x[1]) > 2 and len(x[2]) > 2]"
      ],
      "metadata": {
        "id": "XnRmXskaitET"
      },
      "execution_count": null,
      "outputs": []
    },
    {
      "cell_type": "code",
      "source": [
        "# examples of trigrams\n",
        "print(len(trigrams))\n",
        "trigrams[:30]"
      ],
      "metadata": {
        "id": "nQH9HN93i4_A"
      },
      "execution_count": null,
      "outputs": []
    },
    {
      "cell_type": "code",
      "source": [
        "# Concatenate n-grams\n",
        "\n",
        "def replace_ngram(x):\n",
        "    for gram in bigrams:\n",
        "        x = x.replace(gram, '_'.join(gram.split()))\n",
        "    for gram in trigrams:\n",
        "        x = x.replace(gram, '_'.join(gram.split()))\n",
        "    return x\n",
        "\n",
        "reviews_w_ngrams = toknes_df.to_pandas()\n",
        "reviews_w_ngrams = reviews_w_ngrams['article'].map(lambda x: replace_ngram(x))"
      ],
      "metadata": {
        "id": "BREzxjUAi9Kd"
      },
      "execution_count": null,
      "outputs": []
    },
    {
      "cell_type": "code",
      "source": [
        "# tokenize reviews + remove stop words + remove names + remove words with less than 2 characters\n",
        "reviews_w_ngrams = reviews_w_ngrams.map(lambda x: [word for word in x.split() if len(word) > 2])"
      ],
      "metadata": {
        "colab": {
          "base_uri": "https://localhost:8080/"
        },
        "id": "W6LUKXZsjKC1",
        "outputId": "62ee6fb8-e9e0-43ca-fccf-dad5155b71a2"
      },
      "execution_count": null,
      "outputs": [
        {
          "output_type": "stream",
          "name": "stderr",
          "text": [
            "/usr/local/lib/python3.10/dist-packages/ipykernel/ipkernel.py:283: DeprecationWarning: `should_run_async` will not call `transform_cell` automatically in the future. Please pass the result to `transformed_cell` argument and any exception that happen during thetransform in `preprocessing_exc_tuple` in IPython 7.17 and above.\n",
            "  and should_run_async(code)\n"
          ]
        }
      ]
    },
    {
      "cell_type": "code",
      "source": [
        "reviews_w_ngrams.head()"
      ],
      "metadata": {
        "colab": {
          "base_uri": "https://localhost:8080/",
          "height": 261
        },
        "id": "sN_jGExvjNXa",
        "outputId": "95ba300a-c8a8-4c81-e986-57b80ed7a70f"
      },
      "execution_count": null,
      "outputs": [
        {
          "output_type": "stream",
          "name": "stderr",
          "text": [
            "/usr/local/lib/python3.10/dist-packages/ipykernel/ipkernel.py:283: DeprecationWarning: `should_run_async` will not call `transform_cell` automatically in the future. Please pass the result to `transformed_cell` argument and any exception that happen during thetransform in `preprocessing_exc_tuple` in IPython 7.17 and above.\n",
            "  and should_run_async(code)\n"
          ]
        },
        {
          "output_type": "execute_result",
          "data": {
            "text/plain": [
              "  newssite          date                                            article\n",
              "0       []  [15.07.2019]  [hverken, krekar, tiltalte, norge, gammel, nor...\n",
              "1       []  [30.03.2018]  [tiltalte, gammel, norskiraker, bosatt, fredri...\n",
              "2       []  [10.12.2018]  [krekar, tiltalte, norge, gammel, norskiraker,...\n",
              "3       []  [17.09.2018]          [gammel, norskpakistaner, siktet, drapet]\n",
              "4       []  [31.10.2018]  [tyder, etterretningstjenesten, iranske, revol..."
            ],
            "text/html": [
              "\n",
              "  <div id=\"df-8e74404c-cc55-4072-b41c-30cfd1a000da\" class=\"colab-df-container\">\n",
              "    <div>\n",
              "<style scoped>\n",
              "    .dataframe tbody tr th:only-of-type {\n",
              "        vertical-align: middle;\n",
              "    }\n",
              "\n",
              "    .dataframe tbody tr th {\n",
              "        vertical-align: top;\n",
              "    }\n",
              "\n",
              "    .dataframe thead th {\n",
              "        text-align: right;\n",
              "    }\n",
              "</style>\n",
              "<table border=\"1\" class=\"dataframe\">\n",
              "  <thead>\n",
              "    <tr style=\"text-align: right;\">\n",
              "      <th></th>\n",
              "      <th>newssite</th>\n",
              "      <th>date</th>\n",
              "      <th>article</th>\n",
              "    </tr>\n",
              "  </thead>\n",
              "  <tbody>\n",
              "    <tr>\n",
              "      <th>0</th>\n",
              "      <td>[]</td>\n",
              "      <td>[15.07.2019]</td>\n",
              "      <td>[hverken, krekar, tiltalte, norge, gammel, nor...</td>\n",
              "    </tr>\n",
              "    <tr>\n",
              "      <th>1</th>\n",
              "      <td>[]</td>\n",
              "      <td>[30.03.2018]</td>\n",
              "      <td>[tiltalte, gammel, norskiraker, bosatt, fredri...</td>\n",
              "    </tr>\n",
              "    <tr>\n",
              "      <th>2</th>\n",
              "      <td>[]</td>\n",
              "      <td>[10.12.2018]</td>\n",
              "      <td>[krekar, tiltalte, norge, gammel, norskiraker,...</td>\n",
              "    </tr>\n",
              "    <tr>\n",
              "      <th>3</th>\n",
              "      <td>[]</td>\n",
              "      <td>[17.09.2018]</td>\n",
              "      <td>[gammel, norskpakistaner, siktet, drapet]</td>\n",
              "    </tr>\n",
              "    <tr>\n",
              "      <th>4</th>\n",
              "      <td>[]</td>\n",
              "      <td>[31.10.2018]</td>\n",
              "      <td>[tyder, etterretningstjenesten, iranske, revol...</td>\n",
              "    </tr>\n",
              "  </tbody>\n",
              "</table>\n",
              "</div>\n",
              "    <div class=\"colab-df-buttons\">\n",
              "\n",
              "  <div class=\"colab-df-container\">\n",
              "    <button class=\"colab-df-convert\" onclick=\"convertToInteractive('df-8e74404c-cc55-4072-b41c-30cfd1a000da')\"\n",
              "            title=\"Convert this dataframe to an interactive table.\"\n",
              "            style=\"display:none;\">\n",
              "\n",
              "  <svg xmlns=\"http://www.w3.org/2000/svg\" height=\"24px\" viewBox=\"0 -960 960 960\">\n",
              "    <path d=\"M120-120v-720h720v720H120Zm60-500h600v-160H180v160Zm220 220h160v-160H400v160Zm0 220h160v-160H400v160ZM180-400h160v-160H180v160Zm440 0h160v-160H620v160ZM180-180h160v-160H180v160Zm440 0h160v-160H620v160Z\"/>\n",
              "  </svg>\n",
              "    </button>\n",
              "\n",
              "  <style>\n",
              "    .colab-df-container {\n",
              "      display:flex;\n",
              "      gap: 12px;\n",
              "    }\n",
              "\n",
              "    .colab-df-convert {\n",
              "      background-color: #E8F0FE;\n",
              "      border: none;\n",
              "      border-radius: 50%;\n",
              "      cursor: pointer;\n",
              "      display: none;\n",
              "      fill: #1967D2;\n",
              "      height: 32px;\n",
              "      padding: 0 0 0 0;\n",
              "      width: 32px;\n",
              "    }\n",
              "\n",
              "    .colab-df-convert:hover {\n",
              "      background-color: #E2EBFA;\n",
              "      box-shadow: 0px 1px 2px rgba(60, 64, 67, 0.3), 0px 1px 3px 1px rgba(60, 64, 67, 0.15);\n",
              "      fill: #174EA6;\n",
              "    }\n",
              "\n",
              "    .colab-df-buttons div {\n",
              "      margin-bottom: 4px;\n",
              "    }\n",
              "\n",
              "    [theme=dark] .colab-df-convert {\n",
              "      background-color: #3B4455;\n",
              "      fill: #D2E3FC;\n",
              "    }\n",
              "\n",
              "    [theme=dark] .colab-df-convert:hover {\n",
              "      background-color: #434B5C;\n",
              "      box-shadow: 0px 1px 3px 1px rgba(0, 0, 0, 0.15);\n",
              "      filter: drop-shadow(0px 1px 2px rgba(0, 0, 0, 0.3));\n",
              "      fill: #FFFFFF;\n",
              "    }\n",
              "  </style>\n",
              "\n",
              "    <script>\n",
              "      const buttonEl =\n",
              "        document.querySelector('#df-8e74404c-cc55-4072-b41c-30cfd1a000da button.colab-df-convert');\n",
              "      buttonEl.style.display =\n",
              "        google.colab.kernel.accessAllowed ? 'block' : 'none';\n",
              "\n",
              "      async function convertToInteractive(key) {\n",
              "        const element = document.querySelector('#df-8e74404c-cc55-4072-b41c-30cfd1a000da');\n",
              "        const dataTable =\n",
              "          await google.colab.kernel.invokeFunction('convertToInteractive',\n",
              "                                                    [key], {});\n",
              "        if (!dataTable) return;\n",
              "\n",
              "        const docLinkHtml = 'Like what you see? Visit the ' +\n",
              "          '<a target=\"_blank\" href=https://colab.research.google.com/notebooks/data_table.ipynb>data table notebook</a>'\n",
              "          + ' to learn more about interactive tables.';\n",
              "        element.innerHTML = '';\n",
              "        dataTable['output_type'] = 'display_data';\n",
              "        await google.colab.output.renderOutput(dataTable, element);\n",
              "        const docLink = document.createElement('div');\n",
              "        docLink.innerHTML = docLinkHtml;\n",
              "        element.appendChild(docLink);\n",
              "      }\n",
              "    </script>\n",
              "  </div>\n",
              "\n",
              "\n",
              "<div id=\"df-ea6af0da-87c1-4c28-9352-91b51fde337a\">\n",
              "  <button class=\"colab-df-quickchart\" onclick=\"quickchart('df-ea6af0da-87c1-4c28-9352-91b51fde337a')\"\n",
              "            title=\"Suggest charts\"\n",
              "            style=\"display:none;\">\n",
              "\n",
              "<svg xmlns=\"http://www.w3.org/2000/svg\" height=\"24px\"viewBox=\"0 0 24 24\"\n",
              "     width=\"24px\">\n",
              "    <g>\n",
              "        <path d=\"M19 3H5c-1.1 0-2 .9-2 2v14c0 1.1.9 2 2 2h14c1.1 0 2-.9 2-2V5c0-1.1-.9-2-2-2zM9 17H7v-7h2v7zm4 0h-2V7h2v10zm4 0h-2v-4h2v4z\"/>\n",
              "    </g>\n",
              "</svg>\n",
              "  </button>\n",
              "\n",
              "<style>\n",
              "  .colab-df-quickchart {\n",
              "      --bg-color: #E8F0FE;\n",
              "      --fill-color: #1967D2;\n",
              "      --hover-bg-color: #E2EBFA;\n",
              "      --hover-fill-color: #174EA6;\n",
              "      --disabled-fill-color: #AAA;\n",
              "      --disabled-bg-color: #DDD;\n",
              "  }\n",
              "\n",
              "  [theme=dark] .colab-df-quickchart {\n",
              "      --bg-color: #3B4455;\n",
              "      --fill-color: #D2E3FC;\n",
              "      --hover-bg-color: #434B5C;\n",
              "      --hover-fill-color: #FFFFFF;\n",
              "      --disabled-bg-color: #3B4455;\n",
              "      --disabled-fill-color: #666;\n",
              "  }\n",
              "\n",
              "  .colab-df-quickchart {\n",
              "    background-color: var(--bg-color);\n",
              "    border: none;\n",
              "    border-radius: 50%;\n",
              "    cursor: pointer;\n",
              "    display: none;\n",
              "    fill: var(--fill-color);\n",
              "    height: 32px;\n",
              "    padding: 0;\n",
              "    width: 32px;\n",
              "  }\n",
              "\n",
              "  .colab-df-quickchart:hover {\n",
              "    background-color: var(--hover-bg-color);\n",
              "    box-shadow: 0 1px 2px rgba(60, 64, 67, 0.3), 0 1px 3px 1px rgba(60, 64, 67, 0.15);\n",
              "    fill: var(--button-hover-fill-color);\n",
              "  }\n",
              "\n",
              "  .colab-df-quickchart-complete:disabled,\n",
              "  .colab-df-quickchart-complete:disabled:hover {\n",
              "    background-color: var(--disabled-bg-color);\n",
              "    fill: var(--disabled-fill-color);\n",
              "    box-shadow: none;\n",
              "  }\n",
              "\n",
              "  .colab-df-spinner {\n",
              "    border: 2px solid var(--fill-color);\n",
              "    border-color: transparent;\n",
              "    border-bottom-color: var(--fill-color);\n",
              "    animation:\n",
              "      spin 1s steps(1) infinite;\n",
              "  }\n",
              "\n",
              "  @keyframes spin {\n",
              "    0% {\n",
              "      border-color: transparent;\n",
              "      border-bottom-color: var(--fill-color);\n",
              "      border-left-color: var(--fill-color);\n",
              "    }\n",
              "    20% {\n",
              "      border-color: transparent;\n",
              "      border-left-color: var(--fill-color);\n",
              "      border-top-color: var(--fill-color);\n",
              "    }\n",
              "    30% {\n",
              "      border-color: transparent;\n",
              "      border-left-color: var(--fill-color);\n",
              "      border-top-color: var(--fill-color);\n",
              "      border-right-color: var(--fill-color);\n",
              "    }\n",
              "    40% {\n",
              "      border-color: transparent;\n",
              "      border-right-color: var(--fill-color);\n",
              "      border-top-color: var(--fill-color);\n",
              "    }\n",
              "    60% {\n",
              "      border-color: transparent;\n",
              "      border-right-color: var(--fill-color);\n",
              "    }\n",
              "    80% {\n",
              "      border-color: transparent;\n",
              "      border-right-color: var(--fill-color);\n",
              "      border-bottom-color: var(--fill-color);\n",
              "    }\n",
              "    90% {\n",
              "      border-color: transparent;\n",
              "      border-bottom-color: var(--fill-color);\n",
              "    }\n",
              "  }\n",
              "</style>\n",
              "\n",
              "  <script>\n",
              "    async function quickchart(key) {\n",
              "      const quickchartButtonEl =\n",
              "        document.querySelector('#' + key + ' button');\n",
              "      quickchartButtonEl.disabled = true;  // To prevent multiple clicks.\n",
              "      quickchartButtonEl.classList.add('colab-df-spinner');\n",
              "      try {\n",
              "        const charts = await google.colab.kernel.invokeFunction(\n",
              "            'suggestCharts', [key], {});\n",
              "      } catch (error) {\n",
              "        console.error('Error during call to suggestCharts:', error);\n",
              "      }\n",
              "      quickchartButtonEl.classList.remove('colab-df-spinner');\n",
              "      quickchartButtonEl.classList.add('colab-df-quickchart-complete');\n",
              "    }\n",
              "    (() => {\n",
              "      let quickchartButtonEl =\n",
              "        document.querySelector('#df-ea6af0da-87c1-4c28-9352-91b51fde337a button');\n",
              "      quickchartButtonEl.style.display =\n",
              "        google.colab.kernel.accessAllowed ? 'block' : 'none';\n",
              "    })();\n",
              "  </script>\n",
              "</div>\n",
              "\n",
              "    </div>\n",
              "  </div>\n"
            ],
            "application/vnd.google.colaboratory.intrinsic+json": {
              "type": "dataframe",
              "variable_name": "reviews_w_ngrams",
              "summary": "{\n  \"name\": \"reviews_w_ngrams\",\n  \"rows\": 7,\n  \"fields\": [\n    {\n      \"column\": \"newssite\",\n      \"properties\": {\n        \"dtype\": \"object\",\n        \"semantic_type\": \"\",\n        \"description\": \"\"\n      }\n    },\n    {\n      \"column\": \"date\",\n      \"properties\": {\n        \"dtype\": \"object\",\n        \"semantic_type\": \"\",\n        \"description\": \"\"\n      }\n    },\n    {\n      \"column\": \"article\",\n      \"properties\": {\n        \"dtype\": \"object\",\n        \"semantic_type\": \"\",\n        \"description\": \"\"\n      }\n    }\n  ]\n}"
            }
          },
          "metadata": {},
          "execution_count": 307
        }
      ]
    },
    {
      "cell_type": "markdown",
      "source": [
        "###### /////// trigrams slutt ///////////"
      ],
      "metadata": {
        "id": "bxd3K3DXiXmz"
      }
    },
    {
      "cell_type": "markdown",
      "source": [
        "###### ////////// nouns only filtering /////////"
      ],
      "metadata": {
        "id": "3ntVe6XDKMwW"
      }
    },
    {
      "cell_type": "code",
      "source": [
        "# Filter for only nouns\n",
        "\n",
        "def noun_only(x):\n",
        "    pos_comment = nltk.pos_tag(x)\n",
        "    filtered = [word[0] for word in pos_comment if word[1] in ['NN'] or word[1] in ['VB']]\n",
        "    return filtered\n",
        "\n",
        "final_reviews = reviews_w_ngrams.head().map(noun_only)"
      ],
      "metadata": {
        "id": "ShRAx21ZKTJR",
        "colab": {
          "base_uri": "https://localhost:8080/"
        },
        "outputId": "dca30f01-51d4-4309-d2b0-7a3d696cc277"
      },
      "execution_count": null,
      "outputs": [
        {
          "output_type": "stream",
          "name": "stderr",
          "text": [
            "/usr/local/lib/python3.10/dist-packages/ipykernel/ipkernel.py:283: DeprecationWarning: `should_run_async` will not call `transform_cell` automatically in the future. Please pass the result to `transformed_cell` argument and any exception that happen during thetransform in `preprocessing_exc_tuple` in IPython 7.17 and above.\n",
            "  and should_run_async(code)\n"
          ]
        }
      ]
    },
    {
      "cell_type": "code",
      "source": [
        "# final_reviews.head()\n",
        "final_reviews = reviews_w_ngrams\n",
        "print(len(reviews_w_ngrams))\n",
        "final_reviews"
      ],
      "metadata": {
        "colab": {
          "base_uri": "https://localhost:8080/",
          "height": 341
        },
        "id": "-xyUEJBkKcsU",
        "outputId": "11696718-3e94-4653-ad82-e08fe2963902"
      },
      "execution_count": null,
      "outputs": [
        {
          "output_type": "stream",
          "name": "stdout",
          "text": [
            "7\n"
          ]
        },
        {
          "output_type": "stream",
          "name": "stderr",
          "text": [
            "/usr/local/lib/python3.10/dist-packages/ipykernel/ipkernel.py:283: DeprecationWarning: `should_run_async` will not call `transform_cell` automatically in the future. Please pass the result to `transformed_cell` argument and any exception that happen during thetransform in `preprocessing_exc_tuple` in IPython 7.17 and above.\n",
            "  and should_run_async(code)\n"
          ]
        },
        {
          "output_type": "execute_result",
          "data": {
            "text/plain": [
              "  newssite          date                                            article\n",
              "0       []  [15.07.2019]  [hverken, krekar, tiltalte, norge, gammel, nor...\n",
              "1       []  [30.03.2018]  [tiltalte, gammel, norskiraker, bosatt, fredri...\n",
              "2       []  [10.12.2018]  [krekar, tiltalte, norge, gammel, norskiraker,...\n",
              "3       []  [17.09.2018]          [gammel, norskpakistaner, siktet, drapet]\n",
              "4       []  [31.10.2018]  [tyder, etterretningstjenesten, iranske, revol...\n",
              "5       []  [02.03.2017]  [«opak», «opac», «maxopak», politiet, norskpak...\n",
              "6       []  [13.01.2017]  [kveld, pågrep, politiet, medlemmer, agjengen,..."
            ],
            "text/html": [
              "\n",
              "  <div id=\"df-acd2a197-85ac-45c3-94bc-bd87f1055f10\" class=\"colab-df-container\">\n",
              "    <div>\n",
              "<style scoped>\n",
              "    .dataframe tbody tr th:only-of-type {\n",
              "        vertical-align: middle;\n",
              "    }\n",
              "\n",
              "    .dataframe tbody tr th {\n",
              "        vertical-align: top;\n",
              "    }\n",
              "\n",
              "    .dataframe thead th {\n",
              "        text-align: right;\n",
              "    }\n",
              "</style>\n",
              "<table border=\"1\" class=\"dataframe\">\n",
              "  <thead>\n",
              "    <tr style=\"text-align: right;\">\n",
              "      <th></th>\n",
              "      <th>newssite</th>\n",
              "      <th>date</th>\n",
              "      <th>article</th>\n",
              "    </tr>\n",
              "  </thead>\n",
              "  <tbody>\n",
              "    <tr>\n",
              "      <th>0</th>\n",
              "      <td>[]</td>\n",
              "      <td>[15.07.2019]</td>\n",
              "      <td>[hverken, krekar, tiltalte, norge, gammel, nor...</td>\n",
              "    </tr>\n",
              "    <tr>\n",
              "      <th>1</th>\n",
              "      <td>[]</td>\n",
              "      <td>[30.03.2018]</td>\n",
              "      <td>[tiltalte, gammel, norskiraker, bosatt, fredri...</td>\n",
              "    </tr>\n",
              "    <tr>\n",
              "      <th>2</th>\n",
              "      <td>[]</td>\n",
              "      <td>[10.12.2018]</td>\n",
              "      <td>[krekar, tiltalte, norge, gammel, norskiraker,...</td>\n",
              "    </tr>\n",
              "    <tr>\n",
              "      <th>3</th>\n",
              "      <td>[]</td>\n",
              "      <td>[17.09.2018]</td>\n",
              "      <td>[gammel, norskpakistaner, siktet, drapet]</td>\n",
              "    </tr>\n",
              "    <tr>\n",
              "      <th>4</th>\n",
              "      <td>[]</td>\n",
              "      <td>[31.10.2018]</td>\n",
              "      <td>[tyder, etterretningstjenesten, iranske, revol...</td>\n",
              "    </tr>\n",
              "    <tr>\n",
              "      <th>5</th>\n",
              "      <td>[]</td>\n",
              "      <td>[02.03.2017]</td>\n",
              "      <td>[«opak», «opac», «maxopak», politiet, norskpak...</td>\n",
              "    </tr>\n",
              "    <tr>\n",
              "      <th>6</th>\n",
              "      <td>[]</td>\n",
              "      <td>[13.01.2017]</td>\n",
              "      <td>[kveld, pågrep, politiet, medlemmer, agjengen,...</td>\n",
              "    </tr>\n",
              "  </tbody>\n",
              "</table>\n",
              "</div>\n",
              "    <div class=\"colab-df-buttons\">\n",
              "\n",
              "  <div class=\"colab-df-container\">\n",
              "    <button class=\"colab-df-convert\" onclick=\"convertToInteractive('df-acd2a197-85ac-45c3-94bc-bd87f1055f10')\"\n",
              "            title=\"Convert this dataframe to an interactive table.\"\n",
              "            style=\"display:none;\">\n",
              "\n",
              "  <svg xmlns=\"http://www.w3.org/2000/svg\" height=\"24px\" viewBox=\"0 -960 960 960\">\n",
              "    <path d=\"M120-120v-720h720v720H120Zm60-500h600v-160H180v160Zm220 220h160v-160H400v160Zm0 220h160v-160H400v160ZM180-400h160v-160H180v160Zm440 0h160v-160H620v160ZM180-180h160v-160H180v160Zm440 0h160v-160H620v160Z\"/>\n",
              "  </svg>\n",
              "    </button>\n",
              "\n",
              "  <style>\n",
              "    .colab-df-container {\n",
              "      display:flex;\n",
              "      gap: 12px;\n",
              "    }\n",
              "\n",
              "    .colab-df-convert {\n",
              "      background-color: #E8F0FE;\n",
              "      border: none;\n",
              "      border-radius: 50%;\n",
              "      cursor: pointer;\n",
              "      display: none;\n",
              "      fill: #1967D2;\n",
              "      height: 32px;\n",
              "      padding: 0 0 0 0;\n",
              "      width: 32px;\n",
              "    }\n",
              "\n",
              "    .colab-df-convert:hover {\n",
              "      background-color: #E2EBFA;\n",
              "      box-shadow: 0px 1px 2px rgba(60, 64, 67, 0.3), 0px 1px 3px 1px rgba(60, 64, 67, 0.15);\n",
              "      fill: #174EA6;\n",
              "    }\n",
              "\n",
              "    .colab-df-buttons div {\n",
              "      margin-bottom: 4px;\n",
              "    }\n",
              "\n",
              "    [theme=dark] .colab-df-convert {\n",
              "      background-color: #3B4455;\n",
              "      fill: #D2E3FC;\n",
              "    }\n",
              "\n",
              "    [theme=dark] .colab-df-convert:hover {\n",
              "      background-color: #434B5C;\n",
              "      box-shadow: 0px 1px 3px 1px rgba(0, 0, 0, 0.15);\n",
              "      filter: drop-shadow(0px 1px 2px rgba(0, 0, 0, 0.3));\n",
              "      fill: #FFFFFF;\n",
              "    }\n",
              "  </style>\n",
              "\n",
              "    <script>\n",
              "      const buttonEl =\n",
              "        document.querySelector('#df-acd2a197-85ac-45c3-94bc-bd87f1055f10 button.colab-df-convert');\n",
              "      buttonEl.style.display =\n",
              "        google.colab.kernel.accessAllowed ? 'block' : 'none';\n",
              "\n",
              "      async function convertToInteractive(key) {\n",
              "        const element = document.querySelector('#df-acd2a197-85ac-45c3-94bc-bd87f1055f10');\n",
              "        const dataTable =\n",
              "          await google.colab.kernel.invokeFunction('convertToInteractive',\n",
              "                                                    [key], {});\n",
              "        if (!dataTable) return;\n",
              "\n",
              "        const docLinkHtml = 'Like what you see? Visit the ' +\n",
              "          '<a target=\"_blank\" href=https://colab.research.google.com/notebooks/data_table.ipynb>data table notebook</a>'\n",
              "          + ' to learn more about interactive tables.';\n",
              "        element.innerHTML = '';\n",
              "        dataTable['output_type'] = 'display_data';\n",
              "        await google.colab.output.renderOutput(dataTable, element);\n",
              "        const docLink = document.createElement('div');\n",
              "        docLink.innerHTML = docLinkHtml;\n",
              "        element.appendChild(docLink);\n",
              "      }\n",
              "    </script>\n",
              "  </div>\n",
              "\n",
              "\n",
              "<div id=\"df-bb42256a-c5d2-47e3-be29-136718bc68d7\">\n",
              "  <button class=\"colab-df-quickchart\" onclick=\"quickchart('df-bb42256a-c5d2-47e3-be29-136718bc68d7')\"\n",
              "            title=\"Suggest charts\"\n",
              "            style=\"display:none;\">\n",
              "\n",
              "<svg xmlns=\"http://www.w3.org/2000/svg\" height=\"24px\"viewBox=\"0 0 24 24\"\n",
              "     width=\"24px\">\n",
              "    <g>\n",
              "        <path d=\"M19 3H5c-1.1 0-2 .9-2 2v14c0 1.1.9 2 2 2h14c1.1 0 2-.9 2-2V5c0-1.1-.9-2-2-2zM9 17H7v-7h2v7zm4 0h-2V7h2v10zm4 0h-2v-4h2v4z\"/>\n",
              "    </g>\n",
              "</svg>\n",
              "  </button>\n",
              "\n",
              "<style>\n",
              "  .colab-df-quickchart {\n",
              "      --bg-color: #E8F0FE;\n",
              "      --fill-color: #1967D2;\n",
              "      --hover-bg-color: #E2EBFA;\n",
              "      --hover-fill-color: #174EA6;\n",
              "      --disabled-fill-color: #AAA;\n",
              "      --disabled-bg-color: #DDD;\n",
              "  }\n",
              "\n",
              "  [theme=dark] .colab-df-quickchart {\n",
              "      --bg-color: #3B4455;\n",
              "      --fill-color: #D2E3FC;\n",
              "      --hover-bg-color: #434B5C;\n",
              "      --hover-fill-color: #FFFFFF;\n",
              "      --disabled-bg-color: #3B4455;\n",
              "      --disabled-fill-color: #666;\n",
              "  }\n",
              "\n",
              "  .colab-df-quickchart {\n",
              "    background-color: var(--bg-color);\n",
              "    border: none;\n",
              "    border-radius: 50%;\n",
              "    cursor: pointer;\n",
              "    display: none;\n",
              "    fill: var(--fill-color);\n",
              "    height: 32px;\n",
              "    padding: 0;\n",
              "    width: 32px;\n",
              "  }\n",
              "\n",
              "  .colab-df-quickchart:hover {\n",
              "    background-color: var(--hover-bg-color);\n",
              "    box-shadow: 0 1px 2px rgba(60, 64, 67, 0.3), 0 1px 3px 1px rgba(60, 64, 67, 0.15);\n",
              "    fill: var(--button-hover-fill-color);\n",
              "  }\n",
              "\n",
              "  .colab-df-quickchart-complete:disabled,\n",
              "  .colab-df-quickchart-complete:disabled:hover {\n",
              "    background-color: var(--disabled-bg-color);\n",
              "    fill: var(--disabled-fill-color);\n",
              "    box-shadow: none;\n",
              "  }\n",
              "\n",
              "  .colab-df-spinner {\n",
              "    border: 2px solid var(--fill-color);\n",
              "    border-color: transparent;\n",
              "    border-bottom-color: var(--fill-color);\n",
              "    animation:\n",
              "      spin 1s steps(1) infinite;\n",
              "  }\n",
              "\n",
              "  @keyframes spin {\n",
              "    0% {\n",
              "      border-color: transparent;\n",
              "      border-bottom-color: var(--fill-color);\n",
              "      border-left-color: var(--fill-color);\n",
              "    }\n",
              "    20% {\n",
              "      border-color: transparent;\n",
              "      border-left-color: var(--fill-color);\n",
              "      border-top-color: var(--fill-color);\n",
              "    }\n",
              "    30% {\n",
              "      border-color: transparent;\n",
              "      border-left-color: var(--fill-color);\n",
              "      border-top-color: var(--fill-color);\n",
              "      border-right-color: var(--fill-color);\n",
              "    }\n",
              "    40% {\n",
              "      border-color: transparent;\n",
              "      border-right-color: var(--fill-color);\n",
              "      border-top-color: var(--fill-color);\n",
              "    }\n",
              "    60% {\n",
              "      border-color: transparent;\n",
              "      border-right-color: var(--fill-color);\n",
              "    }\n",
              "    80% {\n",
              "      border-color: transparent;\n",
              "      border-right-color: var(--fill-color);\n",
              "      border-bottom-color: var(--fill-color);\n",
              "    }\n",
              "    90% {\n",
              "      border-color: transparent;\n",
              "      border-bottom-color: var(--fill-color);\n",
              "    }\n",
              "  }\n",
              "</style>\n",
              "\n",
              "  <script>\n",
              "    async function quickchart(key) {\n",
              "      const quickchartButtonEl =\n",
              "        document.querySelector('#' + key + ' button');\n",
              "      quickchartButtonEl.disabled = true;  // To prevent multiple clicks.\n",
              "      quickchartButtonEl.classList.add('colab-df-spinner');\n",
              "      try {\n",
              "        const charts = await google.colab.kernel.invokeFunction(\n",
              "            'suggestCharts', [key], {});\n",
              "      } catch (error) {\n",
              "        console.error('Error during call to suggestCharts:', error);\n",
              "      }\n",
              "      quickchartButtonEl.classList.remove('colab-df-spinner');\n",
              "      quickchartButtonEl.classList.add('colab-df-quickchart-complete');\n",
              "    }\n",
              "    (() => {\n",
              "      let quickchartButtonEl =\n",
              "        document.querySelector('#df-bb42256a-c5d2-47e3-be29-136718bc68d7 button');\n",
              "      quickchartButtonEl.style.display =\n",
              "        google.colab.kernel.accessAllowed ? 'block' : 'none';\n",
              "    })();\n",
              "  </script>\n",
              "</div>\n",
              "\n",
              "  <div id=\"id_34e80e63-56bf-472d-b919-dd07e1df3860\">\n",
              "    <style>\n",
              "      .colab-df-generate {\n",
              "        background-color: #E8F0FE;\n",
              "        border: none;\n",
              "        border-radius: 50%;\n",
              "        cursor: pointer;\n",
              "        display: none;\n",
              "        fill: #1967D2;\n",
              "        height: 32px;\n",
              "        padding: 0 0 0 0;\n",
              "        width: 32px;\n",
              "      }\n",
              "\n",
              "      .colab-df-generate:hover {\n",
              "        background-color: #E2EBFA;\n",
              "        box-shadow: 0px 1px 2px rgba(60, 64, 67, 0.3), 0px 1px 3px 1px rgba(60, 64, 67, 0.15);\n",
              "        fill: #174EA6;\n",
              "      }\n",
              "\n",
              "      [theme=dark] .colab-df-generate {\n",
              "        background-color: #3B4455;\n",
              "        fill: #D2E3FC;\n",
              "      }\n",
              "\n",
              "      [theme=dark] .colab-df-generate:hover {\n",
              "        background-color: #434B5C;\n",
              "        box-shadow: 0px 1px 3px 1px rgba(0, 0, 0, 0.15);\n",
              "        filter: drop-shadow(0px 1px 2px rgba(0, 0, 0, 0.3));\n",
              "        fill: #FFFFFF;\n",
              "      }\n",
              "    </style>\n",
              "    <button class=\"colab-df-generate\" onclick=\"generateWithVariable('final_reviews')\"\n",
              "            title=\"Generate code using this dataframe.\"\n",
              "            style=\"display:none;\">\n",
              "\n",
              "  <svg xmlns=\"http://www.w3.org/2000/svg\" height=\"24px\"viewBox=\"0 0 24 24\"\n",
              "       width=\"24px\">\n",
              "    <path d=\"M7,19H8.4L18.45,9,17,7.55,7,17.6ZM5,21V16.75L18.45,3.32a2,2,0,0,1,2.83,0l1.4,1.43a1.91,1.91,0,0,1,.58,1.4,1.91,1.91,0,0,1-.58,1.4L9.25,21ZM18.45,9,17,7.55Zm-12,3A5.31,5.31,0,0,0,4.9,8.1,5.31,5.31,0,0,0,1,6.5,5.31,5.31,0,0,0,4.9,4.9,5.31,5.31,0,0,0,6.5,1,5.31,5.31,0,0,0,8.1,4.9,5.31,5.31,0,0,0,12,6.5,5.46,5.46,0,0,0,6.5,12Z\"/>\n",
              "  </svg>\n",
              "    </button>\n",
              "    <script>\n",
              "      (() => {\n",
              "      const buttonEl =\n",
              "        document.querySelector('#id_34e80e63-56bf-472d-b919-dd07e1df3860 button.colab-df-generate');\n",
              "      buttonEl.style.display =\n",
              "        google.colab.kernel.accessAllowed ? 'block' : 'none';\n",
              "\n",
              "      buttonEl.onclick = () => {\n",
              "        google.colab.notebook.generateWithVariable('final_reviews');\n",
              "      }\n",
              "      })();\n",
              "    </script>\n",
              "  </div>\n",
              "\n",
              "    </div>\n",
              "  </div>\n"
            ],
            "application/vnd.google.colaboratory.intrinsic+json": {
              "type": "dataframe",
              "variable_name": "final_reviews",
              "summary": "{\n  \"name\": \"final_reviews\",\n  \"rows\": 7,\n  \"fields\": [\n    {\n      \"column\": \"newssite\",\n      \"properties\": {\n        \"dtype\": \"object\",\n        \"semantic_type\": \"\",\n        \"description\": \"\"\n      }\n    },\n    {\n      \"column\": \"date\",\n      \"properties\": {\n        \"dtype\": \"object\",\n        \"semantic_type\": \"\",\n        \"description\": \"\"\n      }\n    },\n    {\n      \"column\": \"article\",\n      \"properties\": {\n        \"dtype\": \"object\",\n        \"semantic_type\": \"\",\n        \"description\": \"\"\n      }\n    }\n  ]\n}"
            }
          },
          "metadata": {},
          "execution_count": 316
        }
      ]
    },
    {
      "cell_type": "code",
      "source": [
        "# save final reviews\n",
        "final_reviews.to_csv('final_reviews.csv', index=False)\n"
      ],
      "metadata": {
        "colab": {
          "base_uri": "https://localhost:8080/"
        },
        "id": "PFjuXkd5dCdj",
        "outputId": "775846e5-2bf2-421e-be6c-4c5a832ef6df"
      },
      "execution_count": null,
      "outputs": [
        {
          "output_type": "stream",
          "name": "stderr",
          "text": [
            "/usr/local/lib/python3.10/dist-packages/ipykernel/ipkernel.py:283: DeprecationWarning: `should_run_async` will not call `transform_cell` automatically in the future. Please pass the result to `transformed_cell` argument and any exception that happen during thetransform in `preprocessing_exc_tuple` in IPython 7.17 and above.\n",
            "  and should_run_async(code)\n"
          ]
        }
      ]
    },
    {
      "cell_type": "markdown",
      "source": [
        "###### ////////// nouns only filtering slutt/////////"
      ],
      "metadata": {
        "id": "QiZsQtAnKMjM"
      }
    },
    {
      "cell_type": "markdown",
      "source": [
        "###### ////////// LDA  /////////"
      ],
      "metadata": {
        "id": "jO_YhvSiLV4M"
      }
    },
    {
      "cell_type": "code",
      "source": [
        "import gensim\n",
        "from gensim import corpora\n",
        "# Visualizing the results\n",
        "import pyLDAvis.gensim\n",
        "import pickle\n",
        "import pyLDAvis"
      ],
      "metadata": {
        "id": "a-RMLMNmLs1j"
      },
      "execution_count": null,
      "outputs": []
    },
    {
      "cell_type": "code",
      "source": [
        "def remove_word_from_list(list_to_modify, word_to_remove):\n",
        "  return [value for value in list_to_modify if value != word_to_remove]\n",
        "\n",
        "final_reviews = toknes_df['article'].to_list()"
      ],
      "metadata": {
        "colab": {
          "base_uri": "https://localhost:8080/"
        },
        "id": "Dw5gOeV8YXQ3",
        "outputId": "a34c491a-bb1b-4eae-8cd0-60bfde7b82fb"
      },
      "execution_count": null,
      "outputs": [
        {
          "output_type": "stream",
          "name": "stderr",
          "text": [
            "/usr/local/lib/python3.10/dist-packages/ipykernel/ipkernel.py:283: DeprecationWarning: `should_run_async` will not call `transform_cell` automatically in the future. Please pass the result to `transformed_cell` argument and any exception that happen during thetransform in `preprocessing_exc_tuple` in IPython 7.17 and above.\n",
            "  and should_run_async(code)\n"
          ]
        }
      ]
    },
    {
      "cell_type": "code",
      "source": [
        "final_reviews = [review.split() if isinstance(review, str) else review for review in final_reviews]"
      ],
      "metadata": {
        "colab": {
          "base_uri": "https://localhost:8080/"
        },
        "id": "3agGe0mVhoSt",
        "outputId": "a9fb657b-fed9-49f2-a557-6120a92b904b"
      },
      "execution_count": null,
      "outputs": [
        {
          "output_type": "stream",
          "name": "stderr",
          "text": [
            "/usr/local/lib/python3.10/dist-packages/ipykernel/ipkernel.py:283: DeprecationWarning: `should_run_async` will not call `transform_cell` automatically in the future. Please pass the result to `transformed_cell` argument and any exception that happen during thetransform in `preprocessing_exc_tuple` in IPython 7.17 and above.\n",
            "  and should_run_async(code)\n"
          ]
        }
      ]
    },
    {
      "cell_type": "code",
      "source": [
        "dictionary = corpora.Dictionary(final_reviews)\n",
        "doc_term_matrix = [dictionary.doc2bow(doc) for doc in final_reviews]"
      ],
      "metadata": {
        "colab": {
          "base_uri": "https://localhost:8080/"
        },
        "id": "wqACy3UqLbyS",
        "outputId": "1301ae52-31d3-4ce9-9bf7-ad30f199165a"
      },
      "execution_count": null,
      "outputs": [
        {
          "output_type": "stream",
          "name": "stderr",
          "text": [
            "/usr/local/lib/python3.10/dist-packages/ipykernel/ipkernel.py:283: DeprecationWarning: `should_run_async` will not call `transform_cell` automatically in the future. Please pass the result to `transformed_cell` argument and any exception that happen during thetransform in `preprocessing_exc_tuple` in IPython 7.17 and above.\n",
            "  and should_run_async(code)\n"
          ]
        }
      ]
    },
    {
      "cell_type": "code",
      "source": [
        "coherence = []\n",
        "for k in range(7, 15):\n",
        "    print('Round: '+str(k))\n",
        "    Lda = gensim.models.ldamodel.LdaModel\n",
        "    ldamodel = Lda(doc_term_matrix, num_topics=k, id2word = dictionary, passes=40,\\\n",
        "                   iterations=200, chunksize = 10000, eval_every = None)\n",
        "\n",
        "    cm = gensim.models.coherencemodel.CoherenceModel(model=ldamodel, texts=final_reviews,\\\n",
        "                                                     dictionary=dictionary, coherence='c_v')\n",
        "    coherence.append((k,cm.get_coherence()))"
      ],
      "metadata": {
        "colab": {
          "base_uri": "https://localhost:8080/"
        },
        "collapsed": true,
        "id": "0wXzPrU1LeyG",
        "outputId": "c6c3dd1b-5ae6-45bf-de2f-64fccd1b91f3"
      },
      "execution_count": null,
      "outputs": [
        {
          "output_type": "stream",
          "name": "stderr",
          "text": [
            "/usr/local/lib/python3.10/dist-packages/ipykernel/ipkernel.py:283: DeprecationWarning: `should_run_async` will not call `transform_cell` automatically in the future. Please pass the result to `transformed_cell` argument and any exception that happen during thetransform in `preprocessing_exc_tuple` in IPython 7.17 and above.\n",
            "  and should_run_async(code)\n"
          ]
        },
        {
          "output_type": "stream",
          "name": "stdout",
          "text": [
            "Round: 7\n"
          ]
        },
        {
          "output_type": "error",
          "ename": "KeyboardInterrupt",
          "evalue": "",
          "traceback": [
            "\u001b[0;31m---------------------------------------------------------------------------\u001b[0m",
            "\u001b[0;31mKeyboardInterrupt\u001b[0m                         Traceback (most recent call last)",
            "\u001b[0;32m<ipython-input-88-9bb91c4da797>\u001b[0m in \u001b[0;36m<cell line: 2>\u001b[0;34m()\u001b[0m\n\u001b[1;32m      3\u001b[0m     \u001b[0mprint\u001b[0m\u001b[0;34m(\u001b[0m\u001b[0;34m'Round: '\u001b[0m\u001b[0;34m+\u001b[0m\u001b[0mstr\u001b[0m\u001b[0;34m(\u001b[0m\u001b[0mk\u001b[0m\u001b[0;34m)\u001b[0m\u001b[0;34m)\u001b[0m\u001b[0;34m\u001b[0m\u001b[0;34m\u001b[0m\u001b[0m\n\u001b[1;32m      4\u001b[0m     \u001b[0mLda\u001b[0m \u001b[0;34m=\u001b[0m \u001b[0mgensim\u001b[0m\u001b[0;34m.\u001b[0m\u001b[0mmodels\u001b[0m\u001b[0;34m.\u001b[0m\u001b[0mldamodel\u001b[0m\u001b[0;34m.\u001b[0m\u001b[0mLdaModel\u001b[0m\u001b[0;34m\u001b[0m\u001b[0;34m\u001b[0m\u001b[0m\n\u001b[0;32m----> 5\u001b[0;31m     ldamodel = Lda(doc_term_matrix, num_topics=k, id2word = dictionary, passes=40,\\\n\u001b[0m\u001b[1;32m      6\u001b[0m                    iterations=200, chunksize = 10000, eval_every = None)\n\u001b[1;32m      7\u001b[0m \u001b[0;34m\u001b[0m\u001b[0m\n",
            "\u001b[0;32m/usr/local/lib/python3.10/dist-packages/gensim/models/ldamodel.py\u001b[0m in \u001b[0;36m__init__\u001b[0;34m(self, corpus, num_topics, id2word, distributed, chunksize, passes, update_every, alpha, eta, decay, offset, eval_every, iterations, gamma_threshold, minimum_probability, random_state, ns_conf, minimum_phi_value, per_word_topics, callbacks, dtype)\u001b[0m\n\u001b[1;32m    519\u001b[0m             \u001b[0muse_numpy\u001b[0m \u001b[0;34m=\u001b[0m \u001b[0mself\u001b[0m\u001b[0;34m.\u001b[0m\u001b[0mdispatcher\u001b[0m \u001b[0;32mis\u001b[0m \u001b[0;32mnot\u001b[0m \u001b[0;32mNone\u001b[0m\u001b[0;34m\u001b[0m\u001b[0;34m\u001b[0m\u001b[0m\n\u001b[1;32m    520\u001b[0m             \u001b[0mstart\u001b[0m \u001b[0;34m=\u001b[0m \u001b[0mtime\u001b[0m\u001b[0;34m.\u001b[0m\u001b[0mtime\u001b[0m\u001b[0;34m(\u001b[0m\u001b[0;34m)\u001b[0m\u001b[0;34m\u001b[0m\u001b[0;34m\u001b[0m\u001b[0m\n\u001b[0;32m--> 521\u001b[0;31m             \u001b[0mself\u001b[0m\u001b[0;34m.\u001b[0m\u001b[0mupdate\u001b[0m\u001b[0;34m(\u001b[0m\u001b[0mcorpus\u001b[0m\u001b[0;34m,\u001b[0m \u001b[0mchunks_as_numpy\u001b[0m\u001b[0;34m=\u001b[0m\u001b[0muse_numpy\u001b[0m\u001b[0;34m)\u001b[0m\u001b[0;34m\u001b[0m\u001b[0;34m\u001b[0m\u001b[0m\n\u001b[0m\u001b[1;32m    522\u001b[0m             self.add_lifecycle_event(\n\u001b[1;32m    523\u001b[0m                 \u001b[0;34m\"created\"\u001b[0m\u001b[0;34m,\u001b[0m\u001b[0;34m\u001b[0m\u001b[0;34m\u001b[0m\u001b[0m\n",
            "\u001b[0;32m/usr/local/lib/python3.10/dist-packages/gensim/models/ldamodel.py\u001b[0m in \u001b[0;36mupdate\u001b[0;34m(self, corpus, chunksize, decay, offset, passes, update_every, eval_every, iterations, gamma_threshold, chunks_as_numpy)\u001b[0m\n\u001b[1;32m   1004\u001b[0m                         \u001b[0mpass_\u001b[0m\u001b[0;34m,\u001b[0m \u001b[0mchunk_no\u001b[0m \u001b[0;34m*\u001b[0m \u001b[0mchunksize\u001b[0m \u001b[0;34m+\u001b[0m \u001b[0mlen\u001b[0m\u001b[0;34m(\u001b[0m\u001b[0mchunk\u001b[0m\u001b[0;34m)\u001b[0m\u001b[0;34m,\u001b[0m \u001b[0mlencorpus\u001b[0m\u001b[0;34m\u001b[0m\u001b[0;34m\u001b[0m\u001b[0m\n\u001b[1;32m   1005\u001b[0m                     )\n\u001b[0;32m-> 1006\u001b[0;31m                     \u001b[0mgammat\u001b[0m \u001b[0;34m=\u001b[0m \u001b[0mself\u001b[0m\u001b[0;34m.\u001b[0m\u001b[0mdo_estep\u001b[0m\u001b[0;34m(\u001b[0m\u001b[0mchunk\u001b[0m\u001b[0;34m,\u001b[0m \u001b[0mother\u001b[0m\u001b[0;34m)\u001b[0m\u001b[0;34m\u001b[0m\u001b[0;34m\u001b[0m\u001b[0m\n\u001b[0m\u001b[1;32m   1007\u001b[0m \u001b[0;34m\u001b[0m\u001b[0m\n\u001b[1;32m   1008\u001b[0m                     \u001b[0;32mif\u001b[0m \u001b[0mself\u001b[0m\u001b[0;34m.\u001b[0m\u001b[0moptimize_alpha\u001b[0m\u001b[0;34m:\u001b[0m\u001b[0;34m\u001b[0m\u001b[0;34m\u001b[0m\u001b[0m\n",
            "\u001b[0;32m/usr/local/lib/python3.10/dist-packages/gensim/models/ldamodel.py\u001b[0m in \u001b[0;36mdo_estep\u001b[0;34m(self, chunk, state)\u001b[0m\n\u001b[1;32m    766\u001b[0m         \u001b[0;32mif\u001b[0m \u001b[0mstate\u001b[0m \u001b[0;32mis\u001b[0m \u001b[0;32mNone\u001b[0m\u001b[0;34m:\u001b[0m\u001b[0;34m\u001b[0m\u001b[0;34m\u001b[0m\u001b[0m\n\u001b[1;32m    767\u001b[0m             \u001b[0mstate\u001b[0m \u001b[0;34m=\u001b[0m \u001b[0mself\u001b[0m\u001b[0;34m.\u001b[0m\u001b[0mstate\u001b[0m\u001b[0;34m\u001b[0m\u001b[0;34m\u001b[0m\u001b[0m\n\u001b[0;32m--> 768\u001b[0;31m         \u001b[0mgamma\u001b[0m\u001b[0;34m,\u001b[0m \u001b[0msstats\u001b[0m \u001b[0;34m=\u001b[0m \u001b[0mself\u001b[0m\u001b[0;34m.\u001b[0m\u001b[0minference\u001b[0m\u001b[0;34m(\u001b[0m\u001b[0mchunk\u001b[0m\u001b[0;34m,\u001b[0m \u001b[0mcollect_sstats\u001b[0m\u001b[0;34m=\u001b[0m\u001b[0;32mTrue\u001b[0m\u001b[0;34m)\u001b[0m\u001b[0;34m\u001b[0m\u001b[0;34m\u001b[0m\u001b[0m\n\u001b[0m\u001b[1;32m    769\u001b[0m         \u001b[0mstate\u001b[0m\u001b[0;34m.\u001b[0m\u001b[0msstats\u001b[0m \u001b[0;34m+=\u001b[0m \u001b[0msstats\u001b[0m\u001b[0;34m\u001b[0m\u001b[0;34m\u001b[0m\u001b[0m\n\u001b[1;32m    770\u001b[0m         \u001b[0mstate\u001b[0m\u001b[0;34m.\u001b[0m\u001b[0mnumdocs\u001b[0m \u001b[0;34m+=\u001b[0m \u001b[0mgamma\u001b[0m\u001b[0;34m.\u001b[0m\u001b[0mshape\u001b[0m\u001b[0;34m[\u001b[0m\u001b[0;36m0\u001b[0m\u001b[0;34m]\u001b[0m  \u001b[0;31m# avoids calling len(chunk) on a generator\u001b[0m\u001b[0;34m\u001b[0m\u001b[0;34m\u001b[0m\u001b[0m\n",
            "\u001b[0;32m/usr/local/lib/python3.10/dist-packages/gensim/models/ldamodel.py\u001b[0m in \u001b[0;36minference\u001b[0;34m(self, chunk, collect_sstats)\u001b[0m\n\u001b[1;32m    717\u001b[0m                 \u001b[0;31m# Substituting the value of the optimal phi back into\u001b[0m\u001b[0;34m\u001b[0m\u001b[0;34m\u001b[0m\u001b[0m\n\u001b[1;32m    718\u001b[0m                 \u001b[0;31m# the update for gamma gives this update. Cf. Lee&Seung 2001.\u001b[0m\u001b[0;34m\u001b[0m\u001b[0;34m\u001b[0m\u001b[0m\n\u001b[0;32m--> 719\u001b[0;31m                 \u001b[0mgammad\u001b[0m \u001b[0;34m=\u001b[0m \u001b[0mself\u001b[0m\u001b[0;34m.\u001b[0m\u001b[0malpha\u001b[0m \u001b[0;34m+\u001b[0m \u001b[0mexpElogthetad\u001b[0m \u001b[0;34m*\u001b[0m \u001b[0mnp\u001b[0m\u001b[0;34m.\u001b[0m\u001b[0mdot\u001b[0m\u001b[0;34m(\u001b[0m\u001b[0mcts\u001b[0m \u001b[0;34m/\u001b[0m \u001b[0mphinorm\u001b[0m\u001b[0;34m,\u001b[0m \u001b[0mexpElogbetad\u001b[0m\u001b[0;34m.\u001b[0m\u001b[0mT\u001b[0m\u001b[0;34m)\u001b[0m\u001b[0;34m\u001b[0m\u001b[0;34m\u001b[0m\u001b[0m\n\u001b[0m\u001b[1;32m    720\u001b[0m                 \u001b[0mElogthetad\u001b[0m \u001b[0;34m=\u001b[0m \u001b[0mdirichlet_expectation\u001b[0m\u001b[0;34m(\u001b[0m\u001b[0mgammad\u001b[0m\u001b[0;34m)\u001b[0m\u001b[0;34m\u001b[0m\u001b[0;34m\u001b[0m\u001b[0m\n\u001b[1;32m    721\u001b[0m                 \u001b[0mexpElogthetad\u001b[0m \u001b[0;34m=\u001b[0m \u001b[0mnp\u001b[0m\u001b[0;34m.\u001b[0m\u001b[0mexp\u001b[0m\u001b[0;34m(\u001b[0m\u001b[0mElogthetad\u001b[0m\u001b[0;34m)\u001b[0m\u001b[0;34m\u001b[0m\u001b[0;34m\u001b[0m\u001b[0m\n",
            "\u001b[0;32m/usr/local/lib/python3.10/dist-packages/numpy/core/multiarray.py\u001b[0m in \u001b[0;36mdot\u001b[0;34m(a, b, out)\u001b[0m\n\u001b[1;32m    739\u001b[0m \u001b[0;34m\u001b[0m\u001b[0m\n\u001b[1;32m    740\u001b[0m \u001b[0;34m\u001b[0m\u001b[0m\n\u001b[0;32m--> 741\u001b[0;31m \u001b[0;34m@\u001b[0m\u001b[0marray_function_from_c_func_and_dispatcher\u001b[0m\u001b[0;34m(\u001b[0m\u001b[0m_multiarray_umath\u001b[0m\u001b[0;34m.\u001b[0m\u001b[0mdot\u001b[0m\u001b[0;34m)\u001b[0m\u001b[0;34m\u001b[0m\u001b[0;34m\u001b[0m\u001b[0m\n\u001b[0m\u001b[1;32m    742\u001b[0m \u001b[0;32mdef\u001b[0m \u001b[0mdot\u001b[0m\u001b[0;34m(\u001b[0m\u001b[0ma\u001b[0m\u001b[0;34m,\u001b[0m \u001b[0mb\u001b[0m\u001b[0;34m,\u001b[0m \u001b[0mout\u001b[0m\u001b[0;34m=\u001b[0m\u001b[0;32mNone\u001b[0m\u001b[0;34m)\u001b[0m\u001b[0;34m:\u001b[0m\u001b[0;34m\u001b[0m\u001b[0;34m\u001b[0m\u001b[0m\n\u001b[1;32m    743\u001b[0m     \"\"\"\n",
            "\u001b[0;31mKeyboardInterrupt\u001b[0m: "
          ]
        }
      ]
    },
    {
      "cell_type": "code",
      "source": [
        "from matplotlib import pyplot as plt\n",
        "\n",
        "x_val = [x[0] for x in coherence]\n",
        "y_val = [x[1] for x in coherence]\n",
        "\n",
        "plt.plot(x_val,y_val)\n",
        "plt.scatter(x_val,y_val)\n",
        "plt.title('Number of Topics vs. Coherence')\n",
        "plt.xlabel('Number of Topics')\n",
        "plt.ylabel('Coherence')\n",
        "plt.xticks(x_val)\n",
        "plt.show()"
      ],
      "metadata": {
        "colab": {
          "base_uri": "https://localhost:8080/"
        },
        "collapsed": true,
        "id": "zPYr3gYgLwK5",
        "outputId": "a34510cc-77d4-49f2-f301-c80423b7e279"
      },
      "execution_count": null,
      "outputs": [
        {
          "output_type": "stream",
          "name": "stderr",
          "text": [
            "/usr/local/lib/python3.10/dist-packages/ipykernel/ipkernel.py:283: DeprecationWarning: `should_run_async` will not call `transform_cell` automatically in the future. Please pass the result to `transformed_cell` argument and any exception that happen during thetransform in `preprocessing_exc_tuple` in IPython 7.17 and above.\n",
            "  and should_run_async(code)\n"
          ]
        },
        {
          "output_type": "display_data",
          "data": {
            "text/plain": [
              "<Figure size 640x480 with 1 Axes>"
            ],
            "image/png": "[encoded data removed]"
          },
          "metadata": {}
        }
      ]
    },
    {
      "cell_type": "markdown",
      "source": [
        "###### ////// Lda slutt ///////"
      ],
      "metadata": {
        "id": "YSEaQT-Wo2l0"
      }
    },
    {
      "cell_type": "markdown",
      "source": [
        "###### ////// Visualizing ///////"
      ],
      "metadata": {
        "id": "OLkz7vQaonzI"
      }
    },
    {
      "cell_type": "code",
      "source": [
        "k = 3"
      ],
      "metadata": {
        "colab": {
          "base_uri": "https://localhost:8080/"
        },
        "id": "1s8Z-lhgwtw7",
        "outputId": "4b84a247-70f3-4328-d568-4de02dcd9457"
      },
      "execution_count": null,
      "outputs": [
        {
          "output_type": "stream",
          "name": "stderr",
          "text": [
            "/usr/local/lib/python3.10/dist-packages/ipykernel/ipkernel.py:283: DeprecationWarning: `should_run_async` will not call `transform_cell` automatically in the future. Please pass the result to `transformed_cell` argument and any exception that happen during thetransform in `preprocessing_exc_tuple` in IPython 7.17 and above.\n",
            "  and should_run_async(code)\n"
          ]
        }
      ]
    },
    {
      "cell_type": "code",
      "source": [
        "Lda = gensim.models.ldamodel.LdaModel\n",
        "ldamodel = Lda(doc_term_matrix, num_topics=3, id2word = dictionary, passes=40,\\\n",
        "               iterations=200,  chunksize = 10000, eval_every = None, random_state=0)"
      ],
      "metadata": {
        "colab": {
          "base_uri": "https://localhost:8080/"
        },
        "collapsed": true,
        "id": "ktg4fAlTQej2",
        "outputId": "6f2d1c81-bef0-4232-dc7f-0258cec673f8"
      },
      "execution_count": null,
      "outputs": [
        {
          "output_type": "stream",
          "name": "stderr",
          "text": [
            "/usr/local/lib/python3.10/dist-packages/ipykernel/ipkernel.py:283: DeprecationWarning: `should_run_async` will not call `transform_cell` automatically in the future. Please pass the result to `transformed_cell` argument and any exception that happen during thetransform in `preprocessing_exc_tuple` in IPython 7.17 and above.\n",
            "  and should_run_async(code)\n"
          ]
        }
      ]
    },
    {
      "cell_type": "code",
      "source": [
        "n_words = 10\n",
        "\n",
        "topic_words = pd.DataFrame({})\n",
        "\n",
        "for i, topic in enumerate(ldamodel.get_topics()):\n",
        "    top_feature_ids = topic.argsort()[-n_words:][::-1]\n",
        "    feature_values = topic[top_feature_ids]\n",
        "    # words = [dictionary[id] for id in top_feature_ids]\n",
        "    words = [dictionary[id] for id in top_feature_ids if dictionary[id] != \"gammel\"]\n",
        "    topic_df = pd.DataFrame({'word': feature_values, 'frequency': words, 'topic': i})\n",
        "    topic_words = pd.concat([topic_words, topic_df], ignore_index=True)\n",
        "\n",
        "# topic_words.head()\n",
        "\n"
      ],
      "metadata": {
        "colab": {
          "base_uri": "https://localhost:8080/"
        },
        "collapsed": true,
        "id": "oSKXy8IJMvNh",
        "outputId": "e0b98951-61eb-4128-e049-cfdea301c9cd"
      },
      "execution_count": null,
      "outputs": [
        {
          "output_type": "stream",
          "name": "stderr",
          "text": [
            "/usr/local/lib/python3.10/dist-packages/ipykernel/ipkernel.py:283: DeprecationWarning: `should_run_async` will not call `transform_cell` automatically in the future. Please pass the result to `transformed_cell` argument and any exception that happen during thetransform in `preprocessing_exc_tuple` in IPython 7.17 and above.\n",
            "  and should_run_async(code)\n"
          ]
        }
      ]
    },
    {
      "cell_type": "code",
      "source": [
        "import seaborn as sns\n",
        "from matplotlib import pyplot as plt\n",
        "\n",
        "sns.set_style('whitegrid')\n",
        "# plt.colorbar\n",
        "def plot_barh(freq, words, **kwargs):\n",
        "  # palette = sns.color_palette(\"husl\", len(freq))\n",
        "  plt.barh(y=freq, width=words, facecolor=\"#d1a0e8\", **kwargs)\n",
        "\n",
        "g = sns.FacetGrid(topic_words, col=\"topic\", col_wrap=2, sharey=False, height=4, aspect=1.2)\n",
        "\n",
        "g.map(plot_barh, \"frequency\", \"word\")\n",
        "\n",
        "plt.show()\n",
        "\n",
        "# g.savefig(\"target_terms_norsk_LDa_k_3.png\")"
      ],
      "metadata": {
        "colab": {
          "base_uri": "https://localhost:8080/",
          "height": 856
        },
        "id": "hsF8EapRNhL-",
        "outputId": "04353617-2208-4e96-938c-aa26e00d054e"
      },
      "execution_count": null,
      "outputs": [
        {
          "output_type": "stream",
          "name": "stderr",
          "text": [
            "/usr/local/lib/python3.10/dist-packages/ipykernel/ipkernel.py:283: DeprecationWarning: `should_run_async` will not call `transform_cell` automatically in the future. Please pass the result to `transformed_cell` argument and any exception that happen during thetransform in `preprocessing_exc_tuple` in IPython 7.17 and above.\n",
            "  and should_run_async(code)\n"
          ]
        },
        {
          "output_type": "display_data",
          "data": {
            "text/plain": [
              "<Figure size 960x800 with 3 Axes>"
            ],
            "image/png": "[encoded data removed]"
          },
          "metadata": {}
        }
      ]
    },
    {
      "cell_type": "code",
      "source": [
        "pyLDAvis.enable_notebook()\n",
        "pyLDAvis.gensim.prepare(ldamodel, doc_term_matrix, dictionary)"
      ],
      "metadata": {
        "colab": {
          "base_uri": "https://localhost:8080/",
          "height": 916
        },
        "collapsed": true,
        "id": "P6viccFHQp3O",
        "outputId": "5b57e10a-ddcb-472e-b0b7-65694c7759fd"
      },
      "execution_count": null,
      "outputs": [
        {
          "output_type": "stream",
          "name": "stderr",
          "text": [
            "/usr/local/lib/python3.10/dist-packages/ipykernel/ipkernel.py:283: DeprecationWarning: `should_run_async` will not call `transform_cell` automatically in the future. Please pass the result to `transformed_cell` argument and any exception that happen during thetransform in `preprocessing_exc_tuple` in IPython 7.17 and above.\n",
            "  and should_run_async(code)\n"
          ]
        },
        {
          "output_type": "execute_result",
          "data": {
            "text/plain": [
              "PreparedData(topic_coordinates=              x    y  topics  cluster       Freq\n",
              "topic                                           \n",
              "1     -0.144954  0.0       1        1  55.015023\n",
              "2      0.129767  0.0       2        1  42.651193\n",
              "0      0.015187  0.0       3        1   2.333784, topic_info=           Term      Freq     Total Category  logprob  loglift\n",
              "4        gammel  6.000000  6.000000  Default  30.0000  30.0000\n",
              "0        bosatt  4.000000  4.000000  Default  29.0000  29.0000\n",
              "2       drammen  2.000000  2.000000  Default  28.0000  28.0000\n",
              "10  norskiraker  2.000000  2.000000  Default  27.0000  27.0000\n",
              "13     tiltalte  2.000000  2.000000  Default  26.0000  26.0000\n",
              "..          ...       ...       ...      ...      ...      ...\n",
              "7        italia  0.037659  1.903698   Topic3  -4.0433  -0.1653\n",
              "8        krekar  0.037659  1.903698   Topic3  -4.0433  -0.1653\n",
              "9         norge  0.037659  1.903698   Topic3  -4.0433  -0.1653\n",
              "11        reise  0.037659  1.903698   Topic3  -4.0433  -0.1653\n",
              "12   rettssaken  0.037659  1.903698   Topic3  -4.0433  -0.1653\n",
              "\n",
              "[145 rows x 6 columns], token_table=      Topic      Freq                    Term\n",
              "term                                         \n",
              "52        1  0.833217                agjengen\n",
              "17        2  1.080677               altostari\n",
              "18        2  0.851753               arrestert\n",
              "19        2  0.851753          asmlamedlemmer\n",
              "20        2  0.851753                    asyl\n",
              "21        2  0.851753                attentat\n",
              "0         1  0.848074                  bosatt\n",
              "22        2  0.851753                  bosted\n",
              "44        2  0.851990                cappelen\n",
              "23        2  0.851753                danmark,\n",
              "24        2  0.851753                  danske\n",
              "1         1  1.050587                   delta\n",
              "2         1  0.767206                 drammen\n",
              "14        1  0.833781                  drapet\n",
              "25        2  0.851753  etterretningstjenesten\n",
              "3         1  0.767207             fredrikstad\n",
              "4         1  1.025469                  gammel\n",
              "45        2  0.851991                    hasj\n",
              "26        2  0.851753                     hor\n",
              "5         1  0.833018                 hverken\n",
              "27        2  0.851753                   hyret\n",
              "6         1  0.767206                  iraker\n",
              "28        2  1.080677                 iranske\n",
              "7         1  1.050587                  italia\n",
              "29        2  0.851753                  kaller\n",
              "8         1  1.050587                  krekar\n",
              "53        1  0.833217                   kveld\n",
              "30        2  0.851753                   livet\n",
              "31        2  0.851753                    mann\n",
              "54        1  0.833217               medlemmer\n",
              "32        2  0.851753             myndigheter\n",
              "55        1  0.833217                nordmann\n",
              "9         1  1.050587                   norge\n",
              "10        1  0.767207             norskiraker\n",
              "33        2  1.080677           norskiraneren\n",
              "15        1  0.775432         norskpakistaner\n",
              "15        2  0.387716         norskpakistaner\n",
              "34        2  0.851753                 nyheten\n",
              "35        2  0.851753          opposisjonelle\n",
              "36        2  0.851753                planlagt\n",
              "46        1  0.532972                politiet\n",
              "46        2  0.532972                politiet\n",
              "37        2  0.851753                politisk\n",
              "56        1  0.833217                  pågrep\n",
              "11        1  1.050587                   reise\n",
              "12        1  1.050587              rettssaken\n",
              "38        2  0.851753       revolusjonsgarden\n",
              "16        1  0.833781                  siktet\n",
              "47        2  0.851990                  solgte\n",
              "39        2  0.851753                 sverige\n",
              "48        2  0.851990                     til\n",
              "13        1  0.767206                tiltalte\n",
              "40        2  0.851753                 tirsdag\n",
              "41        2  0.851753                   tyder\n",
              "42        2  0.851753                  yacoub\n",
              "49        2  0.851990               «maxopak»\n",
              "50        2  0.851990                  «opac»\n",
              "51        2  0.851990                  «opak»\n",
              "43        2  0.851753               østlandet, R=30, lambda_step=0.01, plot_opts={'xlab': 'PC1', 'ylab': 'PC2'}, topic_order=[2, 3, 1])"
            ],
            "text/html": [
              "\n",
              "<link rel=\"stylesheet\" type=\"text/css\" href=\"https://cdn.jsdelivr.net/gh/bmabey/pyLDAvis@3.4.0/pyLDAvis/js/ldavis.v1.0.0.css\">\n",
              "\n",
              "\n",
              "<div id=\"ldavis_el68161353519578744806479138890\" style=\"background-color:white;\"></div>\n",
              "<script type=\"text/javascript\">\n",
              "\n",
              "var ldavis_el68161353519578744806479138890_data = {\"mdsDat\": {\"x\": [-0.14495442485110432, 0.12976741430432634, 0.015187010546778018], \"y\": [0.0, 0.0, 0.0], \"topics\": [1, 2, 3], \"cluster\": [1, 1, 1], \"Freq\": [55.015022953460814, 42.65119313384177, 2.333783912697406]}, \"tinfo\": {\"Term\": [\"gammel\", \"bosatt\", \"drammen\", \"norskiraker\", \"tiltalte\", \"iraker\", \"fredrikstad\", \"altostari\", \"norskiraneren\", \"iranske\", \"delta\", \"norge\", \"krekar\", \"italia\", \"reise\", \"rettssaken\", \"til\", \"hasj\", \"\\u00abopak\\u00bb\", \"cappelen\", \"\\u00abopac\\u00bb\", \"solgte\", \"\\u00abmaxopak\\u00bb\", \"danmark,\", \"opposisjonelle\", \"arrestert\", \"asmlamedlemmer\", \"\\u00f8stlandet\", \"yacoub\", \"tyder\", \"gammel\", \"bosatt\", \"fredrikstad\", \"drammen\", \"iraker\", \"tiltalte\", \"norskiraker\", \"rettssaken\", \"italia\", \"krekar\", \"norge\", \"reise\", \"delta\", \"hverken\", \"kveld\", \"medlemmer\", \"p\\u00e5grep\", \"nordmann\", \"agjengen\", \"drapet\", \"siktet\", \"norskpakistaner\", \"politiet\", \"cappelen\", \"\\u00abopac\\u00bb\", \"\\u00abopak\\u00bb\", \"til\", \"hasj\", \"solgte\", \"\\u00abmaxopak\\u00bb\", \"iranske\", \"norskiraneren\", \"altostari\", \"danmark,\", \"hor\", \"arrestert\", \"asmlamedlemmer\", \"asyl\", \"attentat\", \"bosted\", \"danske\", \"etterretningstjenesten\", \"hyret\", \"kaller\", \"livet\", \"mann\", \"myndigheter\", \"nyheten\", \"opposisjonelle\", \"planlagt\", \"politisk\", \"revolusjonsgarden\", \"sverige\", \"tirsdag\", \"tyder\", \"yacoub\", \"\\u00f8stlandet\", \"solgte\", \"\\u00abmaxopak\\u00bb\", \"hasj\", \"politiet\", \"norskpakistaner\", \"til\", \"hasj\", \"cappelen\", \"\\u00abopac\\u00bb\", \"\\u00abopak\\u00bb\", \"solgte\", \"\\u00abmaxopak\\u00bb\", \"arrestert\", \"asmlamedlemmer\", \"asyl\", \"attentat\", \"bosted\", \"danske\", \"etterretningstjenesten\", \"hyret\", \"kaller\", \"livet\", \"mann\", \"myndigheter\", \"nyheten\", \"opposisjonelle\", \"planlagt\", \"politisk\", \"revolusjonsgarden\", \"sverige\", \"tirsdag\", \"tyder\", \"yacoub\", \"\\u00f8stlandet\", \"danmark,\", \"siktet\", \"drapet\", \"nordmann\", \"agjengen\", \"medlemmer\", \"p\\u00e5grep\", \"kveld\", \"hverken\", \"politiet\", \"norskpakistaner\", \"gammel\", \"drammen\", \"norskiraker\", \"tiltalte\", \"iraker\", \"fredrikstad\", \"bosatt\", \"delta\", \"italia\", \"krekar\", \"norge\", \"reise\", \"rettssaken\"], \"Freq\": [6.0, 4.0, 2.0, 2.0, 2.0, 2.0, 2.0, 1.0, 1.0, 1.0, 1.0, 1.0, 1.0, 1.0, 1.0, 1.0, 1.0, 1.0, 1.0, 1.0, 1.0, 1.0, 1.0, 1.0, 1.0, 1.0, 1.0, 1.0, 1.0, 1.0, 6.5627114715738575, 4.453217131840503, 2.34350369564084, 2.34350369564084, 2.34350369564084, 2.34350369564084, 2.3435033185384886, 1.6403803341380119, 1.6403803341380119, 1.6403803341380119, 1.6403803341380119, 1.6403803341380119, 1.640380145586836, 0.9371320574811992, 0.9366741609507072, 0.9366741609507072, 0.9366741609507072, 0.9366740666751193, 0.9366740666751193, 0.9354180330173585, 0.9354180330173585, 1.6391875593997405, 0.935297548816006, 0.23457498586606543, 0.23457498586606543, 0.23457498586606543, 0.23457498586606543, 0.23457496229716845, 0.23457493872827145, 0.23457493872827145, 1.578615876862388, 1.578615876862388, 1.578615876862388, 0.9019700099823011, 0.9019699368937866, 0.9019699368937866, 0.9019699368937866, 0.9019699368937866, 0.9019699368937866, 0.9019699368937866, 0.9019699368937866, 0.9019699368937866, 0.9019699368937866, 0.9019699368937866, 0.9019699368937866, 0.9019699368937866, 0.9019699368937866, 0.9019699368937866, 0.9019699368937866, 0.9019699368937866, 0.9019699368937866, 0.9019699368937866, 0.9019699368937866, 0.9019699368937866, 0.9019699368937866, 0.9019699368937866, 0.9019699368937866, 0.9014548821314622, 0.9014548821314622, 0.901454735954433, 0.9031658111695283, 0.9021443260896013, 0.037692290777174856, 0.037692286777924494, 0.037692286777924494, 0.037692286777924494, 0.037692286777924494, 0.03769228277867413, 0.03769228277867413, 0.03762590322117511, 0.03762590322117511, 0.03762590322117511, 0.03762590322117511, 0.03762590322117511, 0.03762590322117511, 0.03762590322117511, 0.03762590322117511, 0.03762590322117511, 0.03762590322117511, 0.03762590322117511, 0.03762590322117511, 0.03762590322117511, 0.03762590322117511, 0.03762590322117511, 0.03762590322117511, 0.03762590322117511, 0.03762590322117511, 0.03762590322117511, 0.03762590322117511, 0.03762590322117511, 0.03762590322117511, 0.03762590322117511, 0.037867293973740696, 0.03786728597523997, 0.03771453060843477, 0.03771453060843477, 0.03771453060843477, 0.03771453060843477, 0.03771452660918441, 0.037660644709064856, 0.037808920915465255, 0.03787421267686597, 0.03769753379439869, 0.037673030387434206, 0.037673026388183845, 0.03767301838968312, 0.03767301439043276, 0.037672998393431315, 0.037672382508875654, 0.037659081002173536, 0.037659077002923175, 0.037659077002923175, 0.037659077002923175, 0.037659077002923175, 0.03765906900442245], \"Total\": [6.0, 4.0, 2.0, 2.0, 2.0, 2.0, 2.0, 1.0, 1.0, 1.0, 1.0, 1.0, 1.0, 1.0, 1.0, 1.0, 1.0, 1.0, 1.0, 1.0, 1.0, 1.0, 1.0, 1.0, 1.0, 1.0, 1.0, 1.0, 1.0, 1.0, 6.8261417680834215, 4.716569580245524, 2.606860048913573, 2.6068600991797046, 2.6068601197269605, 2.606860123726211, 2.6068597911666176, 1.9036982368250908, 1.9036982448235915, 1.9036982448235915, 1.9036982448235915, 1.9036982448235915, 1.9036980785437945, 1.2004543315086034, 1.2001673498622203, 1.2001673721335993, 1.2001673721335993, 1.20016729613014, 1.2001673144022686, 1.199355659284532, 1.1993556672830328, 2.5792060981662077, 1.8762722809009995, 1.173722008598423, 1.173722008598423, 1.173722008598423, 1.1737220125976733, 1.1737219850295262, 1.1737221036384078, 1.1737221036384078, 1.8506916629364887, 1.850691666935739, 1.8506916709349892, 1.1740496135256921, 1.174049536437927, 1.1740495404371776, 1.1740495404371776, 1.1740495404371776, 1.1740495404371776, 1.1740495404371776, 1.1740495404371776, 1.1740495404371776, 1.1740495404371776, 1.1740495404371776, 1.1740495404371776, 1.1740495404371776, 1.1740495404371776, 1.1740495404371776, 1.1740495404371776, 1.1740495404371776, 1.1740495404371776, 1.1740495404371776, 1.1740495404371776, 1.1740495404371776, 1.1740495404371776, 1.1740495404371776, 1.1740495404371776, 1.1737221036384078, 1.1737221036384078, 1.1737219850295262, 1.8762722809009995, 2.5792060981662077, 1.1737220125976733, 1.1737219850295262, 1.173722008598423, 1.173722008598423, 1.173722008598423, 1.1737221036384078, 1.1737221036384078, 1.1740495404371776, 1.1740495404371776, 1.1740495404371776, 1.1740495404371776, 1.1740495404371776, 1.1740495404371776, 1.1740495404371776, 1.1740495404371776, 1.1740495404371776, 1.1740495404371776, 1.1740495404371776, 1.1740495404371776, 1.1740495404371776, 1.1740495404371776, 1.1740495404371776, 1.1740495404371776, 1.1740495404371776, 1.1740495404371776, 1.1740495404371776, 1.1740495404371776, 1.1740495404371776, 1.1740495404371776, 1.1740496135256921, 1.1993556672830328, 1.199355659284532, 1.20016729613014, 1.2001673144022686, 1.2001673721335993, 1.2001673721335993, 1.2001673498622203, 1.2004543315086034, 1.8762722809009995, 2.5792060981662077, 6.8261417680834215, 2.6068600991797046, 2.6068597911666176, 2.606860123726211, 2.6068601197269605, 2.606860048913573, 4.716569580245524, 1.9036980785437945, 1.9036982448235915, 1.9036982448235915, 1.9036982448235915, 1.9036982448235915, 1.9036982368250908], \"Category\": [\"Default\", \"Default\", \"Default\", \"Default\", \"Default\", \"Default\", \"Default\", \"Default\", \"Default\", \"Default\", \"Default\", \"Default\", \"Default\", \"Default\", \"Default\", \"Default\", \"Default\", \"Default\", \"Default\", \"Default\", \"Default\", \"Default\", \"Default\", \"Default\", \"Default\", \"Default\", \"Default\", \"Default\", \"Default\", \"Default\", \"Topic1\", \"Topic1\", \"Topic1\", \"Topic1\", \"Topic1\", \"Topic1\", \"Topic1\", \"Topic1\", \"Topic1\", \"Topic1\", \"Topic1\", \"Topic1\", \"Topic1\", \"Topic1\", \"Topic1\", \"Topic1\", \"Topic1\", \"Topic1\", \"Topic1\", \"Topic1\", \"Topic1\", \"Topic1\", \"Topic1\", \"Topic1\", \"Topic1\", \"Topic1\", \"Topic1\", \"Topic1\", \"Topic1\", \"Topic1\", \"Topic2\", \"Topic2\", \"Topic2\", \"Topic2\", \"Topic2\", \"Topic2\", \"Topic2\", \"Topic2\", \"Topic2\", \"Topic2\", \"Topic2\", \"Topic2\", \"Topic2\", \"Topic2\", \"Topic2\", \"Topic2\", \"Topic2\", \"Topic2\", \"Topic2\", \"Topic2\", \"Topic2\", \"Topic2\", \"Topic2\", \"Topic2\", \"Topic2\", \"Topic2\", \"Topic2\", \"Topic2\", \"Topic2\", \"Topic2\", \"Topic2\", \"Topic2\", \"Topic3\", \"Topic3\", \"Topic3\", \"Topic3\", \"Topic3\", \"Topic3\", \"Topic3\", \"Topic3\", \"Topic3\", \"Topic3\", \"Topic3\", \"Topic3\", \"Topic3\", \"Topic3\", \"Topic3\", \"Topic3\", \"Topic3\", \"Topic3\", \"Topic3\", \"Topic3\", \"Topic3\", \"Topic3\", \"Topic3\", \"Topic3\", \"Topic3\", \"Topic3\", \"Topic3\", \"Topic3\", \"Topic3\", \"Topic3\", \"Topic3\", \"Topic3\", \"Topic3\", \"Topic3\", \"Topic3\", \"Topic3\", \"Topic3\", \"Topic3\", \"Topic3\", \"Topic3\", \"Topic3\", \"Topic3\", \"Topic3\", \"Topic3\", \"Topic3\", \"Topic3\", \"Topic3\", \"Topic3\", \"Topic3\", \"Topic3\", \"Topic3\", \"Topic3\", \"Topic3\"], \"logprob\": [30.0, 29.0, 28.0, 27.0, 26.0, 25.0, 24.0, 23.0, 22.0, 21.0, 20.0, 19.0, 18.0, 17.0, 16.0, 15.0, 14.0, 13.0, 12.0, 11.0, 10.0, 9.0, 8.0, 7.0, 6.0, 5.0, 4.0, 3.0, 2.0, 1.0, -2.0428, -2.4306, -3.0726, -3.0726, -3.0726, -3.0726, -3.0726, -3.4293, -3.4293, -3.4293, -3.4293, -3.4293, -3.4293, -3.9892, -3.9896, -3.9896, -3.9896, -3.9896, -3.9896, -3.991, -3.991, -3.43, -3.9911, -5.3742, -5.3742, -5.3742, -5.3742, -5.3742, -5.3742, -5.3742, -3.2131, -3.2131, -3.2131, -3.7728, -3.7728, -3.7728, -3.7728, -3.7728, -3.7728, -3.7728, -3.7728, -3.7728, -3.7728, -3.7728, -3.7728, -3.7728, -3.7728, -3.7728, -3.7728, -3.7728, -3.7728, -3.7728, -3.7728, -3.7728, -3.7728, -3.7728, -3.7728, -3.7734, -3.7734, -3.7734, -3.7715, -3.7727, -4.0424, -4.0424, -4.0424, -4.0424, -4.0424, -4.0424, -4.0424, -4.0442, -4.0442, -4.0442, -4.0442, -4.0442, -4.0442, -4.0442, -4.0442, -4.0442, -4.0442, -4.0442, -4.0442, -4.0442, -4.0442, -4.0442, -4.0442, -4.0442, -4.0442, -4.0442, -4.0442, -4.0442, -4.0442, -4.0442, -4.0378, -4.0378, -4.0418, -4.0418, -4.0418, -4.0418, -4.0418, -4.0432, -4.0393, -4.0376, -4.0423, -4.0429, -4.0429, -4.0429, -4.0429, -4.0429, -4.0429, -4.0433, -4.0433, -4.0433, -4.0433, -4.0433, -4.0433], \"loglift\": [30.0, 29.0, 28.0, 27.0, 26.0, 25.0, 24.0, 23.0, 22.0, 21.0, 20.0, 19.0, 18.0, 17.0, 16.0, 15.0, 14.0, 13.0, 12.0, 11.0, 10.0, 9.0, 8.0, 7.0, 6.0, 5.0, 4.0, 3.0, 2.0, 1.0, 0.5582, 0.5401, 0.4911, 0.4911, 0.4911, 0.4911, 0.4911, 0.4487, 0.4487, 0.4487, 0.4487, 0.4487, 0.4487, 0.3499, 0.3497, 0.3497, 0.3497, 0.3497, 0.3497, 0.349, 0.349, 0.1443, -0.0986, -1.0126, -1.0126, -1.0126, -1.0126, -1.0126, -1.0126, -1.0126, 0.6931, 0.6931, 0.6931, 0.5885, 0.5885, 0.5885, 0.5885, 0.5885, 0.5885, 0.5885, 0.5885, 0.5885, 0.5885, 0.5885, 0.5885, 0.5885, 0.5885, 0.5885, 0.5885, 0.5885, 0.5885, 0.5885, 0.5885, 0.5885, 0.5885, 0.5885, 0.5885, 0.5882, 0.5882, 0.5882, 0.121, -0.1983, 0.3192, 0.3192, 0.3192, 0.3192, 0.3192, 0.3192, 0.3192, 0.3172, 0.3172, 0.3172, 0.3172, 0.3172, 0.3172, 0.3172, 0.3172, 0.3172, 0.3172, 0.3172, 0.3172, 0.3172, 0.3172, 0.3172, 0.3172, 0.3172, 0.3172, 0.3172, 0.3172, 0.3172, 0.3172, 0.3172, 0.3022, 0.3022, 0.2975, 0.2975, 0.2975, 0.2975, 0.2975, 0.2958, -0.1468, -0.4633, -1.4412, -0.4793, -0.4793, -0.4793, -0.4793, -0.4793, -1.0722, -0.1653, -0.1653, -0.1653, -0.1653, -0.1653, -0.1653]}, \"token.table\": {\"Topic\": [1, 2, 2, 2, 2, 2, 1, 2, 2, 2, 2, 1, 1, 1, 2, 1, 1, 2, 2, 1, 2, 1, 2, 1, 2, 1, 1, 2, 2, 1, 2, 1, 1, 1, 2, 1, 2, 2, 2, 2, 1, 2, 2, 1, 1, 1, 2, 1, 2, 2, 2, 1, 2, 2, 2, 2, 2, 2, 2], \"Freq\": [0.8332171589742385, 1.0806770416757636, 0.8517528141339187, 0.8517528141339187, 0.8517528141339187, 0.8517528141339187, 0.8480739935976471, 0.8517528141339187, 0.8519904991763171, 0.8517527611094577, 0.8517528141339187, 1.0505867619144051, 0.7672064951354067, 0.8337810325558839, 0.8517528141339187, 0.7672065099288755, 1.025469472774427, 0.8519905162846924, 0.8517528170353064, 0.8330179447503899, 0.8517528141339187, 0.7672064890882897, 1.0806770463463395, 1.0505866701502014, 0.8517528141339187, 1.0505866701502014, 0.8332171343561383, 0.8517528141339187, 0.8517528141339187, 0.833217118894216, 0.8517528141339187, 0.8332171716596793, 1.0505866701502014, 0.7672065857845631, 1.0806770440110516, 0.7754324097721318, 0.3877162048860659, 0.8517528141339187, 0.8517528141339187, 0.8517528141339187, 0.5329716854953443, 0.5329716854953443, 0.8517528141339187, 0.833217118894216, 1.0505866701502014, 1.0505866745643035, 0.8517528141339187, 0.8337810269953997, 0.8519904301879563, 0.8517528141339187, 0.8519904962733101, 0.7672064879112988, 0.8517528141339187, 0.8517528141339187, 0.8517528141339187, 0.8519904301879563, 0.8519904991763171, 0.8519904991763171, 0.8517528141339187], \"Term\": [\"agjengen\", \"altostari\", \"arrestert\", \"asmlamedlemmer\", \"asyl\", \"attentat\", \"bosatt\", \"bosted\", \"cappelen\", \"danmark,\", \"danske\", \"delta\", \"drammen\", \"drapet\", \"etterretningstjenesten\", \"fredrikstad\", \"gammel\", \"hasj\", \"hor\", \"hverken\", \"hyret\", \"iraker\", \"iranske\", \"italia\", \"kaller\", \"krekar\", \"kveld\", \"livet\", \"mann\", \"medlemmer\", \"myndigheter\", \"nordmann\", \"norge\", \"norskiraker\", \"norskiraneren\", \"norskpakistaner\", \"norskpakistaner\", \"nyheten\", \"opposisjonelle\", \"planlagt\", \"politiet\", \"politiet\", \"politisk\", \"p\\u00e5grep\", \"reise\", \"rettssaken\", \"revolusjonsgarden\", \"siktet\", \"solgte\", \"sverige\", \"til\", \"tiltalte\", \"tirsdag\", \"tyder\", \"yacoub\", \"\\u00abmaxopak\\u00bb\", \"\\u00abopac\\u00bb\", \"\\u00abopak\\u00bb\", \"\\u00f8stlandet\"]}, \"R\": 30, \"lambda.step\": 0.01, \"plot.opts\": {\"xlab\": \"PC1\", \"ylab\": \"PC2\"}, \"topic.order\": [2, 3, 1]};\n",
              "\n",
              "function LDAvis_load_lib(url, callback){\n",
              "  var s = document.createElement('script');\n",
              "  s.src = url;\n",
              "  s.async = true;\n",
              "  s.onreadystatechange = s.onload = callback;\n",
              "  s.onerror = function(){console.warn(\"failed to load library \" + url);};\n",
              "  document.getElementsByTagName(\"head\")[0].appendChild(s);\n",
              "}\n",
              "\n",
              "if(typeof(LDAvis) !== \"undefined\"){\n",
              "   // already loaded: just create the visualization\n",
              "   !function(LDAvis){\n",
              "       new LDAvis(\"#\" + \"ldavis_el68161353519578744806479138890\", ldavis_el68161353519578744806479138890_data);\n",
              "   }(LDAvis);\n",
              "}else if(typeof define === \"function\" && define.amd){\n",
              "   // require.js is available: use it to load d3/LDAvis\n",
              "   require.config({paths: {d3: \"https://d3js.org/d3.v5\"}});\n",
              "   require([\"d3\"], function(d3){\n",
              "      window.d3 = d3;\n",
              "      LDAvis_load_lib(\"https://cdn.jsdelivr.net/gh/bmabey/pyLDAvis@3.4.0/pyLDAvis/js/ldavis.v3.0.0.js\", function(){\n",
              "        new LDAvis(\"#\" + \"ldavis_el68161353519578744806479138890\", ldavis_el68161353519578744806479138890_data);\n",
              "      });\n",
              "    });\n",
              "}else{\n",
              "    // require.js not available: dynamically load d3 & LDAvis\n",
              "    LDAvis_load_lib(\"https://d3js.org/d3.v5.js\", function(){\n",
              "         LDAvis_load_lib(\"https://cdn.jsdelivr.net/gh/bmabey/pyLDAvis@3.4.0/pyLDAvis/js/ldavis.v3.0.0.js\", function(){\n",
              "                 new LDAvis(\"#\" + \"ldavis_el68161353519578744806479138890\", ldavis_el68161353519578744806479138890_data);\n",
              "            })\n",
              "         });\n",
              "}\n",
              "</script>"
            ]
          },
          "metadata": {},
          "execution_count": 193
        }
      ]
    },
    {
      "cell_type": "markdown",
      "source": [
        "####### TFIDF"
      ],
      "metadata": {
        "id": "JidSm-XETv4a"
      }
    },
    {
      "cell_type": "code",
      "source": [
        "tfidf = gensim.models.TfidfModel\n",
        "tfidf_model = tfidf(corpus=doc_term_matrix, id2word=dictionary)\n",
        "tfidf_doc = tfidf_model[doc_term_matrix]\n",
        "lsi_model = gensim.models.LsiModel(tfidf_doc, id2word=dictionary, num_topics=3)\n",
        "\n",
        "n_words = 10\n",
        "\n",
        "topic_words = pd.DataFrame({})\n",
        "\n",
        "for i, topic in enumerate(lsi_model.get_topics()):\n",
        "    top_feature_ids = topic.argsort()[-n_words:][::-1]\n",
        "    feature_values = topic[top_feature_ids]\n",
        "    words = [dictionary[id] for id in top_feature_ids]\n",
        "    topic_df = pd.DataFrame({'word': feature_values, 'frequency': words, 'topic': i})\n",
        "    topic_words = pd.concat([topic_words, topic_df], ignore_index=True)\n",
        "\n",
        "topic_words.head()\n",
        "\n",
        "\n",
        "# pyLDAvis.gensim.prepare(lsi_model, doc_term_matrix, dictionary)"
      ],
      "metadata": {
        "colab": {
          "base_uri": "https://localhost:8080/",
          "height": 296
        },
        "collapsed": true,
        "id": "jHiC2VS2THv4",
        "outputId": "c9906c0d-2308-42e6-c6b9-e18bed335e45"
      },
      "execution_count": null,
      "outputs": [
        {
          "output_type": "stream",
          "name": "stderr",
          "text": [
            "/usr/local/lib/python3.10/dist-packages/ipykernel/ipkernel.py:283: DeprecationWarning: `should_run_async` will not call `transform_cell` automatically in the future. Please pass the result to `transformed_cell` argument and any exception that happen during thetransform in `preprocessing_exc_tuple` in IPython 7.17 and above.\n",
            "  and should_run_async(code)\n",
            "/usr/local/lib/python3.10/dist-packages/gensim/models/lsimodel.py:963: DeprecationWarning: `scipy.sparse.sparsetools.csc_matvecs` is deprecated along with the `scipy.sparse.sparsetools` namespace. `scipy.sparse.sparsetools.csc_matvecs` will be removed in SciPy 1.14.0, and the `scipy.sparse.sparsetools` namespace will be removed in SciPy 2.0.0.\n",
            "  sparsetools.csc_matvecs(\n"
          ]
        },
        {
          "output_type": "execute_result",
          "data": {
            "text/plain": [
              "       word    frequency  topic\n",
              "0  0.522944       bosatt      0\n",
              "1  0.261472  norskiraker      0\n",
              "2  0.261472  fredrikstad      0\n",
              "3  0.261472      drammen      0\n",
              "4  0.261472       iraker      0"
            ],
            "text/html": [
              "\n",
              "  <div id=\"df-fc3f21df-5806-4c5c-a427-29cd597c6b6f\" class=\"colab-df-container\">\n",
              "    <div>\n",
              "<style scoped>\n",
              "    .dataframe tbody tr th:only-of-type {\n",
              "        vertical-align: middle;\n",
              "    }\n",
              "\n",
              "    .dataframe tbody tr th {\n",
              "        vertical-align: top;\n",
              "    }\n",
              "\n",
              "    .dataframe thead th {\n",
              "        text-align: right;\n",
              "    }\n",
              "</style>\n",
              "<table border=\"1\" class=\"dataframe\">\n",
              "  <thead>\n",
              "    <tr style=\"text-align: right;\">\n",
              "      <th></th>\n",
              "      <th>word</th>\n",
              "      <th>frequency</th>\n",
              "      <th>topic</th>\n",
              "    </tr>\n",
              "  </thead>\n",
              "  <tbody>\n",
              "    <tr>\n",
              "      <th>0</th>\n",
              "      <td>0.522944</td>\n",
              "      <td>bosatt</td>\n",
              "      <td>0</td>\n",
              "    </tr>\n",
              "    <tr>\n",
              "      <th>1</th>\n",
              "      <td>0.261472</td>\n",
              "      <td>norskiraker</td>\n",
              "      <td>0</td>\n",
              "    </tr>\n",
              "    <tr>\n",
              "      <th>2</th>\n",
              "      <td>0.261472</td>\n",
              "      <td>fredrikstad</td>\n",
              "      <td>0</td>\n",
              "    </tr>\n",
              "    <tr>\n",
              "      <th>3</th>\n",
              "      <td>0.261472</td>\n",
              "      <td>drammen</td>\n",
              "      <td>0</td>\n",
              "    </tr>\n",
              "    <tr>\n",
              "      <th>4</th>\n",
              "      <td>0.261472</td>\n",
              "      <td>iraker</td>\n",
              "      <td>0</td>\n",
              "    </tr>\n",
              "  </tbody>\n",
              "</table>\n",
              "</div>\n",
              "    <div class=\"colab-df-buttons\">\n",
              "\n",
              "  <div class=\"colab-df-container\">\n",
              "    <button class=\"colab-df-convert\" onclick=\"convertToInteractive('df-fc3f21df-5806-4c5c-a427-29cd597c6b6f')\"\n",
              "            title=\"Convert this dataframe to an interactive table.\"\n",
              "            style=\"display:none;\">\n",
              "\n",
              "  <svg xmlns=\"http://www.w3.org/2000/svg\" height=\"24px\" viewBox=\"0 -960 960 960\">\n",
              "    <path d=\"M120-120v-720h720v720H120Zm60-500h600v-160H180v160Zm220 220h160v-160H400v160Zm0 220h160v-160H400v160ZM180-400h160v-160H180v160Zm440 0h160v-160H620v160ZM180-180h160v-160H180v160Zm440 0h160v-160H620v160Z\"/>\n",
              "  </svg>\n",
              "    </button>\n",
              "\n",
              "  <style>\n",
              "    .colab-df-container {\n",
              "      display:flex;\n",
              "      gap: 12px;\n",
              "    }\n",
              "\n",
              "    .colab-df-convert {\n",
              "      background-color: #E8F0FE;\n",
              "      border: none;\n",
              "      border-radius: 50%;\n",
              "      cursor: pointer;\n",
              "      display: none;\n",
              "      fill: #1967D2;\n",
              "      height: 32px;\n",
              "      padding: 0 0 0 0;\n",
              "      width: 32px;\n",
              "    }\n",
              "\n",
              "    .colab-df-convert:hover {\n",
              "      background-color: #E2EBFA;\n",
              "      box-shadow: 0px 1px 2px rgba(60, 64, 67, 0.3), 0px 1px 3px 1px rgba(60, 64, 67, 0.15);\n",
              "      fill: #174EA6;\n",
              "    }\n",
              "\n",
              "    .colab-df-buttons div {\n",
              "      margin-bottom: 4px;\n",
              "    }\n",
              "\n",
              "    [theme=dark] .colab-df-convert {\n",
              "      background-color: #3B4455;\n",
              "      fill: #D2E3FC;\n",
              "    }\n",
              "\n",
              "    [theme=dark] .colab-df-convert:hover {\n",
              "      background-color: #434B5C;\n",
              "      box-shadow: 0px 1px 3px 1px rgba(0, 0, 0, 0.15);\n",
              "      filter: drop-shadow(0px 1px 2px rgba(0, 0, 0, 0.3));\n",
              "      fill: #FFFFFF;\n",
              "    }\n",
              "  </style>\n",
              "\n",
              "    <script>\n",
              "      const buttonEl =\n",
              "        document.querySelector('#df-fc3f21df-5806-4c5c-a427-29cd597c6b6f button.colab-df-convert');\n",
              "      buttonEl.style.display =\n",
              "        google.colab.kernel.accessAllowed ? 'block' : 'none';\n",
              "\n",
              "      async function convertToInteractive(key) {\n",
              "        const element = document.querySelector('#df-fc3f21df-5806-4c5c-a427-29cd597c6b6f');\n",
              "        const dataTable =\n",
              "          await google.colab.kernel.invokeFunction('convertToInteractive',\n",
              "                                                    [key], {});\n",
              "        if (!dataTable) return;\n",
              "\n",
              "        const docLinkHtml = 'Like what you see? Visit the ' +\n",
              "          '<a target=\"_blank\" href=https://colab.research.google.com/notebooks/data_table.ipynb>data table notebook</a>'\n",
              "          + ' to learn more about interactive tables.';\n",
              "        element.innerHTML = '';\n",
              "        dataTable['output_type'] = 'display_data';\n",
              "        await google.colab.output.renderOutput(dataTable, element);\n",
              "        const docLink = document.createElement('div');\n",
              "        docLink.innerHTML = docLinkHtml;\n",
              "        element.appendChild(docLink);\n",
              "      }\n",
              "    </script>\n",
              "  </div>\n",
              "\n",
              "\n",
              "<div id=\"df-b15fc0be-3ea1-49bb-8179-c37158d5facf\">\n",
              "  <button class=\"colab-df-quickchart\" onclick=\"quickchart('df-b15fc0be-3ea1-49bb-8179-c37158d5facf')\"\n",
              "            title=\"Suggest charts\"\n",
              "            style=\"display:none;\">\n",
              "\n",
              "<svg xmlns=\"http://www.w3.org/2000/svg\" height=\"24px\"viewBox=\"0 0 24 24\"\n",
              "     width=\"24px\">\n",
              "    <g>\n",
              "        <path d=\"M19 3H5c-1.1 0-2 .9-2 2v14c0 1.1.9 2 2 2h14c1.1 0 2-.9 2-2V5c0-1.1-.9-2-2-2zM9 17H7v-7h2v7zm4 0h-2V7h2v10zm4 0h-2v-4h2v4z\"/>\n",
              "    </g>\n",
              "</svg>\n",
              "  </button>\n",
              "\n",
              "<style>\n",
              "  .colab-df-quickchart {\n",
              "      --bg-color: #E8F0FE;\n",
              "      --fill-color: #1967D2;\n",
              "      --hover-bg-color: #E2EBFA;\n",
              "      --hover-fill-color: #174EA6;\n",
              "      --disabled-fill-color: #AAA;\n",
              "      --disabled-bg-color: #DDD;\n",
              "  }\n",
              "\n",
              "  [theme=dark] .colab-df-quickchart {\n",
              "      --bg-color: #3B4455;\n",
              "      --fill-color: #D2E3FC;\n",
              "      --hover-bg-color: #434B5C;\n",
              "      --hover-fill-color: #FFFFFF;\n",
              "      --disabled-bg-color: #3B4455;\n",
              "      --disabled-fill-color: #666;\n",
              "  }\n",
              "\n",
              "  .colab-df-quickchart {\n",
              "    background-color: var(--bg-color);\n",
              "    border: none;\n",
              "    border-radius: 50%;\n",
              "    cursor: pointer;\n",
              "    display: none;\n",
              "    fill: var(--fill-color);\n",
              "    height: 32px;\n",
              "    padding: 0;\n",
              "    width: 32px;\n",
              "  }\n",
              "\n",
              "  .colab-df-quickchart:hover {\n",
              "    background-color: var(--hover-bg-color);\n",
              "    box-shadow: 0 1px 2px rgba(60, 64, 67, 0.3), 0 1px 3px 1px rgba(60, 64, 67, 0.15);\n",
              "    fill: var(--button-hover-fill-color);\n",
              "  }\n",
              "\n",
              "  .colab-df-quickchart-complete:disabled,\n",
              "  .colab-df-quickchart-complete:disabled:hover {\n",
              "    background-color: var(--disabled-bg-color);\n",
              "    fill: var(--disabled-fill-color);\n",
              "    box-shadow: none;\n",
              "  }\n",
              "\n",
              "  .colab-df-spinner {\n",
              "    border: 2px solid var(--fill-color);\n",
              "    border-color: transparent;\n",
              "    border-bottom-color: var(--fill-color);\n",
              "    animation:\n",
              "      spin 1s steps(1) infinite;\n",
              "  }\n",
              "\n",
              "  @keyframes spin {\n",
              "    0% {\n",
              "      border-color: transparent;\n",
              "      border-bottom-color: var(--fill-color);\n",
              "      border-left-color: var(--fill-color);\n",
              "    }\n",
              "    20% {\n",
              "      border-color: transparent;\n",
              "      border-left-color: var(--fill-color);\n",
              "      border-top-color: var(--fill-color);\n",
              "    }\n",
              "    30% {\n",
              "      border-color: transparent;\n",
              "      border-left-color: var(--fill-color);\n",
              "      border-top-color: var(--fill-color);\n",
              "      border-right-color: var(--fill-color);\n",
              "    }\n",
              "    40% {\n",
              "      border-color: transparent;\n",
              "      border-right-color: var(--fill-color);\n",
              "      border-top-color: var(--fill-color);\n",
              "    }\n",
              "    60% {\n",
              "      border-color: transparent;\n",
              "      border-right-color: var(--fill-color);\n",
              "    }\n",
              "    80% {\n",
              "      border-color: transparent;\n",
              "      border-right-color: var(--fill-color);\n",
              "      border-bottom-color: var(--fill-color);\n",
              "    }\n",
              "    90% {\n",
              "      border-color: transparent;\n",
              "      border-bottom-color: var(--fill-color);\n",
              "    }\n",
              "  }\n",
              "</style>\n",
              "\n",
              "  <script>\n",
              "    async function quickchart(key) {\n",
              "      const quickchartButtonEl =\n",
              "        document.querySelector('#' + key + ' button');\n",
              "      quickchartButtonEl.disabled = true;  // To prevent multiple clicks.\n",
              "      quickchartButtonEl.classList.add('colab-df-spinner');\n",
              "      try {\n",
              "        const charts = await google.colab.kernel.invokeFunction(\n",
              "            'suggestCharts', [key], {});\n",
              "      } catch (error) {\n",
              "        console.error('Error during call to suggestCharts:', error);\n",
              "      }\n",
              "      quickchartButtonEl.classList.remove('colab-df-spinner');\n",
              "      quickchartButtonEl.classList.add('colab-df-quickchart-complete');\n",
              "    }\n",
              "    (() => {\n",
              "      let quickchartButtonEl =\n",
              "        document.querySelector('#df-b15fc0be-3ea1-49bb-8179-c37158d5facf button');\n",
              "      quickchartButtonEl.style.display =\n",
              "        google.colab.kernel.accessAllowed ? 'block' : 'none';\n",
              "    })();\n",
              "  </script>\n",
              "</div>\n",
              "\n",
              "    </div>\n",
              "  </div>\n"
            ],
            "application/vnd.google.colaboratory.intrinsic+json": {
              "type": "dataframe",
              "summary": "{\n  \"name\": \"# pyLDAvis\",\n  \"rows\": 5,\n  \"fields\": [\n    {\n      \"column\": \"word\",\n      \"properties\": {\n        \"dtype\": \"number\",\n        \"std\": 0.11693373567778746,\n        \"min\": 0.26147178183852504,\n        \"max\": 0.5229435636770503,\n        \"num_unique_values\": 3,\n        \"samples\": [\n          0.5229435636770503,\n          0.2614717818385251,\n          0.26147178183852504\n        ],\n        \"semantic_type\": \"\",\n        \"description\": \"\"\n      }\n    },\n    {\n      \"column\": \"frequency\",\n      \"properties\": {\n        \"dtype\": \"string\",\n        \"num_unique_values\": 5,\n        \"samples\": [\n          \"norskiraker\",\n          \"iraker\",\n          \"fredrikstad\"\n        ],\n        \"semantic_type\": \"\",\n        \"description\": \"\"\n      }\n    },\n    {\n      \"column\": \"topic\",\n      \"properties\": {\n        \"dtype\": \"number\",\n        \"std\": 0,\n        \"min\": 0,\n        \"max\": 0,\n        \"num_unique_values\": 1,\n        \"samples\": [\n          0\n        ],\n        \"semantic_type\": \"\",\n        \"description\": \"\"\n      }\n    }\n  ]\n}"
            }
          },
          "metadata": {},
          "execution_count": 324
        }
      ]
    },
    {
      "cell_type": "code",
      "source": [
        "\n",
        "import seaborn as sns\n",
        "from matplotlib import pyplot as plt\n",
        "\n",
        "sns.set_style('whitegrid')\n",
        "# plt.colorbar\n",
        "def plot_barh(freq, words, **kwargs):\n",
        "  # palette = sns.color_palette(\"husl\", len(freq))\n",
        "  plt.barh(y=freq, width=words, facecolor=\"#d1a0e8\", **kwargs)\n",
        "\n",
        "g = sns.FacetGrid(topic_words, col=\"topic\", col_wrap=2, sharey=False, height=4, aspect=1.2)\n",
        "\n",
        "g.map(plot_barh, \"frequency\", \"word\")\n",
        "\n",
        "plt.show()\n",
        "\n",
        "# g.savefig(\"target_terms_tfidf_k_3.png\")"
      ],
      "metadata": {
        "colab": {
          "base_uri": "https://localhost:8080/",
          "height": 856
        },
        "id": "ZY-e-3L-chkt",
        "outputId": "21e0c009-54ea-4ceb-f046-94503b40bf0a"
      },
      "execution_count": null,
      "outputs": [
        {
          "output_type": "stream",
          "name": "stderr",
          "text": [
            "/usr/local/lib/python3.10/dist-packages/ipykernel/ipkernel.py:283: DeprecationWarning: `should_run_async` will not call `transform_cell` automatically in the future. Please pass the result to `transformed_cell` argument and any exception that happen during thetransform in `preprocessing_exc_tuple` in IPython 7.17 and above.\n",
            "  and should_run_async(code)\n"
          ]
        },
        {
          "output_type": "display_data",
          "data": {
            "text/plain": [
              "<Figure size 960x800 with 3 Axes>"
            ],
            "image/png": "[encoded data removed]"
          },
          "metadata": {}
        }
      ]
    },
    {
      "cell_type": "code",
      "source": [
        "tfidf = gensim.models.TfidfModel\n",
        "tfidf_model = tfidf(corpus=doc_term_matrix, id2word=dictionary)\n",
        "tfidf_doc = tfidf_model[doc_term_matrix]\n",
        "lsi_model = gensim.models.LsiModel(tfidf_doc, id2word=dictionary, num_topics=6)\n",
        "\n",
        "n_words = 20\n",
        "\n",
        "topic_words = pd.DataFrame({})\n",
        "\n",
        "for i, topic in enumerate(lsi_model.get_topics()):\n",
        "    top_feature_ids = topic.argsort()[-n_words:][::-1]\n",
        "    feature_values = topic[top_feature_ids]\n",
        "    words = [dictionary[id] for id in top_feature_ids]\n",
        "    topic_df = pd.DataFrame({'value': feature_values, 'word': words, 'topic': i})\n",
        "    topic_words = pd.concat([topic_words, topic_df], ignore_index=True)\n",
        "\n",
        "topic_words.head()\n",
        "\n",
        "g = sns.FacetGrid(topic_words, col=\"topic\", col_wrap=2, sharey=False)\n",
        "g.map(plt.barh, \"word\", \"value\")"
      ],
      "metadata": {
        "colab": {
          "base_uri": "https://localhost:8080/"
        },
        "id": "wyEBzSvMM9VZ",
        "outputId": "f70ee971-8f17-4df5-fb3f-e422d2d3349c"
      },
      "execution_count": null,
      "outputs": [
        {
          "output_type": "stream",
          "name": "stderr",
          "text": [
            "/usr/local/lib/python3.10/dist-packages/ipykernel/ipkernel.py:283: DeprecationWarning: `should_run_async` will not call `transform_cell` automatically in the future. Please pass the result to `transformed_cell` argument and any exception that happen during thetransform in `preprocessing_exc_tuple` in IPython 7.17 and above.\n",
            "  and should_run_async(code)\n",
            "/usr/local/lib/python3.10/dist-packages/gensim/models/lsimodel.py:963: DeprecationWarning: `scipy.sparse.sparsetools.csc_matvecs` is deprecated along with the `scipy.sparse.sparsetools` namespace. `scipy.sparse.sparsetools.csc_matvecs` will be removed in SciPy 1.14.0, and the `scipy.sparse.sparsetools` namespace will be removed in SciPy 2.0.0.\n",
            "  sparsetools.csc_matvecs(\n"
          ]
        },
        {
          "output_type": "execute_result",
          "data": {
            "text/plain": [
              "<seaborn.axisgrid.FacetGrid at 0x7f4a2416bd60>"
            ]
          },
          "metadata": {},
          "execution_count": 197
        },
        {
          "output_type": "display_data",
          "data": {
            "text/plain": [
              "<Figure size 600x600 with 3 Axes>"
            ],
            "image/png": "[encoded data removed]"
          },
          "metadata": {}
        }
      ]
    },
    {
      "cell_type": "code",
      "execution_count": null,
      "metadata": {
        "colab": {
          "base_uri": "https://localhost:8080/"
        },
        "id": "soyGBZD_cpcH",
        "outputId": "b17e56d5-bba3-4bc4-ef7e-b1386b04c868",
        "collapsed": true
      },
      "outputs": [
        {
          "output_type": "stream",
          "name": "stdout",
          "text": [
            "199829\n",
            "182\n"
          ]
        },
        {
          "output_type": "stream",
          "name": "stderr",
          "text": [
            "/usr/local/lib/python3.10/dist-packages/ipykernel/ipkernel.py:283: DeprecationWarning: `should_run_async` will not call `transform_cell` automatically in the future. Please pass the result to `transformed_cell` argument and any exception that happen during thetransform in `preprocessing_exc_tuple` in IPython 7.17 and above.\n",
            "  and should_run_async(code)\n"
          ]
        },
        {
          "output_type": "execute_result",
          "data": {
            "text/plain": [
              "shape: (20, 2)\n",
              "┌─────────────┬───────┐\n",
              "│ tokens      ┆ count │\n",
              "│ ---         ┆ ---   │\n",
              "│ str         ┆ u32   │\n",
              "╞═════════════╪═══════╡\n",
              "│ styrke      ┆ 2618  │\n",
              "│ iran        ┆ 2066  │\n",
              "│ tyrkia      ┆ 1543  │\n",
              "│ styrker     ┆ 1203  │\n",
              "│ usa         ┆ 1189  │\n",
              "│ norge       ┆ 883   │\n",
              "│ tyrkiske    ┆ 762   │\n",
              "│ syria       ┆ 739   │\n",
              "│ muslimer    ┆ 651   │\n",
              "│ styrket     ┆ 632   │\n",
              "│ afghanistan ┆ 628   │\n",
              "│ trump       ┆ 597   │\n",
              "│ iranske     ┆ 592   │\n",
              "│ amerikanske ┆ 584   │\n",
              "│ irak        ┆ 575   │\n",
              "│ president   ┆ 506   │\n",
              "│ landet      ┆ 490   │\n",
              "│ muslimske   ┆ 461   │\n",
              "│ skriver     ┆ 450   │\n",
              "│ land        ┆ 441   │\n",
              "└─────────────┴───────┘"
            ],
            "text/html": [
              "<div><style>\n",
              ".dataframe > thead > tr,\n",
              ".dataframe > tbody > tr {\n",
              "  text-align: right;\n",
              "  white-space: pre-wrap;\n",
              "}\n",
              "</style>\n",
              "<small>shape: (20, 2)</small><table border=\"1\" class=\"dataframe\"><thead><tr><th>tokens</th><th>count</th></tr><tr><td>str</td><td>u32</td></tr></thead><tbody><tr><td>&quot;styrke&quot;</td><td>2618</td></tr><tr><td>&quot;iran&quot;</td><td>2066</td></tr><tr><td>&quot;tyrkia&quot;</td><td>1543</td></tr><tr><td>&quot;styrker&quot;</td><td>1203</td></tr><tr><td>&quot;usa&quot;</td><td>1189</td></tr><tr><td>&quot;norge&quot;</td><td>883</td></tr><tr><td>&quot;tyrkiske&quot;</td><td>762</td></tr><tr><td>&quot;syria&quot;</td><td>739</td></tr><tr><td>&quot;muslimer&quot;</td><td>651</td></tr><tr><td>&quot;styrket&quot;</td><td>632</td></tr><tr><td>&quot;afghanistan&quot;</td><td>628</td></tr><tr><td>&quot;trump&quot;</td><td>597</td></tr><tr><td>&quot;iranske&quot;</td><td>592</td></tr><tr><td>&quot;amerikanske&quot;</td><td>584</td></tr><tr><td>&quot;irak&quot;</td><td>575</td></tr><tr><td>&quot;president&quot;</td><td>506</td></tr><tr><td>&quot;landet&quot;</td><td>490</td></tr><tr><td>&quot;muslimske&quot;</td><td>461</td></tr><tr><td>&quot;skriver&quot;</td><td>450</td></tr><tr><td>&quot;land&quot;</td><td>441</td></tr></tbody></table></div>"
            ]
          },
          "metadata": {},
          "execution_count": 49
        }
      ],
      "source": [
        "# made token list array into df again\n",
        "token_df = pl.DataFrame({\"tokens\":tl})\n",
        "print(len(token_df))"
      ]
    },
    {
      "cell_type": "code",
      "source": [
        "# filter to tokens which appear at least x times\n",
        "x = 100\n",
        "cleaned_list = token_df['tokens'].value_counts(sort=True).filter(pl.col(\"count\") > x)\n",
        "print(len(cleaned_list))\n",
        "cleaned_list.head(20)"
      ],
      "metadata": {
        "id": "3bUmyNivna4C"
      },
      "execution_count": null,
      "outputs": []
    },
    {
      "cell_type": "code",
      "execution_count": null,
      "metadata": {
        "colab": {
          "base_uri": "https://localhost:8080/"
        },
        "id": "aEVnQR9q3b_C",
        "outputId": "262c4216-88dd-4bbc-e67b-26d6afd5eeff"
      },
      "outputs": [
        {
          "output_type": "stream",
          "name": "stdout",
          "text": [
            "{'afghanistan': 0, 'afghanistan,': 1, 'afghanske': 2, 'allierte': 3, 'amerikansk': 4, 'amerikanske': 5, 'angrep': 6, 'angrepene': 7, 'angrepet': 8, 'arbeidet': 9, 'atomavtalen': 10, 'avtalen': 11, 'bakgrunn': 12, 'barn': 13, 'barna': 14, 'bedre': 15, 'bidra': 16, 'byen': 17, 'bærum': 18, 'dager': 19, 'donald': 20, 'drept': 21, 'erdogan': 22, 'europa': 23, 'familien': 24, 'fjor': 25, 'flyktninger': 26, 'folk': 27, 'forbindelse': 28, 'forhold': 29, 'forrige': 30, 'forsvaret': 31, 'fortsetter': 32, 'frankrike': 33, 'ganger': 34, 'gir': 35, 'gjelder': 36, 'gode': 37, 'grensen': 38, 'gruppen': 39, 'hevder': 40, 'hijab': 41, 'india': 42, 'internasjonale': 43, 'irak': 44, 'irakiske': 45, 'iran': 46, 'iran,': 47, 'irans': 48, 'iransk': 49, 'iranske': 50, 'islam': 51, 'islamic': 52, 'islamistiske': 53, 'islamsk': 54, 'islamske': 55, 'israel': 56, 'kampen': 57, 'kina': 58, 'konflikten': 59, 'kontroll': 60, 'krig': 61, 'krigen': 62, 'kristne': 63, 'kroner': 64, 'kurdiske': 65, 'kveld': 66, 'kvinner': 67, 'land': 68, 'landene': 69, 'landet': 70, 'landets': 71, 'leder': 72, 'legger': 73, 'marokkanske': 74, 'medier': 75, 'melder': 76, 'menn': 77, 'mennesker': 78, 'militære': 79, 'millioner': 80, 'mirakel': 81, 'moskeen': 82, 'muslimer': 83, 'muslimsk': 84, 'muslimske': 85, 'myndighetene': 86, 'myndigheter': 87, 'mål': 88, 'måte': 89, 'møte': 90, 'nato': 91, 'new': 92, 'nord': 93, 'norge': 94, 'norges': 95, 'ntb': 96, 'nyhetsbyrået': 97, 'områder': 98, 'området': 99, 'opplyser': 100, 'oslo': 101, 'pakistan': 102, 'pakistanske': 103, 'partiet': 104, 'personer': 105, 'politiet': 106, 'politisk': 107, 'politiske': 108, 'president': 109, 'presidenten': 110, 'prosent': 111, 'rammet': 112, 'recep': 113, 'regionen': 114, 'regjeringen': 115, 'rekke': 116, 'rettet': 117, 'russiske': 118, 'russland': 119, 'sagt': 120, 'saken': 121, 'samarbeid': 122, 'sanksjonene': 123, 'sanksjoner': 124, 'saudiarabia': 125, 'side': 126, 'sikkerhetsstyrker': 127, 'sikre': 128, 'situasjonen': 129, 'sivile': 130, 'skrev': 131, 'skriver': 132, 'skutt': 133, 'soldater': 134, 'somalia': 135, 'staten': 136, 'statsminister': 137, 'stedet': 138, 'storbritannia': 139, 'styrke': 140, 'styrken': 141, 'styrkene': 142, 'styrker': 143, 'styrkes': 144, 'styrket': 145, 'styrking': 146, 'stå': 147, 'støtte': 148, 'syria': 149, 'syria,': 150, 'syriske': 151, 'taliban': 152, 'tayyip': 153, 'tiden': 154, 'tillegg': 155, 'tiltak': 156, 'trakk': 157, 'trekke': 158, 'tror': 159, 'trump': 160, 'trumps': 161, 'tyrkia': 162, 'tyrkia,': 163, 'tyrkias': 164, 'tyrkisk': 165, 'tyrkiske': 166, 'tyskland': 167, 'uke': 168, 'unge': 169, 'usa': 170, 'usas': 171, 'utenriksminister': 172, 'varslet': 173, 'verden': 174, 'verdens': 175, 'vet': 176, 'vårt': 177, 'ytterliggående': 178, 'øke': 179, 'økonomiske': 180, 'ønsker': 181}\n",
            "shape: (1, 1)\n",
            "┌────────┐\n",
            "│ tokens │\n",
            "│ ---    │\n",
            "│ str    │\n",
            "╞════════╡\n",
            "│ styrke │\n",
            "└────────┘\n",
            "[(0, 1), (1, 1), (2, 1), (3, 1), (4, 1), (5, 1), (6, 1), (7, 1), (8, 1), (9, 1), (10, 1), (11, 1), (12, 1), (13, 1), (14, 1), (15, 1), (16, 1), (17, 1), (18, 1), (19, 1), (20, 1), (21, 1), (22, 1), (23, 1), (24, 1), (25, 1), (26, 1), (27, 1), (28, 1), (29, 1)]\n"
          ]
        },
        {
          "output_type": "stream",
          "name": "stderr",
          "text": [
            "/usr/local/lib/python3.10/dist-packages/ipykernel/ipkernel.py:283: DeprecationWarning: `should_run_async` will not call `transform_cell` automatically in the future. Please pass the result to `transformed_cell` argument and any exception that happen during thetransform in `preprocessing_exc_tuple` in IPython 7.17 and above.\n",
            "  and should_run_async(code)\n"
          ]
        }
      ],
      "source": [
        "# Create dictionary from cleaned list of words\n",
        "\n",
        "from gensim.corpora import Dictionary\n",
        "\n",
        "df = pl.DataFrame(cleaned_list[\"tokens\"]) # unfiltered, not only top five altså\n",
        "dictionary = Dictionary(df)\n",
        "\n",
        "print(dictionary.token2id)\n",
        "\n",
        "# Term-document frequency - bag of words\n",
        "corpus = [dictionary.doc2bow(text) for text in df]\n",
        "\n",
        "# See the text and how it looks like an embedding\n",
        "print(df[:1][0][:30])\n",
        "print(corpus[:1][0][:30])"
      ]
    },
    {
      "cell_type": "markdown",
      "metadata": {
        "id": "O8R06JZYJG96"
      },
      "source": [
        "# Exploratory analysis"
      ]
    },
    {
      "cell_type": "markdown",
      "metadata": {
        "id": "KVUxsNeIJLBg"
      },
      "source": [
        "##### Word cloud"
      ]
    },
    {
      "cell_type": "code",
      "execution_count": null,
      "metadata": {
        "id": "KFuAHeH3JNzq"
      },
      "outputs": [],
      "source": [
        "from wordcloud import WordCloud"
      ]
    },
    {
      "cell_type": "code",
      "execution_count": null,
      "metadata": {
        "colab": {
          "base_uri": "https://localhost:8080/"
        },
        "id": "aR3-KJD0gH6z",
        "outputId": "9b68ca03-a2ca-4dea-f152-ee658b909247"
      },
      "outputs": [
        {
          "name": "stdout",
          "output_type": "stream",
          "text": [
            "Get statistics for articles and relevant articles. Spacy files.\n"
          ]
        }
      ],
      "source": [
        "years = [2019, 2017, 2018]\n",
        "\n",
        "print('Get statistics for articles and relevant articles. Spacy files.')\n",
        "\n",
        "def get_wordcloud(year):\n",
        "  print('year:', year)\n",
        "  print('\\n')\n",
        "  file_path = f'/content/drive/MyDrive/Thesis/Data/{year}/spacy'\n",
        "\n",
        "  n = len([f for f in os.listdir(file_path) if os.path.isfile(os.path.join(file_path, f))])+1\n",
        "  print('No. of files to traverse:',n-1)\n",
        "\n",
        "  all_articles = combine_data_files(year, n, )\n",
        "  print('Getting lemmas from all articles..')\n",
        "  articles =  get_lemmas_from_spacy_files(all_articles, 'syntax', False) # Last param = False: Output is not in array form, but in string. True: output is in array form\n",
        "  print('Extracting relevant articles based on topic terms..\\n')\n",
        "  relevant_articles = match_for_articles(articles, topic_terms, False) # Last param = False: Output is not in array form, but in string. True: output is in array form\n",
        "\n",
        "  article = ''.join(list(relevant_articles['article']))\n",
        "\n",
        "  # Print stats\n",
        "  print(f'No. of all articles in {year}',len(all_articles)) # total articles\n",
        "  print(f'No. of relevant articles in {year}',len(relevant_articles)) # total muslim related articles\n",
        "\n",
        "  return article"
      ]
    },
    {
      "cell_type": "code",
      "execution_count": null,
      "metadata": {
        "colab": {
          "base_uri": "https://localhost:8080/"
        },
        "id": "Y40XIHPloNnE",
        "outputId": "ff1a4856-4dde-4609-8a39-95ee4bb0c7c8",
        "collapsed": true
      },
      "outputs": [
        {
          "output_type": "execute_result",
          "data": {
            "text/plain": [
              "'e'"
            ],
            "application/vnd.google.colaboratory.intrinsic+json": {
              "type": "string"
            }
          },
          "metadata": {},
          "execution_count": 111
        }
      ],
      "source": [
        "# article = get_wordcloud(2017)\n",
        "a_df = pl.read_csv('/content/target_terms_articles_with_bi_and_trigrams.csv')\n",
        "a_df2 = a_df.with_columns(pl.col('article').str.replace_all(\"'\", \"\"))\n",
        "article = ''.join(list(a_df2['article']))\n",
        "# article[5]"
      ]
    },
    {
      "cell_type": "code",
      "source": [
        "d = {}\n",
        "for a, x in bag.values:\n",
        "    d[a] = x\n",
        "\n",
        "import matplotlib.pyplot as plt\n",
        "from wordcloud import WordCloud\n",
        "\n",
        "wordcloud = WordCloud()\n",
        "wordcloud.generate_from_frequencies(frequencies=d)\n",
        "plt.figure()\n",
        "plt.imshow(wordcloud, interpolation=\"bilinear\")\n",
        "plt.axis(\"off\")\n",
        "plt.show()"
      ],
      "metadata": {
        "id": "eqW3yLFSbhIE"
      },
      "execution_count": null,
      "outputs": []
    },
    {
      "cell_type": "code",
      "execution_count": null,
      "metadata": {
        "id": "hxoQJb3PnsMM",
        "colab": {
          "base_uri": "https://localhost:8080/"
        },
        "collapsed": true,
        "outputId": "742e2b8c-790e-4726-b495-d7cfae5b2ac2"
      },
      "outputs": [
        {
          "output_type": "stream",
          "name": "stdout",
          "text": [
            "dict_keys(['muslimer', 'islam', 'norge', 'landet', 'usa', 'tyrkiske', 'tyrkia', 'iran', 'iranske', 'muslimske', 'angrep', 'moskeen', 'angrepet', 'syria', 'skriver', 'politiet', 'trump', 'tyrkiske_myndigheter', 'ønsker', 'byen', 'hijab', 'støtte', 'muslim', 'tyrkisk', 'land', 'folk', 'europa', 'regjeringen', 'kvinner', 'verden', 'erdogan', 'irakiske', 'drept', 'prosent', 'tyrkerne', 'opplyser', 'barn', 'mannen', 'leder', 'afghanske', 'muslimene', 'pakistanske', 'personer', 'iranske myndigheter', 'hevder', 'afghanistan', 'taliban', 'dagen', 'saudiarabia', 'amerikanske'])\n"
          ]
        },
        {
          "output_type": "execute_result",
          "data": {
            "text/plain": [
              "<PIL.Image.Image image mode=RGB size=1000x800>"
            ],
            "image/png": "[encoded data removed]"
          },
          "metadata": {},
          "execution_count": 96
        }
      ],
      "source": [
        "wordcloud = WordCloud(background_color=\"white\", max_words=50, contour_width=10, contour_color='steelblue', width=1000, height=800)\n",
        "wordcloud.generate(article)\n",
        "print(wordcloud.words_.keys())\n",
        "wordcloud.to_image()"
      ]
    },
    {
      "cell_type": "markdown",
      "metadata": {
        "id": "mY8QGzTNvXv2"
      },
      "source": [
        "##### Stats\n",
        "\n",
        "* How many articles per year, of these how many about muslims\n",
        "* how many articles per year per news paper, of these how many about muslims\n",
        "* What year are most articles published for all newspapers, of these how many about muslims\n",
        "* What month in that year has the most articles published"
      ]
    },
    {
      "cell_type": "code",
      "execution_count": null,
      "metadata": {
        "id": "FcoKMk8iczNC"
      },
      "outputs": [],
      "source": [
        "from datetime import datetime\n",
        "\n",
        "def convert_dates(df):\n",
        "  dates = []\n",
        "  newssites = []\n",
        "\n",
        "  for row in df.rows(named=True):\n",
        "    row_date = row['date']\n",
        "    try:\n",
        "      date = datetime.strptime(row_date,'%d.%m.%Y').date()\n",
        "      dates.append(date.month)\n",
        "      newssites.append(row['newssite'])\n",
        "    except Exception as e:\n",
        "      print(f'Could not parse {row_date}. Error: {e}')\n",
        "      continue\n",
        "\n",
        "  dates_df = pl.DataFrame({'month':dates,'newssite':newssites})\n",
        "  return dates_df"
      ]
    },
    {
      "cell_type": "code",
      "execution_count": null,
      "metadata": {
        "collapsed": true,
        "id": "EJXMaChSaEtR",
        "colab": {
          "base_uri": "https://localhost:8080/",
          "height": 559
        },
        "outputId": "4e333ffe-295c-4b4e-ac99-ca24f97ee78b"
      },
      "outputs": [
        {
          "output_type": "stream",
          "name": "stdout",
          "text": [
            "Get statistics for articles and relevant articles. Spacy files.\n",
            "year: 2017\n",
            "\n",
            "\n",
            "No. of files to traverse: 119\n",
            "20\n",
            "40\n",
            "60\n",
            "80\n",
            "100\n"
          ]
        },
        {
          "output_type": "error",
          "ename": "KeyboardInterrupt",
          "evalue": "",
          "traceback": [
            "\u001b[0;31m---------------------------------------------------------------------------\u001b[0m",
            "\u001b[0;31mKeyboardInterrupt\u001b[0m                         Traceback (most recent call last)",
            "\u001b[0;32m<ipython-input-18-b09e7ce0e3d0>\u001b[0m in \u001b[0;36m<cell line: 4>\u001b[0;34m()\u001b[0m\n\u001b[1;32m     10\u001b[0m   \u001b[0mprint\u001b[0m\u001b[0;34m(\u001b[0m\u001b[0;34m'No. of files to traverse:'\u001b[0m\u001b[0;34m,\u001b[0m\u001b[0mn\u001b[0m\u001b[0;34m-\u001b[0m\u001b[0;36m1\u001b[0m\u001b[0;34m)\u001b[0m\u001b[0;34m\u001b[0m\u001b[0;34m\u001b[0m\u001b[0m\n\u001b[1;32m     11\u001b[0m \u001b[0;34m\u001b[0m\u001b[0m\n\u001b[0;32m---> 12\u001b[0;31m   \u001b[0mall_articles\u001b[0m \u001b[0;34m=\u001b[0m \u001b[0mcombine_data_files\u001b[0m\u001b[0;34m(\u001b[0m\u001b[0myear\u001b[0m\u001b[0;34m,\u001b[0m \u001b[0mn\u001b[0m\u001b[0;34m)\u001b[0m\u001b[0;34m\u001b[0m\u001b[0;34m\u001b[0m\u001b[0m\n\u001b[0m\u001b[1;32m     13\u001b[0m   \u001b[0mprint\u001b[0m\u001b[0;34m(\u001b[0m\u001b[0;34m'Getting lemmas from all articles..'\u001b[0m\u001b[0;34m)\u001b[0m\u001b[0;34m\u001b[0m\u001b[0;34m\u001b[0m\u001b[0m\n\u001b[1;32m     14\u001b[0m   \u001b[0marticles\u001b[0m \u001b[0;34m=\u001b[0m  \u001b[0mget_lemmas_from_spacy_files\u001b[0m\u001b[0;34m(\u001b[0m\u001b[0mall_articles\u001b[0m\u001b[0;34m,\u001b[0m \u001b[0;34m'syntax'\u001b[0m\u001b[0;34m,\u001b[0m \u001b[0;32mTrue\u001b[0m\u001b[0;34m)\u001b[0m \u001b[0;31m# Last param = False: Output is not in array form, but in string. True: output is in array form\u001b[0m\u001b[0;34m\u001b[0m\u001b[0;34m\u001b[0m\u001b[0m\n",
            "\u001b[0;32m<ipython-input-15-676ee4dfaaf8>\u001b[0m in \u001b[0;36mcombine_data_files\u001b[0;34m(year, end)\u001b[0m\n\u001b[1;32m      8\u001b[0m       \u001b[0mprint\u001b[0m\u001b[0;34m(\u001b[0m\u001b[0mi\u001b[0m\u001b[0;34m)\u001b[0m\u001b[0;34m\u001b[0m\u001b[0;34m\u001b[0m\u001b[0m\n\u001b[1;32m      9\u001b[0m     \u001b[0mread_df\u001b[0m \u001b[0;34m=\u001b[0m \u001b[0mpl\u001b[0m\u001b[0;34m.\u001b[0m\u001b[0mread_csv\u001b[0m\u001b[0;34m(\u001b[0m\u001b[0;34mf'{base_url}/spacy/{year}-{i}-spacy.csv'\u001b[0m\u001b[0;34m)\u001b[0m\u001b[0;34m\u001b[0m\u001b[0;34m\u001b[0m\u001b[0m\n\u001b[0;32m---> 10\u001b[0;31m     \u001b[0mdf\u001b[0m \u001b[0;34m=\u001b[0m \u001b[0mpl\u001b[0m\u001b[0;34m.\u001b[0m\u001b[0mconcat\u001b[0m\u001b[0;34m(\u001b[0m\u001b[0;34m[\u001b[0m\u001b[0mdf\u001b[0m\u001b[0;34m,\u001b[0m \u001b[0mread_df\u001b[0m\u001b[0;34m]\u001b[0m\u001b[0;34m)\u001b[0m\u001b[0;34m\u001b[0m\u001b[0;34m\u001b[0m\u001b[0m\n\u001b[0m\u001b[1;32m     11\u001b[0m \u001b[0;34m\u001b[0m\u001b[0m\n\u001b[1;32m     12\u001b[0m   \u001b[0;32mreturn\u001b[0m \u001b[0mdf\u001b[0m\u001b[0;34m\u001b[0m\u001b[0;34m\u001b[0m\u001b[0m\n",
            "\u001b[0;32m/usr/local/lib/python3.10/dist-packages/polars/functions/eager.py\u001b[0m in \u001b[0;36mconcat\u001b[0;34m(items, how, rechunk, parallel)\u001b[0m\n\u001b[1;32m    247\u001b[0m \u001b[0;34m\u001b[0m\u001b[0m\n\u001b[1;32m    248\u001b[0m     \u001b[0;32mif\u001b[0m \u001b[0mrechunk\u001b[0m\u001b[0;34m:\u001b[0m\u001b[0;34m\u001b[0m\u001b[0;34m\u001b[0m\u001b[0m\n\u001b[0;32m--> 249\u001b[0;31m         \u001b[0;32mreturn\u001b[0m \u001b[0mout\u001b[0m\u001b[0;34m.\u001b[0m\u001b[0mrechunk\u001b[0m\u001b[0;34m(\u001b[0m\u001b[0;34m)\u001b[0m\u001b[0;34m\u001b[0m\u001b[0;34m\u001b[0m\u001b[0m\n\u001b[0m\u001b[1;32m    250\u001b[0m     \u001b[0;32mreturn\u001b[0m \u001b[0mout\u001b[0m\u001b[0;34m\u001b[0m\u001b[0;34m\u001b[0m\u001b[0m\n\u001b[1;32m    251\u001b[0m \u001b[0;34m\u001b[0m\u001b[0m\n",
            "\u001b[0;32m/usr/local/lib/python3.10/dist-packages/polars/dataframe/frame.py\u001b[0m in \u001b[0;36mrechunk\u001b[0;34m(self)\u001b[0m\n\u001b[1;32m   9144\u001b[0m         \u001b[0mperformance\u001b[0m\u001b[0;34m.\u001b[0m\u001b[0;34m\u001b[0m\u001b[0;34m\u001b[0m\u001b[0m\n\u001b[1;32m   9145\u001b[0m         \"\"\"\n\u001b[0;32m-> 9146\u001b[0;31m         \u001b[0;32mreturn\u001b[0m \u001b[0mself\u001b[0m\u001b[0;34m.\u001b[0m\u001b[0m_from_pydf\u001b[0m\u001b[0;34m(\u001b[0m\u001b[0mself\u001b[0m\u001b[0;34m.\u001b[0m\u001b[0m_df\u001b[0m\u001b[0;34m.\u001b[0m\u001b[0mrechunk\u001b[0m\u001b[0;34m(\u001b[0m\u001b[0;34m)\u001b[0m\u001b[0;34m)\u001b[0m\u001b[0;34m\u001b[0m\u001b[0;34m\u001b[0m\u001b[0m\n\u001b[0m\u001b[1;32m   9147\u001b[0m \u001b[0;34m\u001b[0m\u001b[0m\n\u001b[1;32m   9148\u001b[0m     \u001b[0;32mdef\u001b[0m \u001b[0mnull_count\u001b[0m\u001b[0;34m(\u001b[0m\u001b[0mself\u001b[0m\u001b[0;34m)\u001b[0m \u001b[0;34m->\u001b[0m \u001b[0mSelf\u001b[0m\u001b[0;34m:\u001b[0m\u001b[0;34m\u001b[0m\u001b[0;34m\u001b[0m\u001b[0m\n",
            "\u001b[0;31mKeyboardInterrupt\u001b[0m: "
          ]
        }
      ],
      "source": [
        "years = [2017, 2018]\n",
        "\n",
        "print('Get statistics for articles and relevant articles. Spacy files.')\n",
        "for year in years:\n",
        "  print('year:', year)\n",
        "  print('\\n')\n",
        "  file_path = f'/content/drive/MyDrive/Thesis/Data/{year}/spacy'\n",
        "\n",
        "  n = len([f for f in os.listdir(file_path) if os.path.isfile(os.path.join(file_path, f))])+1\n",
        "  print('No. of files to traverse:',n-1)\n",
        "\n",
        "  all_articles = combine_data_files(year, n)\n",
        "  print('Getting lemmas from all articles..')\n",
        "  articles =  get_lemmas_from_spacy_files(all_articles, 'syntax', True) # Last param = False: Output is not in array form, but in string. True: output is in array form\n",
        "  print('Extracting relevant articles based on topic terms..\\n')\n",
        "  relevant_articles = match_for_articles(articles, all_target_terms, True) # Last param = False: Output is not in array form, but in string. True: output is in array form\n",
        "\n",
        "  # Print stats\n",
        "  print(f'No. of all articles in {year}',len(all_articles)) # total articles\n",
        "  print(f'No. of relevant articles in {year}',len(relevant_articles)) # total muslim related articles\n",
        "\n",
        "  per_newspaper = all_articles['newssite'].value_counts(sort=True)\n",
        "  print(f'Per newspaper for all articles in {year}',per_newspaper.head(10))\n",
        "\n",
        "  per_newspaper = relevant_articles['newssite'].value_counts(sort=True)\n",
        "  print(f'Per newspapers relevant articles in {year}',per_newspaper.head(10))\n",
        "\n",
        "  article_dates = convert_dates(all_articles)\n",
        "  relevant_dates = convert_dates(relevant_articles)\n",
        "\n",
        "  per_month = relevant_dates['month'].value_counts(sort=True)\n",
        "  print(f'Relevant articles dates in {year}:', per_month.head(12))\n",
        "\n",
        "  per_month = article_dates['month'].value_counts(sort=True)\n",
        "  print(f'all article dates in {year}', per_month.head(12))\n",
        "  print('============================================\\n')"
      ]
    },
    {
      "cell_type": "code",
      "source": [
        "file_path = f'/content/drive/MyDrive/Thesis/Data/2017/spacy'\n",
        "n = len([f for f in os.listdir(file_path) if os.path.isfile(os.path.join(file_path, f))])+1\n",
        "print('No. of files to traverse:',n-1)\n",
        "\n",
        "all_articles = combine_data_files(year, n)\n",
        "print('Getting lemmas from all articles..')\n",
        "articles =  get_lemmas_from_spacy_files(all_articles, 'syntax', True) # Last param = False: Output is not in array form, but in string. True: output is in array form\n",
        "print('Extracting relevant articles based on topic terms..\\n')\n",
        "relevant_articles = match_for_articles(articles, all_target_terms, True) # Last param = False: Output is not in array form, but in string. True: output is in array form\n",
        "\n"
      ],
      "metadata": {
        "colab": {
          "base_uri": "https://localhost:8080/",
          "height": 369
        },
        "collapsed": true,
        "id": "-fhGtvhtpO_1",
        "outputId": "34dcad5a-667b-4be6-f0e8-618b299ebc5e"
      },
      "execution_count": null,
      "outputs": [
        {
          "output_type": "stream",
          "name": "stdout",
          "text": [
            "No. of files to traverse: 119\n",
            "20\n",
            "40\n",
            "60\n",
            "80\n",
            "100\n",
            "Getting lemmas from all articles..\n",
            "Extracting relevant articles based on topic terms..\n",
            "\n"
          ]
        },
        {
          "output_type": "error",
          "ename": "NameError",
          "evalue": "name 'all_target_terms' is not defined",
          "traceback": [
            "\u001b[0;31m---------------------------------------------------------------------------\u001b[0m",
            "\u001b[0;31mNameError\u001b[0m                                 Traceback (most recent call last)",
            "\u001b[0;32m<ipython-input-19-68374d0814a5>\u001b[0m in \u001b[0;36m<cell line: 9>\u001b[0;34m()\u001b[0m\n\u001b[1;32m      7\u001b[0m \u001b[0marticles\u001b[0m \u001b[0;34m=\u001b[0m  \u001b[0mget_lemmas_from_spacy_files\u001b[0m\u001b[0;34m(\u001b[0m\u001b[0mall_articles\u001b[0m\u001b[0;34m,\u001b[0m \u001b[0;34m'syntax'\u001b[0m\u001b[0;34m,\u001b[0m \u001b[0;32mTrue\u001b[0m\u001b[0;34m)\u001b[0m \u001b[0;31m# Last param = False: Output is not in array form, but in string. True: output is in array form\u001b[0m\u001b[0;34m\u001b[0m\u001b[0;34m\u001b[0m\u001b[0m\n\u001b[1;32m      8\u001b[0m \u001b[0mprint\u001b[0m\u001b[0;34m(\u001b[0m\u001b[0;34m'Extracting relevant articles based on topic terms..\\n'\u001b[0m\u001b[0;34m)\u001b[0m\u001b[0;34m\u001b[0m\u001b[0;34m\u001b[0m\u001b[0m\n\u001b[0;32m----> 9\u001b[0;31m \u001b[0mrelevant_articles\u001b[0m \u001b[0;34m=\u001b[0m \u001b[0mmatch_for_articles\u001b[0m\u001b[0;34m(\u001b[0m\u001b[0marticles\u001b[0m\u001b[0;34m,\u001b[0m \u001b[0mall_target_terms\u001b[0m\u001b[0;34m,\u001b[0m \u001b[0;32mTrue\u001b[0m\u001b[0;34m)\u001b[0m \u001b[0;31m# Last param = False: Output is not in array form, but in string. True: output is in array form\u001b[0m\u001b[0;34m\u001b[0m\u001b[0;34m\u001b[0m\u001b[0m\n\u001b[0m\u001b[1;32m     10\u001b[0m \u001b[0;34m\u001b[0m\u001b[0m\n",
            "\u001b[0;31mNameError\u001b[0m: name 'all_target_terms' is not defined"
          ]
        }
      ]
    },
    {
      "cell_type": "code",
      "source": [
        "relevant_articles = match_for_articles(articles, (target_terms + target_terms_nationalities + target_terms_norsk), True) # Last param = False: Output is not in array form, but in string. True: output is in array form"
      ],
      "metadata": {
        "colab": {
          "base_uri": "https://localhost:8080/"
        },
        "id": "COVrioO8rCkb",
        "outputId": "851c4703-f96c-444c-f8a8-6fb22406a6fc"
      },
      "execution_count": null,
      "outputs": [
        {
          "output_type": "stream",
          "name": "stdout",
          "text": [
            "Total rows to traverse: 179872\n",
            "Rows traversed: 0\n",
            "Rows traversed: 100000\n"
          ]
        }
      ]
    },
    {
      "cell_type": "markdown",
      "source": [
        "###### Only for 2017 - relevant articles - adresseavisa"
      ],
      "metadata": {
        "id": "-oXtPuNtp0vk"
      }
    },
    {
      "cell_type": "code",
      "source": [
        "# Print stats\n",
        "print(f'No. of all articles in {year}',len(all_articles)) # total articles\n",
        "print(f'No. of relevant articles in {year}',len(relevant_articles)) # total muslim related articles\n",
        "\n",
        "per_newspaper = all_articles['newssite'].value_counts(sort=True)\n",
        "print(f'Per newspaper for all articles in {year}',per_newspaper.head(10))\n",
        "\n",
        "per_newspaper = relevant_articles['newssite'].value_counts(sort=True)\n",
        "print(f'Per newspapers relevant articles in {year}',per_newspaper.head(10))\n",
        "\n",
        "article_dates = convert_dates(all_articles)\n",
        "relevant_dates = convert_dates(relevant_articles)\n",
        "\n",
        "per_month = relevant_dates['month'].value_counts(sort=True)\n",
        "print(f'Relevant articles dates in {year}:', per_month.head(12))\n",
        "\n",
        "per_month = article_dates['month'].value_counts(sort=True)\n",
        "print(f'all article dates in {year}', per_month.head(12))\n",
        "print('============================================\\n')"
      ],
      "metadata": {
        "colab": {
          "base_uri": "https://localhost:8080/"
        },
        "collapsed": true,
        "id": "R72zsh-yp0DS",
        "outputId": "cec1dd7b-df74-4b13-a72e-4d98965f7585"
      },
      "execution_count": null,
      "outputs": [
        {
          "output_type": "stream",
          "name": "stdout",
          "text": [
            "No. of all articles in 2017 179872\n",
            "No. of relevant articles in 2017 6219\n",
            "Per newspaper for all articles in 2017 shape: (10, 2)\n",
            "┌──────────┬───────┐\n",
            "│ newssite ┆ count │\n",
            "│ ---      ┆ ---   │\n",
            "│ str      ┆ u32   │\n",
            "╞══════════╪═══════╡\n",
            "│ ap       ┆ 32422 │\n",
            "│ db       ┆ 29730 │\n",
            "│ aa       ┆ 28702 │\n",
            "│ vg       ┆ 21988 │\n",
            "│ …        ┆ …     │\n",
            "│ da       ┆ 13717 │\n",
            "│ bt       ┆ 10034 │\n",
            "│ nl       ┆ 5380  │\n",
            "│ fv       ┆ 5134  │\n",
            "└──────────┴───────┘\n",
            "Per newspapers relevant articles in 2017 shape: (10, 2)\n",
            "┌──────────┬───────┐\n",
            "│ newssite ┆ count │\n",
            "│ ---      ┆ ---   │\n",
            "│ str      ┆ u32   │\n",
            "╞══════════╪═══════╡\n",
            "│ aa       ┆ 1803  │\n",
            "│ db       ┆ 1082  │\n",
            "│ ap       ┆ 944   │\n",
            "│ vg       ┆ 923   │\n",
            "│ …        ┆ …     │\n",
            "│ sa       ┆ 276   │\n",
            "│ bt       ┆ 240   │\n",
            "│ fv       ┆ 50    │\n",
            "│ nl       ┆ 48    │\n",
            "└──────────┴───────┘\n",
            "Could not parse None. Error: strptime() argument 1 must be str, not None\n",
            "Could not parse None. Error: strptime() argument 1 must be str, not None\n",
            "Could not parse None. Error: strptime() argument 1 must be str, not None\n",
            "Could not parse None. Error: strptime() argument 1 must be str, not None\n",
            "Could not parse None. Error: strptime() argument 1 must be str, not None\n",
            "Could not parse None. Error: strptime() argument 1 must be str, not None\n",
            "Could not parse None. Error: strptime() argument 1 must be str, not None\n",
            "Could not parse None. Error: strptime() argument 1 must be str, not None\n",
            "Could not parse None. Error: strptime() argument 1 must be str, not None\n",
            "Could not parse None. Error: strptime() argument 1 must be str, not None\n",
            "Could not parse None. Error: strptime() argument 1 must be str, not None\n",
            "Could not parse None. Error: strptime() argument 1 must be str, not None\n",
            "Could not parse None. Error: strptime() argument 1 must be str, not None\n",
            "Could not parse None. Error: strptime() argument 1 must be str, not None\n",
            "Could not parse None. Error: strptime() argument 1 must be str, not None\n",
            "Could not parse None. Error: strptime() argument 1 must be str, not None\n",
            "Could not parse None. Error: strptime() argument 1 must be str, not None\n",
            "Could not parse None. Error: strptime() argument 1 must be str, not None\n",
            "Could not parse None. Error: strptime() argument 1 must be str, not None\n",
            "Could not parse None. Error: strptime() argument 1 must be str, not None\n",
            "Could not parse None. Error: strptime() argument 1 must be str, not None\n",
            "Could not parse None. Error: strptime() argument 1 must be str, not None\n",
            "Could not parse None. Error: strptime() argument 1 must be str, not None\n",
            "Could not parse None. Error: strptime() argument 1 must be str, not None\n",
            "Could not parse None. Error: strptime() argument 1 must be str, not None\n",
            "Could not parse None. Error: strptime() argument 1 must be str, not None\n",
            "Could not parse None. Error: strptime() argument 1 must be str, not None\n",
            "Could not parse None. Error: strptime() argument 1 must be str, not None\n",
            "Could not parse None. Error: strptime() argument 1 must be str, not None\n",
            "Could not parse None. Error: strptime() argument 1 must be str, not None\n",
            "Could not parse None. Error: strptime() argument 1 must be str, not None\n",
            "Could not parse None. Error: strptime() argument 1 must be str, not None\n",
            "Could not parse None. Error: strptime() argument 1 must be str, not None\n",
            "Could not parse None. Error: strptime() argument 1 must be str, not None\n",
            "Could not parse None. Error: strptime() argument 1 must be str, not None\n",
            "Could not parse None. Error: strptime() argument 1 must be str, not None\n",
            "Could not parse None. Error: strptime() argument 1 must be str, not None\n",
            "Could not parse None. Error: strptime() argument 1 must be str, not None\n",
            "Could not parse None. Error: strptime() argument 1 must be str, not None\n",
            "Could not parse None. Error: strptime() argument 1 must be str, not None\n",
            "Could not parse None. Error: strptime() argument 1 must be str, not None\n",
            "Could not parse  men jeg håper han skal være her i hele min landslagskarriere i hvert fall. Jeg håper virkelig at han har fornuft nok til å fortsette å være med oss. Error: time data ' men jeg håper han skal være her i hele min landslagskarriere i hvert fall. Jeg håper virkelig at han har fornuft nok til å fortsette å være med oss' does not match format '%d.%m.%Y'\n",
            "Relevant articles dates in 2017: shape: (12, 2)\n",
            "┌───────┬───────┐\n",
            "│ month ┆ count │\n",
            "│ ---   ┆ ---   │\n",
            "│ i64   ┆ u32   │\n",
            "╞═══════╪═══════╡\n",
            "│ 3     ┆ 817   │\n",
            "│ 1     ┆ 710   │\n",
            "│ 6     ┆ 682   │\n",
            "│ 2     ┆ 616   │\n",
            "│ …     ┆ …     │\n",
            "│ 9     ┆ 404   │\n",
            "│ 7     ┆ 403   │\n",
            "│ 11    ┆ 371   │\n",
            "│ 12    ┆ 279   │\n",
            "└───────┴───────┘\n",
            "all article dates in 2017 shape: (12, 2)\n",
            "┌───────┬───────┐\n",
            "│ month ┆ count │\n",
            "│ ---   ┆ ---   │\n",
            "│ i64   ┆ u32   │\n",
            "╞═══════╪═══════╡\n",
            "│ 1     ┆ 18334 │\n",
            "│ 3     ┆ 17006 │\n",
            "│ 2     ┆ 15972 │\n",
            "│ 5     ┆ 15306 │\n",
            "│ …     ┆ …     │\n",
            "│ 9     ┆ 14538 │\n",
            "│ 12    ┆ 13829 │\n",
            "│ 4     ┆ 13731 │\n",
            "│ 7     ┆ 11848 │\n",
            "└───────┴───────┘\n",
            "============================================\n",
            "\n"
          ]
        }
      ]
    },
    {
      "cell_type": "code",
      "source": [
        "# relevant_articles.head()\n",
        "pl.Config.set_fmt_str_lengths(200)\n",
        "pl.Config.set_tbl_rows(20)\n",
        "aa_articles = relevant_articles.filter(pl.col(\"newssite\") == 'aa')\n",
        "top_10_terms = aa_articles['relevant_term'].value_counts(sort=True)[:10]\n",
        "print(aa_articles.head(10))\n",
        "print(top_10_terms)\n",
        "print(relevant_dates.filter(pl.col(\"newssite\") == 'aa')['month'].value_counts(sort=True).head())"
      ],
      "metadata": {
        "colab": {
          "base_uri": "https://localhost:8080/"
        },
        "id": "mPQhcCYTp4mU",
        "outputId": "1743d701-d328-48af-f897-eb28ab4e261c",
        "collapsed": true
      },
      "execution_count": null,
      "outputs": [
        {
          "output_type": "stream",
          "name": "stdout",
          "text": [
            "shape: (10, 4)\n",
            "┌──────────┬────────────┬──────────────────────────────────────────────┬───────────────┐\n",
            "│ newssite ┆ date       ┆ article                                      ┆ relevant_term │\n",
            "│ ---      ┆ ---        ┆ ---                                          ┆ ---           │\n",
            "│ str      ┆ str        ┆ list[str]                                    ┆ str           │\n",
            "╞══════════╪════════════╪══════════════════════════════════════════════╪═══════════════╡\n",
            "│ aa       ┆ 19.04.2017 ┆ [\"europarådet\", \"godta\", … \"©ntb\"]           ┆ tyrkisk       │\n",
            "│ aa       ┆ 27.09.2017 ┆ [\"ankomme\", \"kabul\", … \"©ntb\"]               ┆ afghansk      │\n",
            "│ aa       ┆ 20.02.2017 ┆ [\"pen\", \"nasjonal\", … \"©ntb\"]                ┆ islamsk       │\n",
            "│ aa       ┆ 26.07.2017 ┆ [\"innvandringsminister\", \"sylvi\", … \"for\"]   ┆ hijab         │\n",
            "│ aa       ┆ 09.05.2017 ┆ [\"våge\", \"modig\", … \"©ntb\"]                  ┆ norsksomalisk │\n",
            "│ aa       ┆ 01.03.2017 ┆ [\"wilders\", \"opplyse\", … \"©ntb\"]             ┆ marokkansk    │\n",
            "│ aa       ┆ 29.03.2017 ┆ [\"ungene\", \"spørre\", … \"trondheim\"]          ┆ tyrkisk       │\n",
            "│ aa       ┆ 15.03.2017 ┆ [\"jente\", \"drepe\", … \"©ntb\"]                 ┆ islamsk       │\n",
            "│ aa       ┆ 26.10.2017 ┆ [\"abadi\", \"kurdisk\", … \"©ntb\"]               ┆ irakisk       │\n",
            "│ aa       ┆ 20.11.2017 ┆ [\"spvedtak\", \"tvangsreturnerte\", … \"arrest\"] ┆ afghaner      │\n",
            "└──────────┴────────────┴──────────────────────────────────────────────┴───────────────┘\n",
            "shape: (10, 2)\n",
            "┌───────────────┬───────┐\n",
            "│ relevant_term ┆ count │\n",
            "│ ---           ┆ ---   │\n",
            "│ str           ┆ u32   │\n",
            "╞═══════════════╪═══════╡\n",
            "│ tyrkisk       ┆ 345   │\n",
            "│ muslimsk      ┆ 273   │\n",
            "│ irakisk       ┆ 239   │\n",
            "│ afghansk      ┆ 140   │\n",
            "│ islamsk       ┆ 128   │\n",
            "│ muslim        ┆ 115   │\n",
            "│ iransk        ┆ 94    │\n",
            "│ islam         ┆ 80    │\n",
            "│ moské         ┆ 69    │\n",
            "│ somalisk      ┆ 58    │\n",
            "└───────────────┴───────┘\n",
            "shape: (5, 2)\n",
            "┌───────┬───────┐\n",
            "│ month ┆ count │\n",
            "│ ---   ┆ ---   │\n",
            "│ i64   ┆ u32   │\n",
            "╞═══════╪═══════╡\n",
            "│ 3     ┆ 291   │\n",
            "│ 6     ┆ 207   │\n",
            "│ 2     ┆ 200   │\n",
            "│ 1     ┆ 180   │\n",
            "│ 4     ┆ 156   │\n",
            "└───────┴───────┘\n"
          ]
        }
      ]
    }
  ]
}